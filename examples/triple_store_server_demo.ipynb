{
 "cells": [
  {
   "cell_type": "code",
   "execution_count": 1,
   "metadata": {},
   "outputs": [],
   "source": [
    "from typing import Dict, Set, Tuple\n",
    "import json\n",
    "import requests\n",
    "from rdflib import Graph, URIRef\n",
    "from rdflib.namespace import Namespace, OWL, RDF, RDFS"
   ]
  },
  {
   "cell_type": "markdown",
   "metadata": {},
   "source": [
    "## TODOs\n",
    "\n",
    "- Use only RDFlib Namespace, no tuple\n",
    "- Take out the functions"
   ]
  },
  {
   "cell_type": "markdown",
   "metadata": {},
   "source": [
    "## Explore the Information Retrieval Ontology\n",
    "\n",
    "Before anything, let us shortly explore what is in the IR ontology.\n",
    "The steps are:\n",
    "- Load the IR ontology\n",
    "- Query for the OWL classes\n",
    "- Query for the OWl object properties"
   ]
  },
  {
   "cell_type": "code",
   "execution_count": 18,
   "metadata": {},
   "outputs": [],
   "source": [
    "# Load the IR ontology into an RDFlib Graph\n",
    "ir_onto_graph = Graph()\n",
    "ir_onto_graph.parse(\"../information-retrieval-ontology.ttl\")\n",
    "ir_onto_ns = Namespace(\"http://www.msesboue.org/o/ir-ontology#\")\n",
    "ir_onto_graph.bind(prefix=\"ir-onto\", namespace=ir_onto_ns) # setup a namespace for nicer human readable display"
   ]
  },
  {
   "cell_type": "code",
   "execution_count": 3,
   "metadata": {},
   "outputs": [
    {
     "name": "stdout",
     "output_type": "stream",
     "text": [
      "ir-onto:IncompatibleSearch\n",
      "ir-onto:Search\n",
      "ir-onto:CandidateDocument\n",
      "ir-onto:Category\n",
      "ir-onto:Classification\n",
      "ir-onto:Document\n",
      "ir-onto:EnabledCategory\n",
      "ir-onto:IncompatibleDocument\n",
      "ir-onto:SearchContext\n",
      "ir-onto:SelectedCategory\n"
     ]
    }
   ],
   "source": [
    "query_namespaces = { # namespaces for nicer human readable display\n",
    "    \"owl\": OWL,\n",
    "    \"rdf\": RDF,\n",
    "    \"RDFS\": RDFS,\n",
    "    \"ir-onto\": ir_onto_ns\n",
    "}\n",
    "query_classes = \"\"\"\n",
    "    SELECT ?p\n",
    "    WHERE {\n",
    "        ?p rdf:type owl:Class .\n",
    "    }\n",
    "\"\"\"\n",
    "# Apply the query to the IR ontology graph and iterate through results\n",
    "for r in ir_onto_graph.query(query_classes, initBindings=query_namespaces):\n",
    "    print(r[\"p\"].n3(ir_onto_graph.namespace_manager))"
   ]
  },
  {
   "cell_type": "code",
   "execution_count": 4,
   "metadata": {},
   "outputs": [
    {
     "name": "stdout",
     "output_type": "stream",
     "text": [
      "ir-onto:hasSearchCategory\n",
      "ir-onto:categorizedBy\n",
      "ir-onto:categorizes\n",
      "ir-onto:enablesCategory\n",
      "ir-onto:hasSubcategory\n",
      "ir-onto:hasSupercategory\n",
      "ir-onto:isMemberOf\n"
     ]
    }
   ],
   "source": [
    "query_obj_props = \"\"\"\n",
    "    SELECT ?p\n",
    "    WHERE {\n",
    "        ?p rdf:type owl:ObjectProperty .\n",
    "    }\n",
    "\"\"\"\n",
    "\n",
    "# Apply the query to the graph and iterate through results\n",
    "for r in ir_onto_graph.query(query_obj_props, initBindings=query_namespaces):\n",
    "    print(r[\"p\"].n3(ir_onto_graph.namespace_manager))"
   ]
  },
  {
   "cell_type": "markdown",
   "metadata": {},
   "source": [
    "## Information Retrieval Ontology usage examples\n",
    "\n",
    "Let us now see some examples of what can we do with the IR ontology.\n",
    "\n",
    "For these demos we will use a triple store database in a server. \n",
    "Another tutorial will explore the same examples with in memory only requirements. \n",
    "These demos require OWL inference at query time. We chose the OntoText GraphDB triple store (v10.4.0): <https://graphdb.ontotext.com/documentation/10.0/index.html>. Hence, some pieces of code might be specific to the GraphDB APIs. We will try to flag those as much as possible. Once you the docker container is running you can see their Web API documentation there: <http://localhost:7200/webapi>.\n",
    "However, GraphDB implements the RDF4J REST API specification (<https://rdf4j.org/documentation/reference/rest-api/>). So we will try to make use of it as much as possible.\n",
    "\n",
    "We use the Docker GraphDB instance without any license (the GraphDB Free version). Hence, you will need to have Docker installed and running on your computer (See Docker installation procedure: <https://docs.docker.com/get-docker/>). Let's start from there.\n",
    "\n",
    "1. Download the GraphDB image: `docker pull ontotext/graphdb:10.4.0`\n",
    "   - OntoText related documentation pointers:\n",
    "     - <https://github.com/Ontotext-AD/graphdb-docker>\n",
    "     - <https://hub.docker.com/r/ontotext/graphdb/>\n",
    "2. Run the image: `docker run -p 127.0.0.1:7200:7200 --name graphdb-ir-onto -t ontotext/graphdb:10.4.0`\n",
    "3. From now on the rest is in the code."
   ]
  },
  {
   "cell_type": "code",
   "execution_count": 6,
   "metadata": {},
   "outputs": [
    {
     "name": "stdout",
     "output_type": "stream",
     "text": [
      "201\n",
      "\n"
     ]
    }
   ],
   "source": [
    "# Setting up the repository we will work with\n",
    "\n",
    "# Load the repository configuration (WARNING: specific to GraphDB)\n",
    "repo_config_graph = Graph()\n",
    "repo_config_graph.parse(\"./data/ir-onto-demo-graphdb-config.ttl\")\n",
    "repo_config_ttl_string = repo_config_graph.serialize(format=\"turtle\")\n",
    "\n",
    "headers = {\n",
    "    \"Accept\": \"application/json\",\n",
    "}\n",
    "data = {\n",
    "    \"config\": (\"config.ttl\", repo_config_ttl_string)\n",
    "}\n",
    "\n",
    "# Uses the GraphDB REST API (WARNING: specific to GraphDB)\n",
    "r = requests.post(\"http://localhost:7200/rest/repositories\", headers=headers, files=data)\n",
    "print(r.status_code)\n",
    "print(r.text)"
   ]
  },
  {
   "cell_type": "code",
   "execution_count": 7,
   "metadata": {},
   "outputs": [
    {
     "name": "stdout",
     "output_type": "stream",
     "text": [
      "200\n",
      "uri,id,title,readable,writable\n",
      "http://localhost:7200/repositories/ir-onto-demo,ir-onto-demo,,true,true\n",
      "\n"
     ]
    }
   ],
   "source": [
    "# Check that the repository is created\n",
    "r = requests.get('http://localhost:7200/repositories', headers={\"Content-type\": \"application/rdf+xml\"})\n",
    "print(r.status_code)\n",
    "print(r.text)"
   ]
  },
  {
   "cell_type": "markdown",
   "metadata": {},
   "source": [
    "### Some utility functions"
   ]
  },
  {
   "cell_type": "code",
   "execution_count": 52,
   "metadata": {},
   "outputs": [],
   "source": [
    "from typing import Optional\n",
    "\n",
    "\n",
    "DB_IP = \"localhost\"\n",
    "DB_PORT = \"7200\"\n",
    "DB_URL = f\"http://{DB_IP}:{DB_PORT}\"\n",
    "REPOSITORY_ID = \"ir-onto-demo\"\n",
    "\n",
    "def sparql_select(sparql_query: str, use_inference: bool=False) -> Dict:\n",
    "    \n",
    "    query_resp = requests.get(\n",
    "        f\"{DB_URL}/repositories/{REPOSITORY_ID}\",\n",
    "        headers={\"Accept\": \"application/sparql-results+json\"},\n",
    "        params={\n",
    "            \"query\": sparql_query,\n",
    "            \"infer\": use_inference\n",
    "        }\n",
    "    )\n",
    "\n",
    "    return query_resp\n",
    "\n",
    "def show_owl_classes(namespace: Optional[Tuple[str]]=None) -> None:\n",
    "\n",
    "    query_classes = \"\"\"\n",
    "            SELECT ?p\n",
    "            WHERE {\n",
    "                ?p rdf:type owl:Class .\n",
    "            }\n",
    "        \"\"\"\n",
    "    resp = sparql_select(sparql_query=query_classes)\n",
    "    json_resp = json.loads(resp.text)\n",
    "    class_uris = [binding[\"p\"][\"value\"] for binding in json_resp[\"results\"][\"bindings\"]]\n",
    "\n",
    "    if (namespace is not None) and (len(namespace)==2):\n",
    "        class_uris = [uri.replace(namespace[1], namespace[0] + \":\") for uri in class_uris]\n",
    "\n",
    "    for uri in class_uris:\n",
    "        print(uri)\n",
    "\n",
    "def show_owl_obj_props(namespace: Optional[Tuple[str]]=None) -> None:\n",
    "\n",
    "    query_classes = \"\"\"\n",
    "            SELECT ?p\n",
    "            WHERE {\n",
    "                ?p rdf:type owl:ObjectProperty .\n",
    "            }\n",
    "        \"\"\"\n",
    "    resp = sparql_select(sparql_query=query_classes)\n",
    "    json_resp = json.loads(resp.text)\n",
    "    class_uris = [binding[\"p\"][\"value\"] for binding in json_resp[\"results\"][\"bindings\"]]\n",
    "\n",
    "    if (namespace is not None) and (len(namespace)==2):\n",
    "        class_uris = [uri.replace(namespace[1], namespace[0] + \":\") for uri in class_uris]\n",
    "\n",
    "    for uri in class_uris:\n",
    "        print(uri)\n",
    "\n",
    "def show_instances(class_uri: str, namespace: Optional[Tuple[str]]=None, limit: int=100) -> None:\n",
    "    query_instances = f\"\"\"\n",
    "        PREFIX ir-onto: <http://www.msesboue.org/o/ir-ontology#>\n",
    "        SELECT ?p WHERE {{\n",
    "            ?p a <{class_uri}> .\n",
    "        }} LIMIT {limit}\n",
    "    \"\"\"\n",
    "    \n",
    "    resp = sparql_select(sparql_query=query_instances, use_inference=True)\n",
    "    json_resp = json.loads(resp.text)\n",
    "    class_uris = [binding[\"p\"][\"value\"] for binding in json_resp[\"results\"][\"bindings\"]]\n",
    "\n",
    "    if (namespace is not None) and (len(namespace)==2):\n",
    "        class_uris = [uri.replace(namespace[1], namespace[0] + \":\") for uri in class_uris]\n",
    "\n",
    "    print(f\"Instances of {class_uri}\")\n",
    "    for uri in class_uris:\n",
    "        print(uri)\n",
    "    print()\n",
    "\n",
    "def sparql_insert(sparql_query: str) -> None:\n",
    "    \n",
    "    query_resp = requests.post(\n",
    "        f\"{DB_URL}/repositories/{REPOSITORY_ID}/statements\",\n",
    "        headers={\"Content-type\": \"application/sparql-update\"},\n",
    "        data=sparql_query\n",
    "    )\n",
    "\n",
    "    if not query_resp.status_code == 204: # check that the triples have been created\n",
    "        print(f\"Something went wrong. HTTP response Code: {query_resp.status_code}\")\n",
    "        print(f\"HTTP response body: {query_resp.text}\")\n",
    "    else:\n",
    "        print(\"OK\")"
   ]
  },
  {
   "cell_type": "code",
   "execution_count": 9,
   "metadata": {},
   "outputs": [
    {
     "name": "stdout",
     "output_type": "stream",
     "text": [
      "OK\n"
     ]
    }
   ],
   "source": [
    "# Let us now load the IR ontology\n",
    "\n",
    "# RDF4J does not let you simply add an RDF file to a repository without \n",
    "# erasing what was already in it.\n",
    "# Hence we need to use a SPARQL INSERT query\n",
    "\n",
    "ir_onto_ttl_string = ir_onto_graph.serialize(format=\"turtle\")\n",
    "sparql_query = f\"\"\"\n",
    "INSERT DATA {{\n",
    "    {ir_onto_ttl_string}\n",
    "}}\n",
    "\"\"\"\n",
    "sparql_insert(sparql_query)"
   ]
  },
  {
   "cell_type": "code",
   "execution_count": 33,
   "metadata": {},
   "outputs": [
    {
     "name": "stdout",
     "output_type": "stream",
     "text": [
      "ir-onto:IncompatibleDocument\n",
      "ir-onto:Document\n",
      "ir-onto:IncompatibleSearch\n",
      "ir-onto:Search\n",
      "ir-onto:SearchContext\n",
      "ir-onto:SelectedCategory\n",
      "ir-onto:Category\n",
      "ir-onto:Classification\n",
      "ir-onto:EnabledCategory\n",
      "ir-onto:CandidateDocument\n",
      "http://www.msesboue.org/o/ir-onto-pizza-demo#Pizza\n",
      "http://www.msesboue.org/o/ir-onto-pizza-demo#PizzaBase\n",
      "http://www.msesboue.org/o/ir-onto-pizza-demo#Country\n",
      "http://www.msesboue.org/o/ir-onto-pizza-demo#Spiciness\n",
      "http://www.msesboue.org/o/ir-onto-pizza-demo#PizzaTopping\n",
      "http://www.msesboue.org/o/ir-onto-pizza-demo#PizzaKind\n"
     ]
    }
   ],
   "source": [
    "ir_onto_ns_tuple = (\"ir-onto\", \"http://www.msesboue.org/o/ir-ontology#\")\n",
    "show_owl_classes(namespace=ir_onto_ns_tuple)"
   ]
  },
  {
   "cell_type": "code",
   "execution_count": 11,
   "metadata": {},
   "outputs": [
    {
     "name": "stdout",
     "output_type": "stream",
     "text": [
      "ir-onto:hasSearchCategory\n",
      "ir-onto:categorizedBy\n",
      "ir-onto:categorizes\n",
      "ir-onto:hasSubcategory\n",
      "ir-onto:hasSupercategory\n",
      "ir-onto:enablesCategory\n",
      "ir-onto:isMemberOf\n"
     ]
    }
   ],
   "source": [
    "show_owl_obj_props(namespace=ir_onto_ns_tuple)"
   ]
  },
  {
   "cell_type": "markdown",
   "metadata": {},
   "source": [
    "## Insert some example data\n",
    "\n",
    "For our examples we will use a version of the well-known Pizza ontology. We will use the one from this repository: <https://github.com/owlcs/pizza-ontology/>"
   ]
  },
  {
   "cell_type": "code",
   "execution_count": 12,
   "metadata": {},
   "outputs": [],
   "source": [
    "pizza_onto_graph = Graph()\n",
    "pizza_onto_graph.parse(\"C:/Users/msesboue/OneDrive - TRACEPARTS/These_RESPONDING/ontologies/external_ontologies/pizza.owl\")\n",
    "pizza_onto_ns = Namespace(\"http://www.co-ode.org/ontologies/pizza/pizza.owl#\")\n",
    "pizza_onto_graph.bind(prefix=\"pizza-onto\", namespace=pizza_onto_ns)"
   ]
  },
  {
   "cell_type": "code",
   "execution_count": 13,
   "metadata": {},
   "outputs": [],
   "source": [
    "pizza_taxos_graph = Graph()\n",
    "pizza_taxos_graph.parse(\"./data/pizza-taxonomies.ttl\")\n",
    "pizza_taxos_ns = Namespace(\"http://www.msesboue.org/o/ir-onto-pizza-demo#\")\n",
    "pizza_taxos_graph.bind(prefix=\"pizza-taxos\", namespace=pizza_taxos_ns)"
   ]
  },
  {
   "cell_type": "code",
   "execution_count": 14,
   "metadata": {},
   "outputs": [
    {
     "name": "stdout",
     "output_type": "stream",
     "text": [
      "Classes\n",
      "pizza-taxos:Country\n",
      "pizza-taxos:Pizza\n",
      "pizza-taxos:PizzaBase\n",
      "pizza-taxos:PizzaKind\n",
      "pizza-taxos:PizzaTopping\n",
      "pizza-taxos:Spiciness\n",
      "\n",
      "Object Properties\n",
      "pizza-taxos:hasBase\n",
      "pizza-taxos:hasCountryOfOrigin\n",
      "pizza-taxos:hasIngredient\n",
      "pizza-taxos:hasPizzaKind\n",
      "pizza-taxos:hasSpiciness\n",
      "pizza-taxos:hasTopping\n",
      "pizza-taxos:makesIt\n",
      "ir-onto:hasSupercategory\n"
     ]
    }
   ],
   "source": [
    "query_namespaces = { # namespaces for nicer human readable display\n",
    "    \"owl\": OWL,\n",
    "    \"rdf\": RDF,\n",
    "    \"RDFS\": RDFS,\n",
    "    \"ir-onto\": ir_onto_ns\n",
    "}\n",
    "\n",
    "print(\"Classes\")\n",
    "# Apply the query to the IR ontology graph and iterate through results\n",
    "for r in pizza_taxos_graph.query(query_classes, initBindings=query_namespaces):\n",
    "    print(r[\"p\"].n3(pizza_taxos_graph.namespace_manager))\n",
    "print()\n",
    "print(\"Object Properties\")\n",
    "for r in pizza_taxos_graph.query(query_obj_props, initBindings=query_namespaces):\n",
    "    print(r[\"p\"].n3(pizza_taxos_graph.namespace_manager))"
   ]
  },
  {
   "cell_type": "code",
   "execution_count": 15,
   "metadata": {},
   "outputs": [
    {
     "name": "stdout",
     "output_type": "stream",
     "text": [
      "OK\n"
     ]
    }
   ],
   "source": [
    "# Lets add the pizza taxonomies to our DB\n",
    "pizza_taxos_ttl_string = pizza_taxos_graph.serialize(format=\"turtle\")\n",
    "sparql_query = f\"\"\"\n",
    "INSERT DATA {{\n",
    "    {pizza_taxos_ttl_string}\n",
    "}}\n",
    "\"\"\"\n",
    "sparql_insert(sparql_query)"
   ]
  },
  {
   "cell_type": "code",
   "execution_count": 16,
   "metadata": {},
   "outputs": [
    {
     "name": "stdout",
     "output_type": "stream",
     "text": [
      "Classes\n",
      "http://www.msesboue.org/o/ir-ontology#IncompatibleDocument\n",
      "http://www.msesboue.org/o/ir-ontology#Document\n",
      "http://www.msesboue.org/o/ir-ontology#IncompatibleSearch\n",
      "http://www.msesboue.org/o/ir-ontology#Search\n",
      "http://www.msesboue.org/o/ir-ontology#SearchContext\n",
      "http://www.msesboue.org/o/ir-ontology#SelectedCategory\n",
      "http://www.msesboue.org/o/ir-ontology#Category\n",
      "http://www.msesboue.org/o/ir-ontology#Classification\n",
      "http://www.msesboue.org/o/ir-ontology#EnabledCategory\n",
      "http://www.msesboue.org/o/ir-ontology#CandidateDocument\n",
      "http://www.msesboue.org/o/ir-onto-pizza-demo#Pizza\n",
      "http://www.msesboue.org/o/ir-onto-pizza-demo#PizzaBase\n",
      "http://www.msesboue.org/o/ir-onto-pizza-demo#Country\n",
      "http://www.msesboue.org/o/ir-onto-pizza-demo#Spiciness\n",
      "http://www.msesboue.org/o/ir-onto-pizza-demo#PizzaTopping\n",
      "http://www.msesboue.org/o/ir-onto-pizza-demo#PizzaKind\n",
      "\n",
      "Object Properties\n",
      "http://www.msesboue.org/o/ir-ontology#hasSearchCategory\n",
      "http://www.msesboue.org/o/ir-ontology#categorizedBy\n",
      "http://www.msesboue.org/o/ir-ontology#categorizes\n",
      "http://www.msesboue.org/o/ir-ontology#hasSubcategory\n",
      "http://www.msesboue.org/o/ir-ontology#hasSupercategory\n",
      "http://www.msesboue.org/o/ir-ontology#enablesCategory\n",
      "http://www.msesboue.org/o/ir-ontology#isMemberOf\n",
      "http://www.msesboue.org/o/ir-onto-pizza-demo#hasCountryOfOrigin\n",
      "http://www.msesboue.org/o/ir-onto-pizza-demo#hasPizzaKind\n",
      "http://www.msesboue.org/o/ir-onto-pizza-demo#hasTopping\n",
      "http://www.msesboue.org/o/ir-onto-pizza-demo#makesIt\n",
      "http://www.msesboue.org/o/ir-onto-pizza-demo#hasBase\n",
      "http://www.msesboue.org/o/ir-onto-pizza-demo#hasIngredient\n",
      "http://www.msesboue.org/o/ir-onto-pizza-demo#hasSpiciness\n"
     ]
    }
   ],
   "source": [
    "print(\"Classes\")\n",
    "show_owl_classes()\n",
    "print()\n",
    "print(\"Object Properties\")\n",
    "show_owl_obj_props()"
   ]
  },
  {
   "cell_type": "markdown",
   "metadata": {},
   "source": [
    "At the moment our triple store contains both the IR ontology graph and the pizza taxonomies graph. However, they are not yet linked.\n",
    "\n",
    "To link both graph (our domain and data graph) in a meaningful manner, we need to add some triples to define:\n",
    "\n",
    "- What are the categories in our pizza taxonomies graph?\n",
    "- What are the documents in our pizza taxonomies graph?\n",
    "- What are the relations (i.e., object properties) that should enable other categories when the their subject category is selected?\n",
    "- What are the relations used to categorise our documents?\n",
    "\n",
    "These triples will form our mapping between the data and domain graph and will enable reasoning over our data. "
   ]
  },
  {
   "cell_type": "code",
   "execution_count": 40,
   "metadata": {},
   "outputs": [
    {
     "data": {
      "text/plain": [
       "<Graph identifier=Nad58ef45f30140b9a2b61aea4b009754 (<class 'rdflib.graph.Graph'>)>"
      ]
     },
     "execution_count": 40,
     "metadata": {},
     "output_type": "execute_result"
    }
   ],
   "source": [
    "mapping_graph = Graph()\n",
    "\n",
    "mapping_graph.add((pizza_taxos_ns.Country, RDFS.subClassOf, ir_onto_ns.Category))\n",
    "mapping_graph.add((pizza_taxos_ns.PizzaBase, RDFS.subClassOf, ir_onto_ns.Category))\n",
    "mapping_graph.add((pizza_taxos_ns.PizzaKind, RDFS.subClassOf, ir_onto_ns.Category))\n",
    "mapping_graph.add((pizza_taxos_ns.PizzaTopping, RDFS.subClassOf, ir_onto_ns.Category))\n",
    "mapping_graph.add((pizza_taxos_ns.Spiciness, RDFS.subClassOf, ir_onto_ns.Category))\n",
    "\n",
    "mapping_graph.add((pizza_taxos_ns.Pizza, RDFS.subClassOf, ir_onto_ns.Document))\n",
    "\n",
    "mapping_graph.add((ir_onto_ns.hasSubcategory, RDFS.subPropertyOf, ir_onto_ns.enablesCategory))\n",
    "mapping_graph.add((ir_onto_ns.hasSubcategory, RDF.type, OWL.TransitiveProperty))\n",
    "mapping_graph.add((pizza_taxos_ns.makesIt, RDFS.subPropertyOf, ir_onto_ns.enablesCategory))\n",
    "\n",
    "mapping_graph.add((pizza_taxos_ns.hasTopping, RDFS.subPropertyOf, ir_onto_ns.categorizedBy))\n",
    "mapping_graph.add((pizza_taxos_ns.hasIngredient, RDFS.subPropertyOf, ir_onto_ns.categorizedBy))\n",
    "mapping_graph.add((pizza_taxos_ns.hasCountryOfOrigin, RDFS.subPropertyOf, ir_onto_ns.categorizedBy))\n",
    "mapping_graph.add((pizza_taxos_ns.hasPizzaKind, RDFS.subPropertyOf, ir_onto_ns.categorizedBy))\n",
    "mapping_graph.add((pizza_taxos_ns.hasSpiciness, RDFS.subPropertyOf, ir_onto_ns.categorizedBy))"
   ]
  },
  {
   "cell_type": "code",
   "execution_count": 41,
   "metadata": {},
   "outputs": [
    {
     "name": "stdout",
     "output_type": "stream",
     "text": [
      "OK\n"
     ]
    }
   ],
   "source": [
    "# Lets add the mapping graph\n",
    "mapping_ttl_string = mapping_graph.serialize(format=\"turtle\")\n",
    "sparql_query = f\"\"\"\n",
    "INSERT DATA {{\n",
    "    {mapping_ttl_string}\n",
    "}}\n",
    "\"\"\"\n",
    "sparql_insert(sparql_query)"
   ]
  },
  {
   "cell_type": "code",
   "execution_count": 53,
   "metadata": {},
   "outputs": [
    {
     "name": "stdout",
     "output_type": "stream",
     "text": [
      "Instances of http://www.msesboue.org/o/ir-ontology#Category\n",
      "http://www.msesboue.org/o/ir-onto-pizza-demo#_america\n",
      "http://www.msesboue.org/o/ir-onto-pizza-demo#_cheesyPizza\n",
      "http://www.msesboue.org/o/ir-onto-pizza-demo#_meatyPizza\n",
      "http://www.msesboue.org/o/ir-onto-pizza-demo#_mozzarellaTopping\n",
      "http://www.msesboue.org/o/ir-onto-pizza-demo#_peperoniSausageTopping\n",
      "http://www.msesboue.org/o/ir-onto-pizza-demo#_tomatoTopping\n",
      "http://www.msesboue.org/o/ir-onto-pizza-demo#_spicyPizza\n",
      "http://www.msesboue.org/o/ir-onto-pizza-demo#_hotGreenPepperTopping\n",
      "http://www.msesboue.org/o/ir-onto-pizza-demo#_jalapenoPepperTopping\n",
      "http://www.msesboue.org/o/ir-onto-pizza-demo#_nonVegetarianPizza\n",
      "\n"
     ]
    }
   ],
   "source": [
    "show_instances(class_uri=str(ir_onto_ns.Category), limit=10)"
   ]
  },
  {
   "cell_type": "code",
   "execution_count": 54,
   "metadata": {},
   "outputs": [
    {
     "name": "stdout",
     "output_type": "stream",
     "text": [
      "Instances of http://www.msesboue.org/o/ir-ontology#Document\n",
      "http://www.msesboue.org/o/ir-onto-pizza-demo#_american\n",
      "http://www.msesboue.org/o/ir-onto-pizza-demo#_americanHot\n",
      "http://www.msesboue.org/o/ir-onto-pizza-demo#_cajun\n",
      "http://www.msesboue.org/o/ir-onto-pizza-demo#_capricciosa\n",
      "http://www.msesboue.org/o/ir-onto-pizza-demo#_caprina\n",
      "http://www.msesboue.org/o/ir-onto-pizza-demo#_fiorentina\n",
      "http://www.msesboue.org/o/ir-onto-pizza-demo#_fourSeasons\n",
      "http://www.msesboue.org/o/ir-onto-pizza-demo#_frutiDiMare\n",
      "http://www.msesboue.org/o/ir-onto-pizza-demo#_giardiniera\n",
      "http://www.msesboue.org/o/ir-onto-pizza-demo#_laReine\n",
      "\n"
     ]
    }
   ],
   "source": [
    "show_instances(class_uri=str(ir_onto_ns.Document), limit=10)"
   ]
  },
  {
   "cell_type": "markdown",
   "metadata": {},
   "source": [
    "## Our first user search"
   ]
  },
  {
   "cell_type": "code",
   "execution_count": 55,
   "metadata": {},
   "outputs": [],
   "source": [
    "def query_insert_search(user_search_uri: str, categories: Set[str], instance_ns_uri: str) -> str:\n",
    "    # the categories should be the category instances name (without the namespace)\n",
    "\n",
    "    category_triples = \"\".join([f\", pizza:{cate}\" for cate in categories])\n",
    "    query = f\"\"\"\n",
    "        PREFIX ir-onto: <http://www.msesboue.org/o/ir-ontology#>\n",
    "        PREFIX pizza: <{instance_ns_uri}>\n",
    "        INSERT DATA {{\n",
    "            pizza:{user_search_uri} ir-onto:hasSearchCategory {category_triples[2:]} .\n",
    "        }}\n",
    "    \"\"\"\n",
    "\n",
    "    return query\n",
    "\n",
    "def query_delete_search(user_search_uri: str, categories: Set[str], instance_ns_uri: str) -> str:\n",
    "    # the categories should be the category instances name (without the namespace)\n",
    "\n",
    "    category_triples = \"\".join([f\", pizza:{cate}\" for cate in categories])\n",
    "    query = f\"\"\"\n",
    "        PREFIX ir-onto: <http://www.msesboue.org/o/ir-ontology#>\n",
    "        PREFIX pizza: <{instance_ns_uri}>\n",
    "        DELETE DATA {{\n",
    "            pizza:{user_search_uri} ir-onto:hasSearchCategory {category_triples[2:]} .\n",
    "        }}\n",
    "    \"\"\"\n",
    "\n",
    "    return query\n",
    "\n",
    "def query_make_search_the_context(user_search_uri: str, instance_ns_uri: str) -> str:\n",
    "    query = f\"\"\"\n",
    "        PREFIX ir-onto: <http://www.msesboue.org/o/ir-ontology#>\n",
    "        PREFIX pizza: <{instance_ns_uri}>\n",
    "        INSERT DATA {{\n",
    "            pizza:{user_search_uri} a ir-onto:SearchContext .\n",
    "        }}\n",
    "    \"\"\"\n",
    "\n",
    "    return query\n",
    "\n",
    "def query_remove_search_as_context(user_search_uri: str, instance_ns_uri: str) -> str:\n",
    "    query = f\"\"\"\n",
    "        PREFIX ir-onto: <http://www.msesboue.org/o/ir-ontology#>\n",
    "        PREFIX pizza: <{instance_ns_uri}>\n",
    "        DELETE DATA {{\n",
    "            pizza:{user_search_uri} a ir-onto:SearchContext .\n",
    "        }}\n",
    "    \"\"\"\n",
    "\n",
    "    return query\n",
    "\n",
    "def show_ir_onto_instances(ir_onto_class: str, namespace: Optional[Tuple[str]]=None) -> None:\n",
    "    query_instances = f\"\"\"\n",
    "        PREFIX ir-onto: <http://www.msesboue.org/o/ir-ontology#>\n",
    "        SELECT ?p WHERE {{\n",
    "            ?p a ir-onto:{ir_onto_class} .\n",
    "        }}\n",
    "    \"\"\"\n",
    "    \n",
    "    resp = sparql_select(sparql_query=query_instances)\n",
    "    json_resp = json.loads(resp.text)\n",
    "    class_uris = [binding[\"p\"][\"value\"] for binding in json_resp[\"results\"][\"bindings\"]]\n",
    "\n",
    "    if (namespace is not None) and (len(namespace)==2):\n",
    "        class_uris = [uri.replace(namespace[1], namespace[0] + \":\") for uri in class_uris]\n",
    "\n",
    "    print(f\"Instances of {ir_onto_class}\")\n",
    "    for uri in class_uris:\n",
    "        print(uri)"
   ]
  },
  {
   "cell_type": "code",
   "execution_count": 59,
   "metadata": {},
   "outputs": [
    {
     "name": "stdout",
     "output_type": "stream",
     "text": [
      "OK\n",
      "OK\n",
      "OK\n"
     ]
    }
   ],
   "source": [
    "pizza_onto_demo_ns_uri = \"http://www.msesboue.org/o/ir-onto-pizza-demo#\"\n",
    "\n",
    "meaty_topping_search_cate = [\"_meatTopping\"]\n",
    "meaty_topping_search_insert_q = query_insert_search(\n",
    "                                        user_search_uri=\"_meatyToppingSearch\", \n",
    "                                        categories=meaty_topping_search_cate, \n",
    "                                        instance_ns_uri=pizza_onto_demo_ns_uri\n",
    "                                    )\n",
    "sparql_insert(sparql_query=meaty_topping_search_insert_q)\n",
    "\n",
    "onion_mushroom_search_cate = [\"_onionTopping\", \"_mushroomTopping\"]\n",
    "onion_mushroom_search_insert_q = query_insert_search(\n",
    "                                        user_search_uri=\"_onionMushroomToppingSearch\", \n",
    "                                        categories=onion_mushroom_search_cate, \n",
    "                                        instance_ns_uri=pizza_onto_demo_ns_uri\n",
    "                                    )\n",
    "sparql_insert(sparql_query=onion_mushroom_search_insert_q)\n",
    "\n",
    "ham_topping_search_cate = [\"_hamTopping\"]\n",
    "ham_topping_search_insert_q = query_insert_search(\n",
    "                                    user_search_uri=\"_hamToppingSearch\", \n",
    "                                    categories=ham_topping_search_cate, \n",
    "                                    instance_ns_uri=pizza_onto_demo_ns_uri\n",
    "                                )\n",
    "sparql_insert(sparql_query=ham_topping_search_insert_q)"
   ]
  },
  {
   "cell_type": "code",
   "execution_count": 64,
   "metadata": {},
   "outputs": [
    {
     "name": "stdout",
     "output_type": "stream",
     "text": [
      "Instances of http://www.msesboue.org/o/ir-ontology#SelectedCategory\n",
      "\n",
      "Instances of http://www.msesboue.org/o/ir-ontology#EnabledCategory\n",
      "\n",
      "Instances of http://www.msesboue.org/o/ir-ontology#CandidateDocument\n",
      "\n"
     ]
    }
   ],
   "source": [
    "show_instances(class_uri=(ir_onto_ns.SelectedCategory), limit=10)\n",
    "show_instances(class_uri=(ir_onto_ns.EnabledCategory), limit=10)\n",
    "show_instances(class_uri=(ir_onto_ns.CandidateDocument), limit=10)"
   ]
  },
  {
   "cell_type": "code",
   "execution_count": 63,
   "metadata": {},
   "outputs": [
    {
     "name": "stdout",
     "output_type": "stream",
     "text": [
      "OK\n",
      "Instances of http://www.msesboue.org/o/ir-ontology#SelectedCategory\n",
      "http://www.msesboue.org/o/ir-onto-pizza-demo#_meatTopping\n",
      "\n",
      "Instances of http://www.msesboue.org/o/ir-ontology#EnabledCategory\n",
      "http://www.msesboue.org/o/ir-onto-pizza-demo#_meatyPizza\n",
      "http://www.msesboue.org/o/ir-onto-pizza-demo#_peperoniSausageTopping\n",
      "http://www.msesboue.org/o/ir-onto-pizza-demo#_nonVegetarianPizza\n",
      "http://www.msesboue.org/o/ir-onto-pizza-demo#_hamTopping\n",
      "http://www.msesboue.org/o/ir-onto-pizza-demo#_chickenTopping\n",
      "http://www.msesboue.org/o/ir-onto-pizza-demo#_hotSpicedBeefTopping\n",
      "\n",
      "Instances of http://www.msesboue.org/o/ir-ontology#CandidateDocument\n",
      "http://www.msesboue.org/o/ir-onto-pizza-demo#_american\n",
      "http://www.msesboue.org/o/ir-onto-pizza-demo#_americanHot\n",
      "http://www.msesboue.org/o/ir-onto-pizza-demo#_cajun\n",
      "http://www.msesboue.org/o/ir-onto-pizza-demo#_capricciosa\n",
      "http://www.msesboue.org/o/ir-onto-pizza-demo#_fourSeasons\n",
      "http://www.msesboue.org/o/ir-onto-pizza-demo#_frutiDiMare\n",
      "http://www.msesboue.org/o/ir-onto-pizza-demo#_laReine\n",
      "http://www.msesboue.org/o/ir-onto-pizza-demo#_napoletana\n",
      "http://www.msesboue.org/o/ir-onto-pizza-demo#_parmense\n",
      "http://www.msesboue.org/o/ir-onto-pizza-demo#_polloAdAstra\n",
      "\n",
      "OK\n"
     ]
    }
   ],
   "source": [
    "# with pizza:_meatyToppingSearch as context:\n",
    "# we should have among the enabled categories: _chickenTopping, _parmaHamTopping?, _meatyPizza, _nonVegetarianPizza\n",
    "# we should not have among the enabled categories: _nutTopping, _nutTopping, _vegetarianPizza\n",
    "meaty_top_make_search_context_q = query_make_search_the_context(user_search_uri=\"_meatyToppingSearch\", instance_ns_uri=pizza_onto_demo_ns_uri)\n",
    "sparql_insert(sparql_query=meaty_top_make_search_context_q)\n",
    "\n",
    "show_instances(class_uri=(ir_onto_ns.SelectedCategory), limit=10)\n",
    "show_instances(class_uri=(ir_onto_ns.EnabledCategory), limit=10)\n",
    "show_instances(class_uri=(ir_onto_ns.CandidateDocument), limit=10)\n",
    "\n",
    "meaty_top_remove_search_context_q = query_remove_search_as_context(user_search_uri=\"_meatyToppingSearch\", instance_ns_uri=pizza_onto_demo_ns_uri)\n",
    "sparql_insert(sparql_query=meaty_top_remove_search_context_q)"
   ]
  },
  {
   "cell_type": "code",
   "execution_count": 65,
   "metadata": {},
   "outputs": [
    {
     "name": "stdout",
     "output_type": "stream",
     "text": [
      "OK\n",
      "Instances of http://www.msesboue.org/o/ir-ontology#SelectedCategory\n",
      "http://www.msesboue.org/o/ir-onto-pizza-demo#_onionTopping\n",
      "http://www.msesboue.org/o/ir-onto-pizza-demo#_mushroomTopping\n",
      "\n",
      "Instances of http://www.msesboue.org/o/ir-ontology#EnabledCategory\n",
      "http://www.msesboue.org/o/ir-onto-pizza-demo#_redOnionTopping\n",
      "http://www.msesboue.org/o/ir-onto-pizza-demo#_vegetableTopping\n",
      "\n",
      "Instances of http://www.msesboue.org/o/ir-ontology#CandidateDocument\n",
      "http://www.msesboue.org/o/ir-onto-pizza-demo#_cajun\n",
      "http://www.msesboue.org/o/ir-onto-pizza-demo#_fourSeasons\n",
      "http://www.msesboue.org/o/ir-onto-pizza-demo#_giardiniera\n",
      "http://www.msesboue.org/o/ir-onto-pizza-demo#_laReine\n",
      "http://www.msesboue.org/o/ir-onto-pizza-demo#_mushroom\n",
      "http://www.msesboue.org/o/ir-onto-pizza-demo#_polloAdAstra\n",
      "http://www.msesboue.org/o/ir-onto-pizza-demo#_sloppyGiuseppe\n",
      "http://www.msesboue.org/o/ir-onto-pizza-demo#_veneziana\n",
      "\n",
      "OK\n"
     ]
    }
   ],
   "source": [
    "onion_mush_top_make_search_context_q = query_make_search_the_context(user_search_uri=\"_onionMushroomToppingSearch\", instance_ns_uri=pizza_onto_demo_ns_uri)\n",
    "sparql_insert(sparql_query=onion_mush_top_make_search_context_q)\n",
    "\n",
    "show_instances(class_uri=(ir_onto_ns.SelectedCategory), limit=10)\n",
    "show_instances(class_uri=(ir_onto_ns.EnabledCategory), limit=10)\n",
    "show_instances(class_uri=(ir_onto_ns.CandidateDocument), limit=10)\n",
    "\n",
    "onion_mush_top_remove_search_context_q = query_remove_search_as_context(user_search_uri=\"_onionMushroomToppingSearch\", instance_ns_uri=pizza_onto_demo_ns_uri)\n",
    "sparql_insert(sparql_query=onion_mush_top_remove_search_context_q)"
   ]
  },
  {
   "cell_type": "code",
   "execution_count": 66,
   "metadata": {},
   "outputs": [
    {
     "name": "stdout",
     "output_type": "stream",
     "text": [
      "OK\n",
      "Instances of http://www.msesboue.org/o/ir-ontology#SelectedCategory\n",
      "http://www.msesboue.org/o/ir-onto-pizza-demo#_hamTopping\n",
      "\n",
      "Instances of http://www.msesboue.org/o/ir-ontology#EnabledCategory\n",
      "http://www.msesboue.org/o/ir-onto-pizza-demo#_parmaHamTopping\n",
      "http://www.msesboue.org/o/ir-onto-pizza-demo#_meatTopping\n",
      "\n",
      "Instances of http://www.msesboue.org/o/ir-ontology#CandidateDocument\n",
      "http://www.msesboue.org/o/ir-onto-pizza-demo#_capricciosa\n",
      "http://www.msesboue.org/o/ir-onto-pizza-demo#_laReine\n",
      "http://www.msesboue.org/o/ir-onto-pizza-demo#_parmense\n",
      "http://www.msesboue.org/o/ir-onto-pizza-demo#_siciliana\n",
      "\n",
      "OK\n"
     ]
    }
   ],
   "source": [
    "ham_top_make_search_context_q = query_make_search_the_context(user_search_uri=\"_hamToppingSearch\", instance_ns_uri=pizza_onto_demo_ns_uri)\n",
    "sparql_insert(sparql_query=ham_top_make_search_context_q)\n",
    "\n",
    "show_instances(class_uri=(ir_onto_ns.SelectedCategory), limit=10)\n",
    "show_instances(class_uri=(ir_onto_ns.EnabledCategory), limit=10)\n",
    "show_instances(class_uri=(ir_onto_ns.CandidateDocument), limit=10)\n",
    "\n",
    "ham_top_remove_search_context_q = query_remove_search_as_context(user_search_uri=\"_hamToppingSearch\", instance_ns_uri=pizza_onto_demo_ns_uri)\n",
    "sparql_insert(sparql_query=ham_top_remove_search_context_q)"
   ]
  }
 ],
 "metadata": {
  "kernelspec": {
   "display_name": "ir-onto-venv",
   "language": "python",
   "name": "python3"
  },
  "language_info": {
   "codemirror_mode": {
    "name": "ipython",
    "version": 3
   },
   "file_extension": ".py",
   "mimetype": "text/x-python",
   "name": "python",
   "nbconvert_exporter": "python",
   "pygments_lexer": "ipython3",
   "version": "3.10.4"
  }
 },
 "nbformat": 4,
 "nbformat_minor": 2
}
