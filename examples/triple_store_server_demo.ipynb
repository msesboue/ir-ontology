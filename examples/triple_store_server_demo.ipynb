{
 "cells": [
  {
   "cell_type": "code",
   "execution_count": 1,
   "metadata": {},
   "outputs": [],
   "source": [
    "import requests\n",
    "from rdflib import Graph\n",
    "from rdflib.namespace import Namespace, OWL, RDF, RDFS\n",
    "\n",
    "from ir_onto_demos_utilities import (\n",
    "    show_instances, show_owl_classes, show_owl_obj_props, \n",
    "    sparql_update, sparql_select, insert_graph, delete_graph\n",
    ")"
   ]
  },
  {
   "cell_type": "markdown",
   "metadata": {},
   "source": [
    "## TODOs\n",
    "\n",
    "- Use only RDFlib Namespace, no tuple\n",
    "- Take out the functions"
   ]
  },
  {
   "cell_type": "markdown",
   "metadata": {},
   "source": [
    "## Explore the Information Retrieval Ontology\n",
    "\n",
    "Before anything, let us shortly explore what is in the IR ontology.\n",
    "The steps are:\n",
    "- Load the IR ontology\n",
    "- Query for the OWL classes\n",
    "- Query for the OWl object properties"
   ]
  },
  {
   "cell_type": "code",
   "execution_count": 2,
   "metadata": {},
   "outputs": [],
   "source": [
    "# Load the IR ontology into an RDFlib Graph\n",
    "ir_onto_graph = Graph()\n",
    "ir_onto_graph.parse(\"../information-retrieval-ontology.ttl\")\n",
    "ir_onto_ns = Namespace(\"http://www.msesboue.org/o/ir-ontology#\")\n",
    "ir_onto_graph.bind(prefix=\"ir-onto\", namespace=ir_onto_ns) # setup a namespace for nicer human readable display"
   ]
  },
  {
   "cell_type": "code",
   "execution_count": 3,
   "metadata": {},
   "outputs": [
    {
     "name": "stdout",
     "output_type": "stream",
     "text": [
      "ir-onto:IncompatibleSearch\n",
      "ir-onto:Search\n",
      "ir-onto:CandidateDocument\n",
      "ir-onto:Category\n",
      "ir-onto:Classification\n",
      "ir-onto:Document\n",
      "ir-onto:EnabledCategory\n",
      "ir-onto:IncompatibleDocument\n",
      "ir-onto:SearchContext\n",
      "ir-onto:SelectedCategory\n"
     ]
    }
   ],
   "source": [
    "query_namespaces = { # namespaces for nicer human readable display\n",
    "    \"owl\": OWL,\n",
    "    \"rdf\": RDF,\n",
    "    \"RDFS\": RDFS,\n",
    "    \"ir-onto\": ir_onto_ns\n",
    "}\n",
    "query_classes = \"\"\"\n",
    "    SELECT ?p\n",
    "    WHERE {\n",
    "        ?p rdf:type owl:Class .\n",
    "    }\n",
    "\"\"\"\n",
    "# Apply the query to the IR ontology graph and iterate through results\n",
    "for r in ir_onto_graph.query(query_classes, initBindings=query_namespaces):\n",
    "    print(r[\"p\"].n3(ir_onto_graph.namespace_manager))"
   ]
  },
  {
   "cell_type": "code",
   "execution_count": 4,
   "metadata": {},
   "outputs": [
    {
     "name": "stdout",
     "output_type": "stream",
     "text": [
      "ir-onto:hasSearchCategory\n",
      "ir-onto:categorizedBy\n",
      "ir-onto:categorizes\n",
      "ir-onto:enablesCategory\n",
      "ir-onto:hasSubcategory\n",
      "ir-onto:hasSupercategory\n",
      "ir-onto:isMemberOf\n"
     ]
    }
   ],
   "source": [
    "query_obj_props = \"\"\"\n",
    "    SELECT ?p\n",
    "    WHERE {\n",
    "        ?p rdf:type owl:ObjectProperty .\n",
    "    }\n",
    "\"\"\"\n",
    "\n",
    "# Apply the query to the graph and iterate through results\n",
    "for r in ir_onto_graph.query(query_obj_props, initBindings=query_namespaces):\n",
    "    print(r[\"p\"].n3(ir_onto_graph.namespace_manager))"
   ]
  },
  {
   "cell_type": "markdown",
   "metadata": {},
   "source": [
    "## Information Retrieval Ontology usage examples\n",
    "\n",
    "Let us now see some examples of what can we do with the IR ontology.\n",
    "\n",
    "For these demos we will use a triple store database in a server. \n",
    "Another tutorial will explore the same examples with in memory only requirements. \n",
    "These demos require OWL inference at query time. We chose the OntoText GraphDB triple store (v10.4.0): <https://graphdb.ontotext.com/documentation/10.0/index.html>. Hence, some pieces of code might be specific to the GraphDB APIs. We will try to flag those as much as possible. Once you the docker container is running you can see their Web API documentation there: <http://localhost:7200/webapi>.\n",
    "However, GraphDB implements the RDF4J REST API specification (<https://rdf4j.org/documentation/reference/rest-api/>). So we will try to make use of it as much as possible.\n",
    "\n",
    "We use the Docker GraphDB instance without any license (the GraphDB Free version). Hence, you will need to have Docker installed and running on your computer (See Docker installation procedure: <https://docs.docker.com/get-docker/>). Let's start from there.\n",
    "\n",
    "1. Download the GraphDB image: `docker pull ontotext/graphdb:10.4.0`\n",
    "   - OntoText related documentation pointers:\n",
    "     - <https://github.com/Ontotext-AD/graphdb-docker>\n",
    "     - <https://hub.docker.com/r/ontotext/graphdb/>\n",
    "2. Run the image: `docker run -p 127.0.0.1:7200:7200 --name graphdb-ir-onto -t ontotext/graphdb:10.4.0`\n",
    "3. From now on the rest is in the code."
   ]
  },
  {
   "cell_type": "code",
   "execution_count": 5,
   "metadata": {},
   "outputs": [
    {
     "name": "stdout",
     "output_type": "stream",
     "text": [
      "201\n",
      "\n"
     ]
    }
   ],
   "source": [
    "# Setting up the repository we will work with\n",
    "\n",
    "# Load the repository configuration (WARNING: specific to GraphDB)\n",
    "repo_config_graph = Graph()\n",
    "repo_config_graph.parse(\"./data/ir-onto-demo-graphdb-config.ttl\")\n",
    "repo_config_ttl_string = repo_config_graph.serialize(format=\"turtle\")\n",
    "\n",
    "headers = {\n",
    "    \"Accept\": \"application/json\",\n",
    "}\n",
    "data = {\n",
    "    \"config\": (\"config.ttl\", repo_config_ttl_string)\n",
    "}\n",
    "\n",
    "# Uses the GraphDB REST API (WARNING: specific to GraphDB)\n",
    "r = requests.post(\"http://localhost:7200/rest/repositories\", headers=headers, files=data)\n",
    "print(r.status_code)\n",
    "print(r.text)"
   ]
  },
  {
   "cell_type": "code",
   "execution_count": 6,
   "metadata": {},
   "outputs": [
    {
     "name": "stdout",
     "output_type": "stream",
     "text": [
      "200\n",
      "uri,id,title,readable,writable\n",
      "http://localhost:7200/repositories/ir-onto-demo,ir-onto-demo,,true,true\n",
      "\n"
     ]
    }
   ],
   "source": [
    "# Check that the repository is created\n",
    "r = requests.get('http://localhost:7200/repositories', headers={\"Content-type\": \"application/rdf+xml\"})\n",
    "print(r.status_code)\n",
    "print(r.text)"
   ]
  },
  {
   "cell_type": "markdown",
   "metadata": {},
   "source": [
    "### Some utilities"
   ]
  },
  {
   "cell_type": "code",
   "execution_count": 7,
   "metadata": {},
   "outputs": [],
   "source": [
    "# Define the server info for future interactions\n",
    "DB_IP = \"localhost\"\n",
    "DB_PORT = \"7200\"\n",
    "DB_URL = f\"http://{DB_IP}:{DB_PORT}\"\n",
    "REPOSITORY_ID = \"ir-onto-demo\"\n",
    "\n",
    "# Build an RDFlib NamespaceManager so ease the display of sparql results\n",
    "g = Graph()\n",
    "\n",
    "ir_onto_ns = Namespace(\"http://www.msesboue.org/o/ir-ontology#\")\n",
    "g.bind(prefix=\"ir-onto\", namespace=ir_onto_ns)\n",
    "\n",
    "pizza_onto_ns = Namespace(\"http://www.co-ode.org/ontologies/pizza/pizza.owl#\")\n",
    "g.bind(prefix=\"pizza-onto\", namespace=pizza_onto_ns)\n",
    "\n",
    "pizza_onto_demo_ns = Namespace(\"http://www.msesboue.org/o/ir-onto-pizza-demo#\")\n",
    "g.bind(prefix=\"pizza-taxos\", namespace=pizza_onto_demo_ns)\n",
    "\n",
    "demo_ns_manager = g.namespace_manager"
   ]
  },
  {
   "cell_type": "code",
   "execution_count": 8,
   "metadata": {},
   "outputs": [
    {
     "name": "stdout",
     "output_type": "stream",
     "text": [
      "OK\n"
     ]
    }
   ],
   "source": [
    "# Let us now load the IR ontology\n",
    "\n",
    "# RDF4J does not let you simply add an RDF file to a repository without \n",
    "# erasing what was already in it.\n",
    "# Hence we need to use a SPARQL INSERT query\n",
    "insert_graph(graph=ir_onto_graph, db_url=DB_URL, repo_id=REPOSITORY_ID)"
   ]
  },
  {
   "cell_type": "code",
   "execution_count": 9,
   "metadata": {},
   "outputs": [
    {
     "name": "stdout",
     "output_type": "stream",
     "text": [
      "ir-onto:IncompatibleDocument\n",
      "ir-onto:Document\n",
      "ir-onto:IncompatibleSearch\n",
      "ir-onto:Search\n",
      "ir-onto:SearchContext\n",
      "ir-onto:SelectedCategory\n",
      "ir-onto:Category\n",
      "ir-onto:Classification\n",
      "ir-onto:EnabledCategory\n",
      "ir-onto:CandidateDocument\n"
     ]
    }
   ],
   "source": [
    "show_owl_classes(ns_manager=demo_ns_manager, db_url=DB_URL, repo_id=REPOSITORY_ID)"
   ]
  },
  {
   "cell_type": "code",
   "execution_count": 10,
   "metadata": {},
   "outputs": [
    {
     "name": "stdout",
     "output_type": "stream",
     "text": [
      "ir-onto:hasSearchCategory\n",
      "ir-onto:categorizedBy\n",
      "ir-onto:categorizes\n",
      "ir-onto:hasSubcategory\n",
      "ir-onto:hasSupercategory\n",
      "ir-onto:enablesCategory\n",
      "ir-onto:isMemberOf\n"
     ]
    }
   ],
   "source": [
    "show_owl_obj_props(ns_manager=demo_ns_manager, db_url=DB_URL, repo_id=REPOSITORY_ID)"
   ]
  },
  {
   "cell_type": "markdown",
   "metadata": {},
   "source": [
    "## Insert some example data\n",
    "\n",
    "For our examples we will use a version of the well-known Pizza ontology. We will use the one from this repository: <https://github.com/owlcs/pizza-ontology/>"
   ]
  },
  {
   "cell_type": "code",
   "execution_count": 11,
   "metadata": {},
   "outputs": [],
   "source": [
    "pizza_onto_graph = Graph()\n",
    "pizza_onto_graph.parse(\"./data/pizza.ttl\")\n",
    "pizza_onto_ns = Namespace(\"http://www.co-ode.org/ontologies/pizza/pizza.owl#\")\n",
    "pizza_onto_graph.bind(prefix=\"pizza-onto\", namespace=pizza_onto_ns)"
   ]
  },
  {
   "cell_type": "code",
   "execution_count": 12,
   "metadata": {},
   "outputs": [],
   "source": [
    "pizza_taxos_graph = Graph()\n",
    "pizza_taxos_graph.parse(\"./data/pizza-taxonomies.ttl\")\n",
    "pizza_onto_demo_ns = Namespace(\"http://www.msesboue.org/o/ir-onto-pizza-demo#\")\n",
    "pizza_taxos_graph.bind(prefix=\"pizza-taxos\", namespace=pizza_onto_demo_ns)"
   ]
  },
  {
   "cell_type": "code",
   "execution_count": 13,
   "metadata": {},
   "outputs": [
    {
     "name": "stdout",
     "output_type": "stream",
     "text": [
      "Classes\n",
      "ir-onto:IncompatibleDocument\n",
      "ir-onto:Document\n",
      "ir-onto:IncompatibleSearch\n",
      "ir-onto:Search\n",
      "ir-onto:SearchContext\n",
      "ir-onto:SelectedCategory\n",
      "ir-onto:Category\n",
      "ir-onto:Classification\n",
      "ir-onto:EnabledCategory\n",
      "ir-onto:CandidateDocument\n",
      "\n",
      "Object Properties\n",
      "ir-onto:hasSearchCategory\n",
      "ir-onto:categorizedBy\n",
      "ir-onto:categorizes\n",
      "ir-onto:hasSubcategory\n",
      "ir-onto:hasSupercategory\n",
      "ir-onto:enablesCategory\n",
      "ir-onto:isMemberOf\n"
     ]
    }
   ],
   "source": [
    "print(\"Classes\")\n",
    "show_owl_classes(ns_manager=demo_ns_manager, db_url=DB_URL, repo_id=REPOSITORY_ID)\n",
    "\n",
    "print()\n",
    "print(\"Object Properties\")\n",
    "show_owl_obj_props(ns_manager=demo_ns_manager, db_url=DB_URL, repo_id=REPOSITORY_ID)"
   ]
  },
  {
   "cell_type": "code",
   "execution_count": 14,
   "metadata": {},
   "outputs": [
    {
     "name": "stdout",
     "output_type": "stream",
     "text": [
      "OK\n"
     ]
    }
   ],
   "source": [
    "# Lets add the pizza taxonomies to our DB\n",
    "insert_graph(graph=pizza_taxos_graph, db_url=DB_URL, repo_id=REPOSITORY_ID)"
   ]
  },
  {
   "cell_type": "code",
   "execution_count": 15,
   "metadata": {},
   "outputs": [
    {
     "name": "stdout",
     "output_type": "stream",
     "text": [
      "Classes\n",
      "ir-onto:IncompatibleDocument\n",
      "ir-onto:Document\n",
      "ir-onto:IncompatibleSearch\n",
      "ir-onto:Search\n",
      "ir-onto:SearchContext\n",
      "ir-onto:SelectedCategory\n",
      "ir-onto:Category\n",
      "ir-onto:Classification\n",
      "ir-onto:EnabledCategory\n",
      "ir-onto:CandidateDocument\n",
      "pizza-taxos:Pizza\n",
      "pizza-taxos:PizzaBase\n",
      "pizza-taxos:Country\n",
      "pizza-taxos:Spiciness\n",
      "pizza-taxos:PizzaTopping\n",
      "pizza-taxos:PizzaKind\n",
      "\n",
      "Object Properties\n",
      "ir-onto:hasSearchCategory\n",
      "ir-onto:categorizedBy\n",
      "ir-onto:categorizes\n",
      "ir-onto:hasSubcategory\n",
      "ir-onto:hasSupercategory\n",
      "ir-onto:enablesCategory\n",
      "ir-onto:isMemberOf\n",
      "pizza-taxos:hasCountryOfOrigin\n",
      "pizza-taxos:hasPizzaKind\n",
      "pizza-taxos:hasTopping\n",
      "pizza-taxos:makesIt\n",
      "pizza-taxos:hasBase\n",
      "pizza-taxos:hasIngredient\n",
      "pizza-taxos:hasSpiciness\n"
     ]
    }
   ],
   "source": [
    "print(\"Classes\")\n",
    "show_owl_classes(ns_manager=demo_ns_manager, db_url=DB_URL, repo_id=REPOSITORY_ID)\n",
    "\n",
    "print()\n",
    "print(\"Object Properties\")\n",
    "show_owl_obj_props(ns_manager=demo_ns_manager, db_url=DB_URL, repo_id=REPOSITORY_ID)"
   ]
  },
  {
   "cell_type": "markdown",
   "metadata": {},
   "source": [
    "At the moment our triple store contains both the IR ontology graph and the pizza taxonomies graph. However, they are not yet linked.\n",
    "\n",
    "To link both graph (our domain and data graph) in a meaningful manner, we need to add some triples to define:\n",
    "\n",
    "- What are the categories in our pizza taxonomies graph?\n",
    "- What are the documents in our pizza taxonomies graph?\n",
    "- What are the relations (i.e., object properties) that should enable other categories when the their subject category is selected?\n",
    "- What are the relations used to categorise our documents?\n",
    "\n",
    "These triples will form our mapping between the data and domain graph and will enable reasoning over our data. "
   ]
  },
  {
   "cell_type": "code",
   "execution_count": 16,
   "metadata": {},
   "outputs": [
    {
     "data": {
      "text/plain": [
       "<Graph identifier=Nd73085de629445c3bf3cc6c04d702ad4 (<class 'rdflib.graph.Graph'>)>"
      ]
     },
     "execution_count": 16,
     "metadata": {},
     "output_type": "execute_result"
    }
   ],
   "source": [
    "mapping_graph = Graph()\n",
    "\n",
    "# In our example we categorise pizzas by country, base, kind, topping and spiciness\n",
    "mapping_graph.add((pizza_onto_demo_ns.Country, RDFS.subClassOf, ir_onto_ns.Category))\n",
    "mapping_graph.add((pizza_onto_demo_ns.PizzaBase, RDFS.subClassOf, ir_onto_ns.Category))\n",
    "mapping_graph.add((pizza_onto_demo_ns.PizzaKind, RDFS.subClassOf, ir_onto_ns.Category))\n",
    "mapping_graph.add((pizza_onto_demo_ns.PizzaTopping, RDFS.subClassOf, ir_onto_ns.Category))\n",
    "mapping_graph.add((pizza_onto_demo_ns.Spiciness, RDFS.subClassOf, ir_onto_ns.Category))\n",
    "\n",
    "# In our example the search engine goal is to find pizzas\n",
    "mapping_graph.add((pizza_onto_demo_ns.Pizza, RDFS.subClassOf, ir_onto_ns.Document))\n",
    "\n",
    "# In our example when a category is selected we want ot have the subcategories enabled\n",
    "mapping_graph.add((ir_onto_ns.hasSubcategory, RDFS.subPropertyOf, ir_onto_ns.enablesCategory))\n",
    "mapping_graph.add((ir_onto_ns.hasSubcategory, RDF.type, OWL.TransitiveProperty)) # otherwise, only the first subcategory level is enabled\n",
    "\n",
    "# Ex: if a pizza is categorised by a meat topping the category meaty pizza should be enabled\n",
    "mapping_graph.add((pizza_onto_demo_ns.makesIt, RDFS.subPropertyOf, ir_onto_ns.enablesCategory))\n",
    "\n",
    "# In our example the relations in our data graph categorizing the pizzas are has topping, has ingredient, ...\n",
    "mapping_graph.add((pizza_onto_demo_ns.hasTopping, RDFS.subPropertyOf, ir_onto_ns.categorizedBy))\n",
    "mapping_graph.add((pizza_onto_demo_ns.hasIngredient, RDFS.subPropertyOf, ir_onto_ns.categorizedBy))\n",
    "mapping_graph.add((pizza_onto_demo_ns.hasCountryOfOrigin, RDFS.subPropertyOf, ir_onto_ns.categorizedBy))\n",
    "mapping_graph.add((pizza_onto_demo_ns.hasPizzaKind, RDFS.subPropertyOf, ir_onto_ns.categorizedBy))\n",
    "mapping_graph.add((pizza_onto_demo_ns.hasSpiciness, RDFS.subPropertyOf, ir_onto_ns.categorizedBy))"
   ]
  },
  {
   "cell_type": "code",
   "execution_count": 17,
   "metadata": {},
   "outputs": [
    {
     "name": "stdout",
     "output_type": "stream",
     "text": [
      "OK\n"
     ]
    }
   ],
   "source": [
    "# Lets add the mapping graph\n",
    "insert_graph(mapping_graph, db_url=DB_URL, repo_id=REPOSITORY_ID)"
   ]
  },
  {
   "cell_type": "code",
   "execution_count": 18,
   "metadata": {},
   "outputs": [
    {
     "name": "stdout",
     "output_type": "stream",
     "text": [
      "Instances of http://www.msesboue.org/o/ir-ontology#Category\n",
      "pizza-taxos:_america\n",
      "pizza-taxos:_cheesyPizza\n",
      "pizza-taxos:_meatyPizza\n",
      "pizza-taxos:_mozzarellaTopping\n",
      "pizza-taxos:_peperoniSausageTopping\n",
      "pizza-taxos:_tomatoTopping\n",
      "pizza-taxos:_spicyPizza\n",
      "pizza-taxos:_hotGreenPepperTopping\n",
      "pizza-taxos:_jalapenoPepperTopping\n",
      "pizza-taxos:_nonVegetarianPizza\n",
      "\n"
     ]
    }
   ],
   "source": [
    "show_instances(class_uri=str(ir_onto_ns.Category), ns_manager=demo_ns_manager, db_url=DB_URL, repo_id=REPOSITORY_ID, limit=10)"
   ]
  },
  {
   "cell_type": "code",
   "execution_count": 19,
   "metadata": {},
   "outputs": [
    {
     "name": "stdout",
     "output_type": "stream",
     "text": [
      "Instances of http://www.msesboue.org/o/ir-ontology#Document\n",
      "pizza-taxos:_american\n",
      "pizza-taxos:_americanHot\n",
      "pizza-taxos:_cajun\n",
      "pizza-taxos:_capricciosa\n",
      "pizza-taxos:_caprina\n",
      "pizza-taxos:_fiorentina\n",
      "pizza-taxos:_fourSeasons\n",
      "pizza-taxos:_frutiDiMare\n",
      "pizza-taxos:_giardiniera\n",
      "pizza-taxos:_laReine\n",
      "\n"
     ]
    }
   ],
   "source": [
    "show_instances(class_uri=str(ir_onto_ns.Document), limit=10, ns_manager=demo_ns_manager, db_url=DB_URL, repo_id=REPOSITORY_ID)"
   ]
  },
  {
   "cell_type": "markdown",
   "metadata": {},
   "source": [
    "## Our first user search"
   ]
  },
  {
   "cell_type": "code",
   "execution_count": 20,
   "metadata": {},
   "outputs": [],
   "source": [
    "def make_search_the_context(user_search_uri: str) -> None:\n",
    "    query = f\"\"\"\n",
    "        PREFIX ir-onto: <http://www.msesboue.org/o/ir-ontology#>\n",
    "        INSERT DATA {{\n",
    "            <{user_search_uri}> a ir-onto:SearchContext .\n",
    "        }}\n",
    "    \"\"\"\n",
    "\n",
    "    sparql_update(sparql_query=query, db_url=DB_URL, repo_id=REPOSITORY_ID)\n",
    "\n",
    "def remove_search_as_context(user_search_uri: str) -> None:\n",
    "    query = f\"\"\"\n",
    "        PREFIX ir-onto: <http://www.msesboue.org/o/ir-ontology#>\n",
    "        DELETE DATA {{\n",
    "            <{user_search_uri}> a ir-onto:SearchContext .\n",
    "        }}\n",
    "    \"\"\"\n",
    "\n",
    "    sparql_update(sparql_query=query, db_url=DB_URL, repo_id=REPOSITORY_ID)"
   ]
  },
  {
   "cell_type": "code",
   "execution_count": 21,
   "metadata": {},
   "outputs": [
    {
     "data": {
      "text/plain": [
       "<Graph identifier=Ne54bec132dc54ee2abefbbfb3bf9c6c1 (<class 'rdflib.graph.Graph'>)>"
      ]
     },
     "execution_count": 21,
     "metadata": {},
     "output_type": "execute_result"
    }
   ],
   "source": [
    "meatyToppingSearch_graph = Graph()\n",
    "meatyToppingSearch_graph.add((pizza_onto_demo_ns._meatyToppingSearch, RDF.type, ir_onto_ns.Search))\n",
    "meatyToppingSearch_graph.add((pizza_onto_demo_ns._meatyToppingSearch, ir_onto_ns.hasSearchCategory, pizza_onto_demo_ns._meatTopping))\n",
    "\n",
    "onionMushroomToppingSearch_graph = Graph()\n",
    "onionMushroomToppingSearch_graph.add((pizza_onto_demo_ns._onionMushroomToppingSearch, RDF.type, ir_onto_ns.Search))\n",
    "onionMushroomToppingSearch_graph.add((pizza_onto_demo_ns._onionMushroomToppingSearch, ir_onto_ns.hasSearchCategory, pizza_onto_demo_ns._onionTopping))\n",
    "onionMushroomToppingSearch_graph.add((pizza_onto_demo_ns._onionMushroomToppingSearch, ir_onto_ns.hasSearchCategory, pizza_onto_demo_ns._mushroomTopping))\n",
    "\n",
    "hamToppingSearch_graph = Graph()\n",
    "hamToppingSearch_graph.add((pizza_onto_demo_ns._hamToppingSearch, RDF.type, ir_onto_ns.Search))\n",
    "hamToppingSearch_graph.add((pizza_onto_demo_ns._hamToppingSearch, ir_onto_ns.hasSearchCategory, pizza_onto_demo_ns._hamTopping))"
   ]
  },
  {
   "cell_type": "code",
   "execution_count": 22,
   "metadata": {},
   "outputs": [
    {
     "name": "stdout",
     "output_type": "stream",
     "text": [
      "OK\n",
      "OK\n",
      "OK\n"
     ]
    }
   ],
   "source": [
    "insert_graph(graph=meatyToppingSearch_graph, db_url=DB_URL, repo_id=REPOSITORY_ID)\n",
    "insert_graph(graph=onionMushroomToppingSearch_graph, db_url=DB_URL, repo_id=REPOSITORY_ID)\n",
    "insert_graph(graph=hamToppingSearch_graph, db_url=DB_URL, repo_id=REPOSITORY_ID)"
   ]
  },
  {
   "cell_type": "code",
   "execution_count": 24,
   "metadata": {},
   "outputs": [
    {
     "name": "stdout",
     "output_type": "stream",
     "text": [
      "Instances of http://www.msesboue.org/o/ir-ontology#SelectedCategory\n",
      "\n",
      "Instances of http://www.msesboue.org/o/ir-ontology#EnabledCategory\n",
      "\n",
      "Instances of http://www.msesboue.org/o/ir-ontology#CandidateDocument\n",
      "\n"
     ]
    }
   ],
   "source": [
    "show_instances(class_uri=str(ir_onto_ns.SelectedCategory), ns_manager=demo_ns_manager, db_url=DB_URL, repo_id=REPOSITORY_ID, limit=10)\n",
    "show_instances(class_uri=str(ir_onto_ns.EnabledCategory), ns_manager=demo_ns_manager, db_url=DB_URL, repo_id=REPOSITORY_ID, limit=10)\n",
    "show_instances(class_uri=str(ir_onto_ns.CandidateDocument), ns_manager=demo_ns_manager, db_url=DB_URL, repo_id=REPOSITORY_ID, limit=10)"
   ]
  },
  {
   "cell_type": "code",
   "execution_count": 25,
   "metadata": {},
   "outputs": [
    {
     "name": "stdout",
     "output_type": "stream",
     "text": [
      "OK\n",
      "Instances of http://www.msesboue.org/o/ir-ontology#SelectedCategory\n",
      "pizza-taxos:_meatTopping\n",
      "\n",
      "Instances of http://www.msesboue.org/o/ir-ontology#EnabledCategory\n",
      "pizza-taxos:_meatyPizza\n",
      "pizza-taxos:_peperoniSausageTopping\n",
      "pizza-taxos:_nonVegetarianPizza\n",
      "pizza-taxos:_hamTopping\n",
      "pizza-taxos:_parmaHamTopping\n",
      "pizza-taxos:_chickenTopping\n",
      "pizza-taxos:_hotSpicedBeefTopping\n",
      "\n",
      "Instances of http://www.msesboue.org/o/ir-ontology#CandidateDocument\n",
      "pizza-taxos:_american\n",
      "pizza-taxos:_americanHot\n",
      "pizza-taxos:_cajun\n",
      "pizza-taxos:_capricciosa\n",
      "pizza-taxos:_fourSeasons\n",
      "pizza-taxos:_frutiDiMare\n",
      "pizza-taxos:_laReine\n",
      "pizza-taxos:_napoletana\n",
      "pizza-taxos:_parmense\n",
      "pizza-taxos:_polloAdAstra\n",
      "\n",
      "OK\n"
     ]
    }
   ],
   "source": [
    "# with pizza:_meatyToppingSearch as context:\n",
    "# we should have among the enabled categories: _chickenTopping, _parmaHamTopping?, _meatyPizza, _nonVegetarianPizza\n",
    "# we should not have among the enabled categories: _nutTopping, _nutTopping, _vegetarianPizza\n",
    "make_search_the_context(user_search_uri=str(pizza_onto_demo_ns._meatyToppingSearch))\n",
    "\n",
    "show_instances(class_uri=str(ir_onto_ns.SelectedCategory), ns_manager=demo_ns_manager, db_url=DB_URL, repo_id=REPOSITORY_ID, limit=10)\n",
    "show_instances(class_uri=str(ir_onto_ns.EnabledCategory), ns_manager=demo_ns_manager, db_url=DB_URL, repo_id=REPOSITORY_ID, limit=10)\n",
    "show_instances(class_uri=str(ir_onto_ns.CandidateDocument), ns_manager=demo_ns_manager, db_url=DB_URL, repo_id=REPOSITORY_ID, limit=10)\n",
    "\n",
    "remove_search_as_context(user_search_uri=str(pizza_onto_demo_ns._meatyToppingSearch))"
   ]
  },
  {
   "cell_type": "code",
   "execution_count": 26,
   "metadata": {},
   "outputs": [
    {
     "name": "stdout",
     "output_type": "stream",
     "text": [
      "OK\n",
      "Instances of http://www.msesboue.org/o/ir-ontology#SelectedCategory\n",
      "pizza-taxos:_onionTopping\n",
      "pizza-taxos:_mushroomTopping\n",
      "\n",
      "Instances of http://www.msesboue.org/o/ir-ontology#EnabledCategory\n",
      "pizza-taxos:_redOnionTopping\n",
      "\n",
      "Instances of http://www.msesboue.org/o/ir-ontology#CandidateDocument\n",
      "pizza-taxos:_cajun\n",
      "pizza-taxos:_fourSeasons\n",
      "pizza-taxos:_giardiniera\n",
      "pizza-taxos:_laReine\n",
      "pizza-taxos:_mushroom\n",
      "pizza-taxos:_polloAdAstra\n",
      "pizza-taxos:_sloppyGiuseppe\n",
      "pizza-taxos:_veneziana\n",
      "\n",
      "OK\n"
     ]
    }
   ],
   "source": [
    "make_search_the_context(user_search_uri=str(pizza_onto_demo_ns._onionMushroomToppingSearch))\n",
    "\n",
    "show_instances(class_uri=str(ir_onto_ns.SelectedCategory), ns_manager=demo_ns_manager, db_url=DB_URL, repo_id=REPOSITORY_ID, limit=10)\n",
    "show_instances(class_uri=str(ir_onto_ns.EnabledCategory), ns_manager=demo_ns_manager, db_url=DB_URL, repo_id=REPOSITORY_ID, limit=10)\n",
    "show_instances(class_uri=str(ir_onto_ns.CandidateDocument), ns_manager=demo_ns_manager, db_url=DB_URL, repo_id=REPOSITORY_ID, limit=10)\n",
    "\n",
    "remove_search_as_context(user_search_uri=str(pizza_onto_demo_ns._onionMushroomToppingSearch))"
   ]
  },
  {
   "cell_type": "code",
   "execution_count": 27,
   "metadata": {},
   "outputs": [
    {
     "name": "stdout",
     "output_type": "stream",
     "text": [
      "OK\n",
      "Instances of http://www.msesboue.org/o/ir-ontology#SelectedCategory\n",
      "pizza-taxos:_hamTopping\n",
      "\n",
      "Instances of http://www.msesboue.org/o/ir-ontology#EnabledCategory\n",
      "pizza-taxos:_parmaHamTopping\n",
      "\n",
      "Instances of http://www.msesboue.org/o/ir-ontology#CandidateDocument\n",
      "pizza-taxos:_capricciosa\n",
      "pizza-taxos:_laReine\n",
      "pizza-taxos:_parmense\n",
      "pizza-taxos:_siciliana\n",
      "\n",
      "OK\n"
     ]
    }
   ],
   "source": [
    "make_search_the_context(user_search_uri=str(pizza_onto_demo_ns._hamToppingSearch))\n",
    "\n",
    "show_instances(class_uri=str(ir_onto_ns.SelectedCategory), ns_manager=demo_ns_manager, db_url=DB_URL, repo_id=REPOSITORY_ID, limit=10)\n",
    "show_instances(class_uri=str(ir_onto_ns.EnabledCategory), ns_manager=demo_ns_manager, db_url=DB_URL, repo_id=REPOSITORY_ID, limit=10)\n",
    "show_instances(class_uri=str(ir_onto_ns.CandidateDocument), ns_manager=demo_ns_manager, db_url=DB_URL, repo_id=REPOSITORY_ID, limit=10)\n",
    "\n",
    "remove_search_as_context(user_search_uri=str(pizza_onto_demo_ns._hamToppingSearch))"
   ]
  },
  {
   "cell_type": "code",
   "execution_count": null,
   "metadata": {},
   "outputs": [],
   "source": []
  }
 ],
 "metadata": {
  "kernelspec": {
   "display_name": "ir-onto-venv",
   "language": "python",
   "name": "python3"
  },
  "language_info": {
   "codemirror_mode": {
    "name": "ipython",
    "version": 3
   },
   "file_extension": ".py",
   "mimetype": "text/x-python",
   "name": "python",
   "nbconvert_exporter": "python",
   "pygments_lexer": "ipython3",
   "version": "3.10.4"
  }
 },
 "nbformat": 4,
 "nbformat_minor": 2
}
