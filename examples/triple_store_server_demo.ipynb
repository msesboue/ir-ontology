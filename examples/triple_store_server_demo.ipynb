{
 "cells": [
  {
   "cell_type": "code",
   "execution_count": 22,
   "metadata": {},
   "outputs": [],
   "source": [
    "from typing import Dict, Set, Tuple\n",
    "import json\n",
    "from SPARQLWrapper import SPARQLWrapper, JSON\n",
    "import requests\n",
    "from rdflib import Graph, URIRef\n",
    "from rdflib.namespace import Namespace, OWL, RDF, RDFS"
   ]
  },
  {
   "cell_type": "markdown",
   "metadata": {},
   "source": [
    "## Explore the Information Retrieval Ontology\n",
    "\n",
    "Before anything, let us shortly explore what is in the IR ontology.\n",
    "The steps are:\n",
    "- Load the IR ontology\n",
    "- Query for the OWL classes\n",
    "- Query for the OWl object properties"
   ]
  },
  {
   "cell_type": "code",
   "execution_count": 2,
   "metadata": {},
   "outputs": [],
   "source": [
    "# Load the IR ontology into an RDFlib Graph\n",
    "ir_onto_graph = Graph()\n",
    "ir_onto_graph.parse(\"../information-retrieval-ontology.ttl\")\n",
    "ir_onto_ns = Namespace(\"http://www.msesboue.org/o/ir-ontology#\")\n",
    "ir_onto_graph.bind(prefix=\"ir-onto\", namespace=ir_onto_ns) # setup a namespace for nicer human readable display"
   ]
  },
  {
   "cell_type": "code",
   "execution_count": 3,
   "metadata": {},
   "outputs": [
    {
     "name": "stdout",
     "output_type": "stream",
     "text": [
      "ir-onto:CandidateDocument\n",
      "ir-onto:Category\n",
      "ir-onto:Classification\n",
      "ir-onto:Document\n",
      "ir-onto:EnabledCategory\n",
      "ir-onto:IncompatibleDocument\n",
      "ir-onto:SearchContext\n",
      "ir-onto:SelectedCategory\n"
     ]
    }
   ],
   "source": [
    "query_namespaces = { # namespaces for nicer human readable display\n",
    "    \"owl\": OWL,\n",
    "    \"rdf\": RDF,\n",
    "    \"RDFS\": RDFS,\n",
    "    \"ir-onto\": ir_onto_ns\n",
    "}\n",
    "query_classes = \"\"\"\n",
    "    SELECT ?p\n",
    "    WHERE {\n",
    "        ?p rdf:type owl:Class .\n",
    "    }\n",
    "\"\"\"\n",
    "# Apply the query to the IR ontology graph and iterate through results\n",
    "for r in ir_onto_graph.query(query_classes, initBindings=query_namespaces):\n",
    "    print(r[\"p\"].n3(ir_onto_graph.namespace_manager))"
   ]
  },
  {
   "cell_type": "code",
   "execution_count": 4,
   "metadata": {},
   "outputs": [
    {
     "name": "stdout",
     "output_type": "stream",
     "text": [
      "ir-onto:categorizedBy\n",
      "ir-onto:categorizes\n",
      "ir-onto:enablesCategory\n",
      "ir-onto:hasContextCategory\n",
      "ir-onto:hasSubcategory\n",
      "ir-onto:hasSupercategory\n",
      "ir-onto:isMemberOf\n"
     ]
    }
   ],
   "source": [
    "query_obj_props = \"\"\"\n",
    "    SELECT ?p\n",
    "    WHERE {\n",
    "        ?p rdf:type owl:ObjectProperty .\n",
    "    }\n",
    "\"\"\"\n",
    "\n",
    "# Apply the query to the graph and iterate through results\n",
    "for r in ir_onto_graph.query(query_obj_props, initBindings=query_namespaces):\n",
    "    print(r[\"p\"].n3(ir_onto_graph.namespace_manager))"
   ]
  },
  {
   "cell_type": "markdown",
   "metadata": {},
   "source": [
    "## Information Retrieval Ontology usage examples\n",
    "\n",
    "Let us now see some examples of what can we do with the IR ontology.\n",
    "\n",
    "For these demos we will use a triple store database in a server. \n",
    "Another tutorial will explore the same examples with in memory only requirements. \n",
    "These demos require OWL inference at query time. We chose the OntoText GraphDB triple store (v10.4.0): <https://graphdb.ontotext.com/documentation/10.0/index.html>. Hence, some pieces of code might be specific to the GraphDB APIs. We will try to flag those as much as possible. Once you the docker container is running you can see their Web API documentation there: <http://localhost:7200/webapi>.\n",
    "However, GraphDB implements the RDF4J REST API specification (<https://rdf4j.org/documentation/reference/rest-api/>). So we will try to make use of it as much as possible.\n",
    "\n",
    "We use the Docker GraphDB instance without any license (the GraphDB Free version). Hence, you will need to have Docker installed and running on your computer (See Docker installation procedure: <https://docs.docker.com/get-docker/>). Let's start from there.\n",
    "\n",
    "1. Download the GraphDB image: `docker pull ontotext/graphdb:10.4.0`\n",
    "   - OntoText related documentation pointers:\n",
    "     - <https://github.com/Ontotext-AD/graphdb-docker>\n",
    "     - <https://hub.docker.com/r/ontotext/graphdb/>\n",
    "2. Run the image: `docker run -p 127.0.0.1:7200:7200 --name graphdb-ir-onto -t ontotext/graphdb:10.4.0`\n",
    "3. From now on the rest is in the code."
   ]
  },
  {
   "cell_type": "code",
   "execution_count": 5,
   "metadata": {},
   "outputs": [
    {
     "name": "stdout",
     "output_type": "stream",
     "text": [
      "201\n",
      "\n"
     ]
    }
   ],
   "source": [
    "# Setting up the repository we will work with\n",
    "\n",
    "# Load the repository configuration (WARNING: specific to GraphDB)\n",
    "repo_config_graph = Graph()\n",
    "repo_config_graph.parse(\"./data/ir-onto-demo-graphdb-config.ttl\")\n",
    "repo_config_ttl_string = repo_config_graph.serialize(format=\"turtle\")\n",
    "\n",
    "headers = {\n",
    "    \"Accept\": \"application/json\",\n",
    "}\n",
    "data = {\n",
    "    \"config\": (\"config.ttl\", repo_config_ttl_string)\n",
    "}\n",
    "\n",
    "# Uses the GraphDB REST API (WARNING: specific to GraphDB)\n",
    "r = requests.post(\"http://localhost:7200/rest/repositories\", headers=headers, files=data)\n",
    "print(r.status_code)\n",
    "print(r.text)"
   ]
  },
  {
   "cell_type": "code",
   "execution_count": 6,
   "metadata": {},
   "outputs": [
    {
     "name": "stdout",
     "output_type": "stream",
     "text": [
      "200\n",
      "uri,id,title,readable,writable\n",
      "http://localhost:7200/repositories/ir-onto-demo,ir-onto-demo,,true,true\n",
      "\n"
     ]
    }
   ],
   "source": [
    "# Check that the repository is created\n",
    "r = requests.get('http://localhost:7200/repositories', headers={\"Content-type\": \"application/rdf+xml\"})\n",
    "print(r.status_code)\n",
    "print(r.text)"
   ]
  },
  {
   "cell_type": "markdown",
   "metadata": {},
   "source": [
    "### Some utility functions"
   ]
  },
  {
   "cell_type": "code",
   "execution_count": 26,
   "metadata": {},
   "outputs": [],
   "source": [
    "from typing import Optional\n",
    "\n",
    "\n",
    "DB_IP = \"localhost\"\n",
    "DB_PORT = \"7200\"\n",
    "DB_URL = f\"http://{DB_IP}:{DB_PORT}\"\n",
    "REPOSITORY_ID = \"ir-onto-demo\"\n",
    "\n",
    "def sparql_select(sparql_query: str, use_inference: bool=False) -> Dict:\n",
    "    \n",
    "    query_resp = requests.get(\n",
    "        f\"{DB_URL}/repositories/{REPOSITORY_ID}\",\n",
    "        headers={\"Accept\": \"application/sparql-results+json\"},\n",
    "        params={\n",
    "            \"query\": sparql_query,\n",
    "            \"infer\": use_inference\n",
    "        }\n",
    "    )\n",
    "\n",
    "    return query_resp\n",
    "\n",
    "def show_owl_classes(namespace: Optional[Tuple[str]]=None) -> None:\n",
    "\n",
    "    query_classes = \"\"\"\n",
    "            SELECT ?p\n",
    "            WHERE {\n",
    "                ?p rdf:type owl:Class .\n",
    "            }\n",
    "        \"\"\"\n",
    "    resp = sparql_select(sparql_query=query_classes)\n",
    "    json_resp = json.loads(resp.text)\n",
    "    class_uris = [binding[\"p\"][\"value\"] for binding in json_resp[\"results\"][\"bindings\"]]\n",
    "\n",
    "    if (namespace is not None) and (len(namespace)==2):\n",
    "        class_uris = [uri.replace(namespace[1], namespace[0] + \":\") for uri in class_uris]\n",
    "\n",
    "    for uri in class_uris:\n",
    "        print(uri)\n",
    "\n",
    "def show_owl_obj_props(namespace: Optional[Tuple[str]]=None) -> None:\n",
    "\n",
    "    query_classes = \"\"\"\n",
    "            SELECT ?p\n",
    "            WHERE {\n",
    "                ?p rdf:type owl:ObjectProperty .\n",
    "            }\n",
    "        \"\"\"\n",
    "    resp = sparql_select(sparql_query=query_classes)\n",
    "    json_resp = json.loads(resp.text)\n",
    "    class_uris = [binding[\"p\"][\"value\"] for binding in json_resp[\"results\"][\"bindings\"]]\n",
    "\n",
    "    if (namespace is not None) and (len(namespace)==2):\n",
    "        class_uris = [uri.replace(namespace[1], namespace[0] + \":\") for uri in class_uris]\n",
    "\n",
    "    for uri in class_uris:\n",
    "        print(uri)\n",
    "\n",
    "def sparql_insert(sparql_query: str) -> None:\n",
    "    \n",
    "    query_resp = requests.post(\n",
    "        f\"{DB_URL}/repositories/{REPOSITORY_ID}/statements\",\n",
    "        headers={\"Content-type\": \"application/sparql-update\"},\n",
    "        data=sparql_query\n",
    "    )\n",
    "\n",
    "    if not query_resp.status_code == 204: # check that the triples have been created\n",
    "        print(f\"Something went wrong. HTTP response Code: {query_resp.status_code}\")\n",
    "        print(f\"HTTP response body: {query_resp.text}\")\n",
    "    else:\n",
    "        print(\"OK\")"
   ]
  },
  {
   "cell_type": "code",
   "execution_count": 9,
   "metadata": {},
   "outputs": [
    {
     "name": "stdout",
     "output_type": "stream",
     "text": [
      "OK\n"
     ]
    }
   ],
   "source": [
    "# Let us now load the IR ontology\n",
    "\n",
    "# RDF4J does not let you simply add an RDF file to a repository without \n",
    "# erasing what was already in it.\n",
    "# Hence we need to use a SPARQL INSERT query\n",
    "\n",
    "ir_onto_ttl_string = ir_onto_graph.serialize(format=\"turtle\")\n",
    "sparql_query = f\"\"\"\n",
    "INSERT DATA {{\n",
    "    {ir_onto_ttl_string}\n",
    "}}\n",
    "\"\"\"\n",
    "sparql_insert(sparql_query)"
   ]
  },
  {
   "cell_type": "code",
   "execution_count": 24,
   "metadata": {},
   "outputs": [
    {
     "name": "stdout",
     "output_type": "stream",
     "text": [
      "ir-onto:IncompatibleDocument\n",
      "ir-onto:Document\n",
      "ir-onto:Category\n",
      "ir-onto:Classification\n",
      "ir-onto:EnabledCategory\n",
      "ir-onto:CandidateDocument\n",
      "ir-onto:SearchContext\n",
      "ir-onto:SelectedCategory\n"
     ]
    }
   ],
   "source": [
    "ir_onto_ns = (\"ir-onto\", \"http://www.msesboue.org/o/ir-ontology#\")\n",
    "show_owl_classes(namespace=ir_onto_ns)"
   ]
  },
  {
   "cell_type": "code",
   "execution_count": 27,
   "metadata": {},
   "outputs": [
    {
     "name": "stdout",
     "output_type": "stream",
     "text": [
      "ir-onto:categorizedBy\n",
      "ir-onto:categorizes\n",
      "ir-onto:hasSubcategory\n",
      "ir-onto:hasSupercategory\n",
      "ir-onto:hasContextCategory\n",
      "ir-onto:enablesCategory\n",
      "ir-onto:isMemberOf\n"
     ]
    }
   ],
   "source": [
    "ir_onto_ns = (\"ir-onto\", \"http://www.msesboue.org/o/ir-ontology#\")\n",
    "show_owl_obj_props(namespace=ir_onto_ns)"
   ]
  },
  {
   "cell_type": "markdown",
   "metadata": {},
   "source": [
    "## Insert some example data\n",
    "\n",
    "For our examples we will use a version of the well-known Pizza ontology. We will use the one from this repository: <https://github.com/owlcs/pizza-ontology/>"
   ]
  },
  {
   "cell_type": "code",
   "execution_count": 10,
   "metadata": {},
   "outputs": [],
   "source": [
    "pizza_onto_graph = Graph()\n",
    "pizza_onto_graph.parse(\"C:/Users/msesboue/OneDrive - TRACEPARTS/These_RESPONDING/ontologies/external_ontologies/pizza.owl\")\n",
    "pizza_onto_ns = Namespace(\"http://www.co-ode.org/ontologies/pizza/pizza.owl#\")\n",
    "pizza_onto_graph.bind(prefix=\"pizza-onto\", namespace=pizza_onto_ns)"
   ]
  },
  {
   "cell_type": "code",
   "execution_count": 11,
   "metadata": {},
   "outputs": [],
   "source": [
    "pizza_taxos_graph = Graph()\n",
    "pizza_taxos_graph.parse(\"./data/pizza-taxonomies.ttl\")\n",
    "pizza_taxos_ns = Namespace(\"http://www.msesboue.org/o/ir-onto-pizza-demo#\")\n",
    "pizza_taxos_graph.bind(prefix=\"pizza-taxos\", namespace=pizza_taxos_ns)"
   ]
  },
  {
   "cell_type": "code",
   "execution_count": 51,
   "metadata": {},
   "outputs": [],
   "source": [
    "# instance_uris_map = dict()\n",
    "# for triple in pizza_taxos_graph:\n",
    "#     if (triple[1] == RDF.type) and (triple[2] == OWL.NamedIndividual):\n",
    "#         old_instance_uri = triple[0]\n",
    "#         instance_name = old_instance_uri.split('#')[-1]\n",
    "#         new_instance_uri = URIRef(\"http://www.msesboue.org/o/ir-onto-pizza-demo#_\" + instance_name[0].lower() + instance_name[1:])\n",
    "#         instance_uris_map[old_instance_uri] = new_instance_uri\n",
    "\n",
    "# for triple in pizza_taxos_graph:\n",
    "#     subject_new_uri = instance_uris_map.get(triple[0])\n",
    "#     object_new_uri = instance_uris_map.get(triple[2])\n",
    "\n",
    "#     if subject_new_uri is not None:\n",
    "#         pizza_taxos_graph.remove(triple)\n",
    "#         pizza_taxos_graph.add((subject_new_uri, triple[1], triple[2]))\n",
    "\n",
    "#     if object_new_uri is not None:\n",
    "#         pizza_taxos_graph.remove(triple)\n",
    "#         pizza_taxos_graph.add((triple[0], triple[1], object_new_uri))\n",
    "\n",
    "# pizza_taxos_graph.serialize(destination=\"./data/pizza-taxonomies-reformated.ttl\", format=\"turtle\")"
   ]
  },
  {
   "cell_type": "code",
   "execution_count": 12,
   "metadata": {},
   "outputs": [],
   "source": [
    "query_namespaces = { # namespaces for nicer human readable display\n",
    "    \"owl\": OWL,\n",
    "    \"rdf\": RDF,\n",
    "    \"RDFS\": RDFS,\n",
    "    \"ir-onto\": ir_onto_ns\n",
    "}\n",
    "\n",
    "q = \"\"\"\n",
    "    SELECT ?p\n",
    "    WHERE {\n",
    "        ?p rdf:type ir-onto:Category .\n",
    "    }\n",
    "\"\"\"\n",
    "# Apply the query to the IR ontology graph and iterate through results\n",
    "for r in pizza_taxos_graph.query(q, initBindings=query_namespaces):\n",
    "    print(r[\"p\"].n3(pizza_taxos_graph.namespace_manager))"
   ]
  },
  {
   "cell_type": "code",
   "execution_count": 13,
   "metadata": {},
   "outputs": [],
   "source": [
    "q = \"\"\"\n",
    "    INSERT { ?cate a ir-onto:Category . }\n",
    "    WHERE { ?cate a owl:NamedIndividual .}\n",
    "    \"\"\"\n",
    "pizza_taxos_graph.update(update_object=q, initBindings=query_namespaces)"
   ]
  },
  {
   "cell_type": "code",
   "execution_count": null,
   "metadata": {},
   "outputs": [],
   "source": [
    "q = \"\"\"\n",
    "    SELECT ?p\n",
    "    WHERE {\n",
    "        ?p rdf:type ir-onto:Category .\n",
    "    }\n",
    "\"\"\"\n",
    "# Apply the query to the IR ontology graph and iterate through results\n",
    "for r in pizza_taxos_graph.query(q, initBindings=query_namespaces):\n",
    "    print(r[\"p\"].n3(pizza_taxos_graph.namespace_manager))"
   ]
  },
  {
   "cell_type": "code",
   "execution_count": 15,
   "metadata": {},
   "outputs": [
    {
     "data": {
      "text/plain": [
       "<Graph identifier=N71ab5c4143744d239739042d6c89055c (<class 'rdflib.graph.Graph'>)>"
      ]
     },
     "execution_count": 15,
     "metadata": {},
     "output_type": "execute_result"
    }
   ],
   "source": [
    "pizza_taxos_graph.add((ir_onto_ns.hasSubcategory, RDFS.subPropertyOf, ir_onto_ns.enablesCategory))"
   ]
  },
  {
   "cell_type": "code",
   "execution_count": 59,
   "metadata": {},
   "outputs": [
    {
     "data": {
      "text/plain": [
       "<Graph identifier=N8d23f289fe914bad9d9a491cfed98804 (<class 'rdflib.graph.Graph'>)>"
      ]
     },
     "execution_count": 59,
     "metadata": {},
     "output_type": "execute_result"
    }
   ],
   "source": [
    "# pizza_taxos_graph.serialize(destination=\"./data/test_pizza_taxos_into_ir_onto.ttl\", format=\"turtle\")"
   ]
  },
  {
   "cell_type": "code",
   "execution_count": 60,
   "metadata": {},
   "outputs": [
    {
     "name": "stdout",
     "output_type": "stream",
     "text": [
      "204\n",
      "\n",
      "456\n"
     ]
    }
   ],
   "source": [
    "# Add Pizza taxonomies instances to the triple store\n",
    "\n",
    "pizza_taxos_ttl_string = pizza_taxos_graph.serialize(format=\"turtle\")\n",
    "sparql_query = f\"\"\"\n",
    "INSERT DATA {{\n",
    "    {pizza_taxos_ttl_string}\n",
    "}}\n",
    "\"\"\"\n",
    "r = requests.post(\n",
    "    'http://localhost:7200/repositories/ir-onto-demo/statements', \n",
    "    data=sparql_query, \n",
    "    headers={\"Content-type\": \"application/sparql-update\"}\n",
    ")\n",
    "print(r.status_code)\n",
    "print(r.text)\n",
    "\n",
    "if r.status_code == 204: # check that the triples have been created\n",
    "    r = requests.get(\n",
    "        'http://localhost:7200/repositories/ir-onto-demo/size'\n",
    "        )\n",
    "    print(r.text)"
   ]
  },
  {
   "cell_type": "code",
   "execution_count": 62,
   "metadata": {},
   "outputs": [
    {
     "name": "stdout",
     "output_type": "stream",
     "text": [
      "204\n",
      "\n"
     ]
    }
   ],
   "source": [
    "# Add the IR ontology base namespace to the repository for convenience\n",
    "r = requests.put(\n",
    "    'http://localhost:7200/repositories/ir-onto-demo/namespaces/ir-onto', \n",
    "    data=\"http://www.msesboue.org/o/ir-ontology#\",\n",
    "    headers={\"Accept\": \"application/json\"}\n",
    ")\n",
    "print(r.status_code)\n",
    "print(r.text)"
   ]
  },
  {
   "cell_type": "code",
   "execution_count": 16,
   "metadata": {},
   "outputs": [
    {
     "name": "stdout",
     "output_type": "stream",
     "text": [
      "{'cate': {'type': 'uri', 'value': 'http://www.msesboue.org/o/ir-onto-pizza-demo#America'}}\n",
      "{'cate': {'type': 'uri', 'value': 'http://www.msesboue.org/o/ir-onto-pizza-demo#_country'}}\n",
      "{'cate': {'type': 'uri', 'value': 'http://www.msesboue.org/o/ir-onto-pizza-demo#American'}}\n",
      "{'cate': {'type': 'uri', 'value': 'http://www.msesboue.org/o/ir-onto-pizza-demo#_namedPizza'}}\n",
      "{'cate': {'type': 'uri', 'value': 'http://www.msesboue.org/o/ir-onto-pizza-demo#AmericanHot'}}\n",
      "{'cate': {'type': 'uri', 'value': 'http://www.msesboue.org/o/ir-onto-pizza-demo#AnchoviesTopping'}}\n",
      "{'cate': {'type': 'uri', 'value': 'http://www.msesboue.org/o/ir-onto-pizza-demo#_fishTopping'}}\n",
      "{'cate': {'type': 'uri', 'value': 'http://www.msesboue.org/o/ir-onto-pizza-demo#ArtichokeTopping'}}\n",
      "{'cate': {'type': 'uri', 'value': 'http://www.msesboue.org/o/ir-onto-pizza-demo#_vegetableTopping'}}\n",
      "{'cate': {'type': 'uri', 'value': 'http://www.msesboue.org/o/ir-onto-pizza-demo#AsparagusTopping'}}\n"
     ]
    }
   ],
   "source": [
    "# Check that the instances of category have been created.\n",
    "sparql.setQuery(\"\"\"\n",
    "    PREFIX ir-onto: <http://www.msesboue.org/o/ir-ontology#>\n",
    "    SELECT ?cate\n",
    "    WHERE {\n",
    "        ?cate rdf:type ir-onto:Category .\n",
    "    } LIMIT 10\n",
    "    \"\"\"\n",
    ")\n",
    "query_res = sparql.queryAndConvert()\n",
    "\n",
    "for r in query_res[\"results\"][\"bindings\"]:\n",
    "    print(r)"
   ]
  },
  {
   "cell_type": "markdown",
   "metadata": {},
   "source": [
    "## Our first user search"
   ]
  },
  {
   "cell_type": "code",
   "execution_count": 27,
   "metadata": {},
   "outputs": [],
   "source": [
    "def query_insert_search_context(categories: Set[str], instance_ns_uri: str) -> str:\n",
    "    # the categories should be the category instances name (without the namespace)\n",
    "\n",
    "    category_triples = \"\".join([f\", pizza:{cate}\" for cate in categories])\n",
    "    query = f\"\"\"\n",
    "        PREFIX ir-onto: <http://www.msesboue.org/o/ir-ontology#>\n",
    "        PREFIX pizza: <{instance_ns_uri}>\n",
    "        INSERT DATA {{\n",
    "            pizza:user_search a ir-onto:SearchContext ;\n",
    "                    ir-onto:hasContextCategory {category_triples[2:]} .\n",
    "        }}\n",
    "    \"\"\"\n",
    "\n",
    "    return query\n",
    "\n",
    "def query_delete_search_context(categories: Set[str], instance_ns_uri: str) -> str:\n",
    "    # the categories should be the category instances name (without the namespace)\n",
    "\n",
    "    category_triples = \"\".join([f\", pizza:{cate}\" for cate in categories])\n",
    "    query = f\"\"\"\n",
    "        PREFIX ir-onto: <http://www.msesboue.org/o/ir-ontology#>\n",
    "        PREFIX pizza: <{instance_ns_uri}>\n",
    "        DELETE DATA {{\n",
    "            pizza:user_search a ir-onto:SearchContext ;\n",
    "                    ir-onto:hasContextCategory {category_triples[2:]} .\n",
    "        }}\n",
    "    \"\"\"\n",
    "\n",
    "    return query"
   ]
  },
  {
   "cell_type": "code",
   "execution_count": 28,
   "metadata": {},
   "outputs": [
    {
     "name": "stdout",
     "output_type": "stream",
     "text": [
      "\n",
      "        PREFIX ir-onto: <http://www.msesboue.org/o/ir-ontology#>\n",
      "        PREFIX pizza: <http://www.msesboue.org/o/ir-onto-pizza-demo#>\n",
      "        INSERT DATA {\n",
      "            pizza:user_search a ir-onto:SearchContext ;\n",
      "                    ir-onto:hasContextCategory pizza:MeatTopping, pizza:PizzaBase .\n",
      "        }\n",
      "    \n"
     ]
    }
   ],
   "source": [
    "query_insert_search = query_insert_search_context(categories=[\"MeatTopping\", \"PizzaBase\"], instance_ns_uri=\"http://www.msesboue.org/o/ir-onto-pizza-demo#\")\n",
    "print(query_insert_search)\n",
    "query_delete_search = query_delete_search_context(categories=[\"MeatTopping\", \"PizzaBase\"], instance_ns_uri=\"http://www.msesboue.org/o/ir-onto-pizza-demo#\")"
   ]
  },
  {
   "cell_type": "code",
   "execution_count": 22,
   "metadata": {},
   "outputs": [
    {
     "name": "stdout",
     "output_type": "stream",
     "text": [
      "204\n",
      "\n",
      "459\n"
     ]
    }
   ],
   "source": [
    "r = requests.post(\n",
    "    'http://localhost:7200/repositories/ir-onto-demo/statements', \n",
    "    data=query_insert_search, \n",
    "    headers={\"Content-type\": \"application/sparql-update\"}\n",
    ")\n",
    "print(r.status_code)\n",
    "print(r.text)\n",
    "\n",
    "if r.status_code == 204: # check that the triples have been created\n",
    "    r = requests.get(\n",
    "        'http://localhost:7200/repositories/ir-onto-demo/size'\n",
    "        )\n",
    "    print(r.text)"
   ]
  },
  {
   "cell_type": "code",
   "execution_count": 24,
   "metadata": {},
   "outputs": [
    {
     "name": "stdout",
     "output_type": "stream",
     "text": [
      "{'cate': {'type': 'uri', 'value': 'http://www.msesboue.org/o/ir-onto-pizza-demo#_hamTopping'}}\n",
      "{'cate': {'type': 'uri', 'value': 'http://www.msesboue.org/o/ir-onto-pizza-demo#_chickenTopping'}}\n",
      "{'cate': {'type': 'uri', 'value': 'http://www.msesboue.org/o/ir-onto-pizza-demo#_deepPanBase'}}\n",
      "{'cate': {'type': 'uri', 'value': 'http://www.msesboue.org/o/ir-onto-pizza-demo#_hotSpicedBeefTopping'}}\n",
      "{'cate': {'type': 'uri', 'value': 'http://www.msesboue.org/o/ir-onto-pizza-demo#_peperoniSausageTopping'}}\n",
      "{'cate': {'type': 'uri', 'value': 'http://www.msesboue.org/o/ir-onto-pizza-demo#_thinAndCrispyBase'}}\n"
     ]
    }
   ],
   "source": [
    "query_enabled_categories = \"\"\"\n",
    "    PREFIX ir-onto: <http://www.msesboue.org/o/ir-ontology#>\n",
    "    SELECT ?cate\n",
    "    WHERE {\n",
    "        ?cate rdf:type ir-onto:EnabledCategory .\n",
    "    }\n",
    "\"\"\"\n",
    "\n",
    "sparql.setQuery(query_enabled_categories)\n",
    "query_res = sparql.queryAndConvert()\n",
    "\n",
    "for r in query_res[\"results\"][\"bindings\"]:\n",
    "    print(r)"
   ]
  },
  {
   "cell_type": "code",
   "execution_count": 25,
   "metadata": {},
   "outputs": [
    {
     "name": "stdout",
     "output_type": "stream",
     "text": [
      "204\n",
      "\n",
      "460\n"
     ]
    }
   ],
   "source": [
    "q_make_enables_transitive = \"\"\"\n",
    "    PREFIX ir-onto: <http://www.msesboue.org/o/ir-ontology#>\n",
    "    INSERT DATA {\n",
    "        ir-onto:enablesCategory rdf:type  owl:TransitiveProperty.\n",
    "    }\n",
    "\"\"\"\n",
    "\n",
    "r = requests.post(\n",
    "    'http://localhost:7200/repositories/ir-onto-demo/statements', \n",
    "    data=q_make_enables_transitive, \n",
    "    headers={\"Content-type\": \"application/sparql-update\"}\n",
    ")\n",
    "print(r.status_code)\n",
    "print(r.text)\n",
    "\n",
    "if r.status_code == 204: # check that the triples have been created\n",
    "    r = requests.get(\n",
    "        'http://localhost:7200/repositories/ir-onto-demo/size'\n",
    "        )\n",
    "    print(r.text)"
   ]
  },
  {
   "cell_type": "code",
   "execution_count": 26,
   "metadata": {},
   "outputs": [
    {
     "name": "stdout",
     "output_type": "stream",
     "text": [
      "{'cate': {'type': 'uri', 'value': 'http://www.msesboue.org/o/ir-onto-pizza-demo#ParmaHamTopping'}}\n",
      "{'cate': {'type': 'uri', 'value': 'http://www.msesboue.org/o/ir-onto-pizza-demo#_hamTopping'}}\n",
      "{'cate': {'type': 'uri', 'value': 'http://www.msesboue.org/o/ir-onto-pizza-demo#_chickenTopping'}}\n",
      "{'cate': {'type': 'uri', 'value': 'http://www.msesboue.org/o/ir-onto-pizza-demo#_deepPanBase'}}\n",
      "{'cate': {'type': 'uri', 'value': 'http://www.msesboue.org/o/ir-onto-pizza-demo#_hotSpicedBeefTopping'}}\n",
      "{'cate': {'type': 'uri', 'value': 'http://www.msesboue.org/o/ir-onto-pizza-demo#_peperoniSausageTopping'}}\n",
      "{'cate': {'type': 'uri', 'value': 'http://www.msesboue.org/o/ir-onto-pizza-demo#_thinAndCrispyBase'}}\n"
     ]
    }
   ],
   "source": [
    "query_enabled_categories = \"\"\"\n",
    "    PREFIX ir-onto: <http://www.msesboue.org/o/ir-ontology#>\n",
    "    SELECT ?cate\n",
    "    WHERE {\n",
    "        ?cate rdf:type ir-onto:EnabledCategory .\n",
    "    }\n",
    "\"\"\"\n",
    "\n",
    "sparql.setQuery(query_enabled_categories)\n",
    "query_res = sparql.queryAndConvert()\n",
    "\n",
    "for r in query_res[\"results\"][\"bindings\"]:\n",
    "    print(r)"
   ]
  },
  {
   "cell_type": "code",
   "execution_count": 30,
   "metadata": {},
   "outputs": [
    {
     "name": "stdout",
     "output_type": "stream",
     "text": [
      "\n",
      "        PREFIX ir-onto: <http://www.msesboue.org/o/ir-ontology#>\n",
      "        PREFIX pizza: <http://www.msesboue.org/o/ir-onto-pizza-demo#>\n",
      "        DELETE DATA {\n",
      "            pizza:user_search a ir-onto:SearchContext ;\n",
      "                    ir-onto:hasContextCategory pizza:MeatTopping, pizza:PizzaBase .\n",
      "        }\n",
      "    \n"
     ]
    }
   ],
   "source": [
    "print(query_delete_search)"
   ]
  },
  {
   "cell_type": "code",
   "execution_count": 31,
   "metadata": {},
   "outputs": [
    {
     "name": "stdout",
     "output_type": "stream",
     "text": [
      "204\n",
      "\n",
      "457\n"
     ]
    }
   ],
   "source": [
    "r = requests.post(\n",
    "    'http://localhost:7200/repositories/ir-onto-demo/statements', \n",
    "    data=query_delete_search, \n",
    "    headers={\"Content-type\": \"application/sparql-update\"}\n",
    ")\n",
    "print(r.status_code)\n",
    "print(r.text)\n",
    "\n",
    "if r.status_code == 204: # check that the triples have been created\n",
    "    r = requests.get(\n",
    "        'http://localhost:7200/repositories/ir-onto-demo/size'\n",
    "        )\n",
    "    print(r.text)"
   ]
  },
  {
   "cell_type": "code",
   "execution_count": 32,
   "metadata": {},
   "outputs": [],
   "source": [
    "sparql.setQuery(query_enabled_categories)\n",
    "query_res = sparql.queryAndConvert()\n",
    "\n",
    "for r in query_res[\"results\"][\"bindings\"]:\n",
    "    print(r)"
   ]
  }
 ],
 "metadata": {
  "kernelspec": {
   "display_name": "ir-onto-venv",
   "language": "python",
   "name": "python3"
  },
  "language_info": {
   "codemirror_mode": {
    "name": "ipython",
    "version": 3
   },
   "file_extension": ".py",
   "mimetype": "text/x-python",
   "name": "python",
   "nbconvert_exporter": "python",
   "pygments_lexer": "ipython3",
   "version": "3.10.4"
  }
 },
 "nbformat": 4,
 "nbformat_minor": 2
}
