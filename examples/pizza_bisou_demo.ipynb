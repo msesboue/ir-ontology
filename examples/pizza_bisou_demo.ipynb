{
 "cells": [
  {
   "cell_type": "code",
   "execution_count": 1,
   "metadata": {},
   "outputs": [],
   "source": [
    "import requests\n",
    "from rdflib import Graph\n",
    "from rdflib.namespace import Namespace, OWL, RDF, RDFS\n",
    "\n",
    "from ir_onto_demos_utilities import (\n",
    "    show_instances, show_owl_classes, show_owl_obj_props, \n",
    "    sparql_update, sparql_select, insert_graph, delete_graph,\n",
    "    show_graph_portion\n",
    ")"
   ]
  },
  {
   "cell_type": "markdown",
   "metadata": {},
   "source": [
    "TODOs:\n",
    "- Group the searches demo process into on function\n",
    "- Demo a search refinement process\n",
    "- Demo adding some transversal relations\n",
    "- Demo studying some incompatible searches and documents."
   ]
  },
  {
   "cell_type": "markdown",
   "metadata": {},
   "source": [
    "# Demo: Information Retrieval ontology\n",
    "\n",
    "Requirements:\n",
    "\n",
    "- Docker must be installed and running (See Docker website for installation details: <https://docs.docker.com/get-started/overview/>).\n",
    "- We use docker to run the Ontotext GraphDB triple store: <https://www.ontotext.com/products/graphdb/>. Hence is it best if the docker image is already downloaded. Once you have docker installed and running you can run in a terminal the following command: `docker pull ontotext/graphdb:10.4.0`.\n",
    "- We use Python 3.10. For the python dependencies you can run `pip install -r requirements.txt` from the project root.\n",
    "\n",
    "## Introduction\n",
    "\n",
    "The main goal of this demo is to demonstrate the power of the Information Retrieval ontology. In a subsequent demo, we will demonstrate how one can leverage the same data graph for a separate purpose by simply applying another domain graph, i.e., another point of view on the same data.\n",
    "\n",
    "For our purpose we define a Knowledge Graph by deriving an RDF-based representation inspired from our understanding of the book \"Knowledge Graphs\" (<https://kgbook.org/>). Hence, the KG we will construct is based on the Directed Edge Labelled Graph (DELG) model (implemented using the Resource Description Framework (RDF)). As defined in the mentioned book we distinguish between the data graph and the domain graph, and even the mapping graph. The data graph represent the data. The domain graph represent the knowledge. And there exists a mapping between the both graph that we also represent as a graph. The following figure summarise our definition of a KG derived from the book.\n",
    "\n",
    "<!-- ![KG definition](data/kg_def_sw_technos.png \"Title\") -->\n",
    "<img src=\"data/kg_def_sw_technos.png\" alt=\"KG definition\" width=\"1000\" align=\"middle\"/>\n",
    "\n",
    "Round boxes denote components, while squared ones denote processes. Bold names in round boxes are the main components' labels. Some alternative labels are added below and in parentheses. The boxes' imbrications denote composition relations. The round box labelled __Mapping__ straddles the __Domain graph__ and __Data graph__ boxes denoting its mapping role. Finally, some SW candidate technologies to implement each component are mentioned in blue bold italic and underlined letters.\n",
    "\n",
    "In this demo we focus on:\n",
    "\n",
    "- Clearly distinguishing between the domain, mapping, and data graphs\n",
    "- Constructing a custom domain graph by extending an existing upper ontology, e.g., the Information Retrieval ontology\n",
    "- Leveraging SPARQL construct queries to build a mapping graph\n",
    "- Demonstrating how one can leverage the IR ontology logic to:\n",
    "  - Running a DL-based facetted search\n",
    "  - Analyse user queries and find semantically inconsistent ones\n",
    "  - Spotting some inconsistent documents\n",
    "\n",
    "## Context\n",
    "\n",
    "To demonstrate the potential of the IR ontology, we put it into practice following an example around pizzas. Some might notice that this example is chosen on purpose. Indeed, we will leverage the famous pizza ontology and the multiple existing variants.\n",
    "\n",
    "Let us introduce the context by putting ourselves in the choose of Roger, a pizza and technology lover. We have been making pizzas for as long as we can remember and now have our own restaurant. The business if going well and we decide to wisely allocate some time and money to leverage as best as possible our knowledge acquired by long years of experience. We recently heard about this fascinating technology that are KGs. Their representation of Semantics enables machines to look even smarter than before. So we decide to make a KG of our pizzas. In practice we first implement a data graph.\n",
    "\n",
    "## The data graph\n",
    "\n",
    "Our data graph is composed of two parts. The first is representing the pizzas proposed in our menu. For the purpose of this example we will use the pizzas proposed on the menu of the Bisou, a great pizzeria located in Rouen, France. You can find the menu here: <https://www.bisourouen.fr/#la-carte> (Accessed on December 2023). The second part focuses on different taxonomies we use to organise our pizzas.\n",
    "\n",
    "### The pizza graph\n",
    "\n",
    "To represent our pizzas we use the following relations:\n",
    "\n",
    "- `has_topping` links a pizza to an a topping ingredient.\n",
    "- `has_kind` links a pizza to an a sort of pizza, e.g., vegetarian.\n",
    "- `has_base` links a pizza to an a its base.\n",
    "- `has_spiciness` links a pizza to a spiciness level.\n",
    "\n",
    "According to the menu, we have 12 pizzas in our data graph, namely, ..."
   ]
  },
  {
   "cell_type": "code",
   "execution_count": 2,
   "metadata": {},
   "outputs": [],
   "source": [
    "# define some namespaces\n",
    "pizza_ns = Namespace(\"http://www.msesboue.org/o/pizza-data-demo/bisou#\")\n",
    "ir_onto_ns = Namespace(\"http://www.msesboue.org/o/ir-ontology#\")"
   ]
  },
  {
   "cell_type": "code",
   "execution_count": 3,
   "metadata": {},
   "outputs": [
    {
     "data": {
      "text/plain": [
       "<Graph identifier=N25175b2f6a07464c93d1b794e73a061b (<class 'rdflib.graph.Graph'>)>"
      ]
     },
     "execution_count": 3,
     "metadata": {},
     "output_type": "execute_result"
    }
   ],
   "source": [
    "# Load the pizza data graph\n",
    "pizza_bisou_g = Graph()\n",
    "pizza_bisou_g.bind(prefix=\"pizza\", namespace=pizza_ns)\n",
    "pizza_bisou_g.parse(\"./data/pizzas_bisou.ttl\")"
   ]
  },
  {
   "cell_type": "code",
   "execution_count": 4,
   "metadata": {},
   "outputs": [
    {
     "name": "stdout",
     "output_type": "stream",
     "text": [
      "http://www.msesboue.org/o/pizza-data-demo/bisou#has_topping\n",
      "http://www.msesboue.org/o/pizza-data-demo/bisou#has_base\n",
      "http://www.msesboue.org/o/pizza-data-demo/bisou#has_kind\n",
      "http://www.msesboue.org/o/pizza-data-demo/bisou#has_spiciness\n"
     ]
    }
   ],
   "source": [
    "# Query for the distinct relations in the data graph\n",
    "q_relations = \"\"\"\n",
    "    SELECT DISTINCT ?rel WHERE {\n",
    "        ?s ?rel ?o .\n",
    "    }\n",
    "\"\"\"\n",
    "\n",
    "for r in pizza_bisou_g.query(q_relations):\n",
    "    print(r[\"rel\"])"
   ]
  },
  {
   "cell_type": "code",
   "execution_count": 5,
   "metadata": {},
   "outputs": [
    {
     "name": "stdout",
     "output_type": "stream",
     "text": [
      "http://www.msesboue.org/o/pizza-data-demo/bisou#_bambino\n",
      "http://www.msesboue.org/o/pizza-data-demo/bisou#_burraTadah\n",
      "http://www.msesboue.org/o/pizza-data-demo/bisou#_godSaveTheKing\n",
      "http://www.msesboue.org/o/pizza-data-demo/bisou#_margherita20\n",
      "http://www.msesboue.org/o/pizza-data-demo/bisou#_biancaCastafiore\n",
      "http://www.msesboue.org/o/pizza-data-demo/bisou#_mortadella\n",
      "http://www.msesboue.org/o/pizza-data-demo/bisou#_hotStuff40\n",
      "http://www.msesboue.org/o/pizza-data-demo/bisou#_laVieEnRose\n",
      "http://www.msesboue.org/o/pizza-data-demo/bisou#_leonardo\n",
      "http://www.msesboue.org/o/pizza-data-demo/bisou#_quatroFromaggi\n",
      "http://www.msesboue.org/o/pizza-data-demo/bisou#_tartufo\n",
      "http://www.msesboue.org/o/pizza-data-demo/bisou#_zucchero\n"
     ]
    }
   ],
   "source": [
    "# Query for the pizzas in the data graph\n",
    "q_relations = \"\"\"\n",
    "    SELECT DISTINCT ?pizza WHERE {\n",
    "        ?pizza pizza:has_base ?base .\n",
    "    }\n",
    "\"\"\"\n",
    "\n",
    "for r in pizza_bisou_g.query(q_relations):\n",
    "    print(r[\"pizza\"])"
   ]
  },
  {
   "cell_type": "code",
   "execution_count": 6,
   "metadata": {},
   "outputs": [
    {
     "data": {
      "image/png": "[encoded data removed]",
      "text/plain": [
       "<Figure size 640x480 with 1 Axes>"
      ]
     },
     "metadata": {},
     "output_type": "display_data"
    }
   ],
   "source": [
    "# Let us visualise some of our pizza data graph\n",
    "show_graph_portion(subject_uris={pizza_ns._godSaveTheKing, pizza_ns._margherita20}, graph=pizza_bisou_g)"
   ]
  },
  {
   "cell_type": "markdown",
   "metadata": {},
   "source": [
    "### Taxonomies data graph\n",
    "\n",
    "In our taxonomy data graph, we represent four taxonomies:\n",
    "- A taxonomy of pizza bases\n",
    "- A taxonomy of pizza kinds\n",
    "- A taxonomy of pizza toppings\n",
    "- A taxonomy of spiciness\n",
    "\n",
    "The categories in the taxonomy data graph are linked together by \"has subcategory\" relations."
   ]
  },
  {
   "cell_type": "code",
   "execution_count": 7,
   "metadata": {},
   "outputs": [
    {
     "data": {
      "text/plain": [
       "<Graph identifier=N7199b8062fb842a3baca786c085c32e2 (<class 'rdflib.graph.Graph'>)>"
      ]
     },
     "execution_count": 7,
     "metadata": {},
     "output_type": "execute_result"
    }
   ],
   "source": [
    "# Load the taxonomies data graph\n",
    "taxonomies_g = Graph()\n",
    "taxonomies_g.bind(prefix=\"pizza\", namespace=pizza_ns)\n",
    "taxonomies_g.parse(\"./data/pizzas_bisou_taxo.ttl\")"
   ]
  },
  {
   "cell_type": "code",
   "execution_count": 8,
   "metadata": {},
   "outputs": [
    {
     "name": "stdout",
     "output_type": "stream",
     "text": [
      "http://www.msesboue.org/o/pizza-data-demo/bisou#_pizzaBase\n",
      "http://www.msesboue.org/o/pizza-data-demo/bisou#_pizzaKind\n",
      "http://www.msesboue.org/o/pizza-data-demo/bisou#_pizzaSpiciness\n",
      "http://www.msesboue.org/o/pizza-data-demo/bisou#_pizzaTopping\n"
     ]
    }
   ],
   "source": [
    "# Let us find the top categories in our taxonomies\n",
    "# A top category is a node in our data graph which do not have an in coming \"has subcategory\" link\n",
    "\n",
    "q_top_categories = \"\"\"\n",
    "    SELECT DISTINCT ?top_cate WHERE {\n",
    "        ?top_cate  pizza:has_subcategory  ?subcate .\n",
    "        FILTER NOT EXISTS {\n",
    "            ?other_cate  pizza:has_subcategory  ?top_cate .\n",
    "        }\n",
    "    }\n",
    "\"\"\"\n",
    "for r in taxonomies_g.query(q_top_categories): # This query is made over the ingredient graph\n",
    "    print(r[\"top_cate\"]) # print the pizzas URI"
   ]
  },
  {
   "cell_type": "code",
   "execution_count": 9,
   "metadata": {},
   "outputs": [
    {
     "name": "stdout",
     "output_type": "stream",
     "text": [
      "http://www.msesboue.org/o/pizza-data-demo/bisou#_pizzaBase\n",
      "http://www.msesboue.org/o/pizza-data-demo/bisou#_creamBase\n",
      "http://www.msesboue.org/o/pizza-data-demo/bisou#_blackTruffleCreamBase\n",
      "http://www.msesboue.org/o/pizza-data-demo/bisou#_mustardCreamBase\n",
      "http://www.msesboue.org/o/pizza-data-demo/bisou#_oignonCreamBase\n",
      "http://www.msesboue.org/o/pizza-data-demo/bisou#_onionSquashCreamBase\n",
      "http://www.msesboue.org/o/pizza-data-demo/bisou#_ricottaCreamBase\n",
      "http://www.msesboue.org/o/pizza-data-demo/bisou#_tomatoBase\n",
      "http://www.msesboue.org/o/pizza-data-demo/bisou#_tomatoSauceAlaNdujaBase\n"
     ]
    }
   ],
   "source": [
    "# Let us look at the triples in the pizza base taxonomy\n",
    "\n",
    "q_pizza_bases = \"\"\"\n",
    "    SELECT ?cate WHERE {\n",
    "        pizza:_pizzaBase  pizza:has_subcategory*  ?cate .\n",
    "    }\n",
    "\"\"\"\n",
    "for r in taxonomies_g.query(q_pizza_bases): # This query is made over the taxonomies graph\n",
    "    print(r[\"cate\"]) # print the category URI"
   ]
  },
  {
   "cell_type": "code",
   "execution_count": 10,
   "metadata": {},
   "outputs": [],
   "source": [
    "# Our data graph is the combination of the pizza and taxonomies data graphs\n",
    "data_graph = pizza_bisou_g + taxonomies_g"
   ]
  },
  {
   "cell_type": "markdown",
   "metadata": {},
   "source": [
    "## The domain graph\n",
    "\n",
    "Our domain graph is also composed of two parts. We leverage an \"upper\" ontology, namely, the Information Retrieval ontology. The latter upper ontology is extend with some domain knowledge about pizzas.\n",
    "\n",
    "### The Information Retrieval ontology\n",
    "\n",
    "Let us give some details about the IR ontology. If you need more feel free to open it in an ontology software such as Protégé. The IR ontology file is located at the root of this project: `information-retrieval-ontology.ttl`.\n",
    "\n",
    "The IR ontology is defined using OWL2 and views the IR domain as containing 3 main kinds of concepts:\n",
    "- Documents are the content the IR system is searching over. It could be text documents, entities of a KG, or images for instance.\n",
    "- Categories are the labels used to organise the documents. They group them together based on some shared peculiarities.\n",
    "- The Searches are user searches expressed as sets of categories\n",
    "\n",
    "User searches are defined a sets of categories. Those categories are then considered selected once the search is defined as the search context, i.e., the search we are considering at the moment.\n",
    "\n",
    "Among the categories, some are selected and others are enabled. The selected categories are the ones selected by a user, i.e., defined in the search context. The selected categories are linked to other categories then enable. A typical example of enabled categories are the subcategories of a selected one.\n",
    "\n",
    "Among the Documents some are candidate documents. Some documents are inferred candidates based on some selected categories. They are the document potentially relevant to the search context.\n",
    "\n",
    "The IR ontology also lets us defined some incompatible search and documents. We will explore those latter in this demo."
   ]
  },
  {
   "cell_type": "code",
   "execution_count": 11,
   "metadata": {},
   "outputs": [
    {
     "data": {
      "text/plain": [
       "<Graph identifier=N8ca42ec03988485abc6295819e35d0b2 (<class 'rdflib.graph.Graph'>)>"
      ]
     },
     "execution_count": 11,
     "metadata": {},
     "output_type": "execute_result"
    }
   ],
   "source": [
    "ir_onto_g = Graph()\n",
    "ir_onto_g.bind(prefix=\"ir-onto\", namespace=ir_onto_ns)\n",
    "ir_onto_g.parse(\"../information-retrieval-ontology-1.0.0.ttl\")"
   ]
  },
  {
   "cell_type": "code",
   "execution_count": 12,
   "metadata": {},
   "outputs": [
    {
     "name": "stdout",
     "output_type": "stream",
     "text": [
      "http://www.msesboue.org/o/ir-ontology#CandidateDocument\n",
      "http://www.msesboue.org/o/ir-ontology#Category\n",
      "http://www.msesboue.org/o/ir-ontology#Document\n",
      "http://www.msesboue.org/o/ir-ontology#EnabledCategory\n",
      "http://www.msesboue.org/o/ir-ontology#IncompatibleSearch\n",
      "http://www.msesboue.org/o/ir-ontology#Search\n",
      "http://www.msesboue.org/o/ir-ontology#SearchContext\n",
      "http://www.msesboue.org/o/ir-ontology#SelectedCategory\n"
     ]
    }
   ],
   "source": [
    "# Let us look at the IR ontology classes\n",
    "query_classes = \"\"\"\n",
    "    SELECT ?class\n",
    "    WHERE {\n",
    "        ?class rdf:type owl:Class .\n",
    "    }\n",
    "\"\"\"\n",
    "\n",
    "for r in ir_onto_g.query(query_classes):\n",
    "    print(r[\"class\"])"
   ]
  },
  {
   "cell_type": "markdown",
   "metadata": {},
   "source": [
    "The IR ontology also defines some object properties. The main ones are:\n",
    "- \"has search category\" which lets us define a search by linking it to its categories.\n",
    "- \"categorised by\" which links documents to their categories\n",
    "- \"enables category\" which links categories to the ones they should enable if they are selected in a search."
   ]
  },
  {
   "cell_type": "code",
   "execution_count": 13,
   "metadata": {},
   "outputs": [
    {
     "name": "stdout",
     "output_type": "stream",
     "text": [
      "http://www.msesboue.org/o/ir-onto-pizza-demo#hasDirectSubcategory\n",
      "http://www.msesboue.org/o/ir-ontology#categorizedBy\n",
      "http://www.msesboue.org/o/ir-ontology#categorizes\n",
      "http://www.msesboue.org/o/ir-ontology#enablesCategory\n",
      "http://www.msesboue.org/o/ir-ontology#hasSearchCategory\n",
      "http://www.msesboue.org/o/ir-ontology#hasSubcategory\n",
      "http://www.msesboue.org/o/ir-ontology#hasSupercategory\n"
     ]
    }
   ],
   "source": [
    "# Let us look at the IR ontology object properties\n",
    "query_classes = \"\"\"\n",
    "    SELECT ?prop\n",
    "    WHERE {\n",
    "        ?prop rdf:type owl:ObjectProperty .\n",
    "    }\n",
    "\"\"\"\n",
    "\n",
    "for r in ir_onto_g.query(query_classes):\n",
    "    print(r[\"prop\"])"
   ]
  },
  {
   "cell_type": "markdown",
   "metadata": {},
   "source": [
    "### Extending the IR ontology\n",
    "\n",
    "We now extend the IR ontology with our domain knowledge about pizzas.\n",
    "\n",
    "In our pizza domain we have 5 types of instances: pizza, pizza toppings, pizza bases, spiciness, and pizza kinds."
   ]
  },
  {
   "cell_type": "code",
   "execution_count": 14,
   "metadata": {},
   "outputs": [],
   "source": [
    "# Initialise our pizza domain graph\n",
    "pizza_domain_g = Graph()\n",
    "pizza_domain_g.bind(prefix=\"pizza\", namespace=pizza_ns)\n",
    "pizza_domain_g.bind(prefix=\"ir-onto\", namespace=ir_onto_ns)"
   ]
  },
  {
   "cell_type": "code",
   "execution_count": 15,
   "metadata": {},
   "outputs": [
    {
     "data": {
      "text/plain": [
       "<Graph identifier=N0b9a43d889984be5a32fa56739b6111e (<class 'rdflib.graph.Graph'>)>"
      ]
     },
     "execution_count": 15,
     "metadata": {},
     "output_type": "execute_result"
    }
   ],
   "source": [
    "pizza_domain_g.add((pizza_ns.Pizza, RDF.type, OWL.Class))\n",
    "pizza_domain_g.add((pizza_ns.PizzaTopping, RDF.type, OWL.Class))\n",
    "pizza_domain_g.add((pizza_ns.PizzaBase, RDF.type, OWL.Class))\n",
    "pizza_domain_g.add((pizza_ns.Spiciness, RDF.type, OWL.Class))\n",
    "pizza_domain_g.add((pizza_ns.PizzaKind, RDF.type, OWL.Class))"
   ]
  },
  {
   "cell_type": "markdown",
   "metadata": {},
   "source": [
    "We do not need much more in our pizza domain graph for the moment. But to finish it we need to link it to the IR ontology. We first need to:\n",
    "- Define what are we looking for with our IR system, i.e., define the documents in our domain (the pizzas).\n",
    "- Define how do we categories our documents, i.e., our pizzas."
   ]
  },
  {
   "cell_type": "code",
   "execution_count": 16,
   "metadata": {},
   "outputs": [
    {
     "data": {
      "text/plain": [
       "<Graph identifier=N0b9a43d889984be5a32fa56739b6111e (<class 'rdflib.graph.Graph'>)>"
      ]
     },
     "execution_count": 16,
     "metadata": {},
     "output_type": "execute_result"
    }
   ],
   "source": [
    "# In our example the search engine goal is to find pizzas\n",
    "pizza_domain_g.add((pizza_ns.Pizza, RDFS.subClassOf, ir_onto_ns.Document))\n",
    "\n",
    "# Let us now add the links to the IR ontology\n",
    "# In our example we categorise pizzas by country, base, kind, topping and spiciness\n",
    "pizza_domain_g.add((pizza_ns.PizzaBase, RDFS.subClassOf, ir_onto_ns.Category))\n",
    "pizza_domain_g.add((pizza_ns.PizzaKind, RDFS.subClassOf, ir_onto_ns.Category))\n",
    "pizza_domain_g.add((pizza_ns.PizzaTopping, RDFS.subClassOf, ir_onto_ns.Category))\n",
    "pizza_domain_g.add((pizza_ns.Spiciness, RDFS.subClassOf, ir_onto_ns.Category))"
   ]
  },
  {
   "cell_type": "markdown",
   "metadata": {},
   "source": [
    "Finally we know some extra things about our domain:\n",
    "- Subcategories are enabled by the parent selected categories.\n",
    "- When a parent category is selected, all the subcategories should be enabled."
   ]
  },
  {
   "cell_type": "code",
   "execution_count": 17,
   "metadata": {},
   "outputs": [
    {
     "data": {
      "text/plain": [
       "<Graph identifier=N0b9a43d889984be5a32fa56739b6111e (<class 'rdflib.graph.Graph'>)>"
      ]
     },
     "execution_count": 17,
     "metadata": {},
     "output_type": "execute_result"
    }
   ],
   "source": [
    "# In our example when a category is selected we want ot have the subcategories enabled --> SHOULD BE PART OF OUR DOMAIN GRAPH\n",
    "pizza_domain_g.add((ir_onto_ns.hasSubcategory, RDFS.subPropertyOf, ir_onto_ns.enablesCategory))\n",
    "pizza_domain_g.add((ir_onto_ns.hasSubcategory, RDF.type, OWL.TransitiveProperty)) # otherwise, only the first subcategory level is enabled"
   ]
  },
  {
   "cell_type": "code",
   "execution_count": 18,
   "metadata": {},
   "outputs": [],
   "source": [
    "# Our domain graph is composed of the IR ontology extended with our domain knowledge\n",
    "domain_graph = ir_onto_g + pizza_domain_g"
   ]
  },
  {
   "cell_type": "markdown",
   "metadata": {},
   "source": [
    "### The mapping graph\n",
    "\n",
    "Now that we have defined our data and domain graphs, we need to link them together. To do so we will leverage some SPARQL construct queries.\n",
    "\n",
    "Before diving in, notice that defining a node in our data graph as being a instance or a link as being an object property is already defining a mapping. In this case we are mapping our data graph with the OWL domain graph. Furthermore, we map our data graph with our pizza domain graph."
   ]
  },
  {
   "cell_type": "code",
   "execution_count": 19,
   "metadata": {},
   "outputs": [],
   "source": [
    "map_to_ir_onto_g = Graph()\n",
    "map_to_ir_onto_g.bind(prefix=\"pizza\", namespace=pizza_ns)\n",
    "map_to_ir_onto_g.bind(prefix=\"ir-onto\", namespace=ir_onto_ns)"
   ]
  },
  {
   "cell_type": "markdown",
   "metadata": {},
   "source": [
    "Let us first map our data graph into the OWL2 domain graph."
   ]
  },
  {
   "cell_type": "code",
   "execution_count": 20,
   "metadata": {},
   "outputs": [],
   "source": [
    "# Make the triples actual named individual and object properties\n",
    "query = \"\"\"\n",
    "    CONSTRUCT {\n",
    "        ?s   rdf:type    owl:NamedIndividual .\n",
    "        ?p   rdf:type    owl:ObjectProperty .\n",
    "        ?o   rdf:type    owl:NamedIndividual .\n",
    "    } WHERE {\n",
    "        ?s  ?p  ?o .\n",
    "    }\n",
    "\"\"\"\n",
    "\n",
    "for triple in data_graph.query(query):\n",
    "    map_to_ir_onto_g.add(triple)"
   ]
  },
  {
   "cell_type": "markdown",
   "metadata": {},
   "source": [
    "More than just OWL named individuals, some nodes in our data graph are actually of type Pizza."
   ]
  },
  {
   "cell_type": "code",
   "execution_count": 21,
   "metadata": {},
   "outputs": [],
   "source": [
    "# Each pizzas in our data graph has a base\n",
    "# So this construct query will make sure each pizza is defined as an instance of the class Pizza.\n",
    "\n",
    "q_construct_pizza = \"\"\"\n",
    "    CONSTRUCT {\n",
    "        ?pizza   rdf:type    pizza:Pizza .\n",
    "    } WHERE {\n",
    "        ?pizza  pizza:has_base  ?base .\n",
    "    }\n",
    "\"\"\"\n",
    "for triple in pizza_bisou_g.query(q_construct_pizza): # This query is made over the pizza graph\n",
    "    map_to_ir_onto_g.add(triple)"
   ]
  },
  {
   "cell_type": "markdown",
   "metadata": {},
   "source": [
    "More than just OWL named individuals, some nodes in our data graph are actually of type part of a taxonomy, i.e., pizza topping, base, kinds or spiciness.\n",
    "\n",
    "Let us group the categories by their taxonomies for each top category we will assert the top category and its children (has subcategory) as an instance of the corresponding top category class.\n",
    "\n",
    "Some remarks:\n",
    "- We could have used a punning approach for the top level category but we wish to keep this demo as simple as possible for the moment. \n",
    "- We could also use reasoning by simply declaring a domain and a range for each object properties But it a way more restrictive approach that we might not want"
   ]
  },
  {
   "cell_type": "code",
   "execution_count": 22,
   "metadata": {},
   "outputs": [],
   "source": [
    "q_construct_pizza_kinds = \"\"\"\n",
    "    CONSTRUCT {\n",
    "        ?kind   rdf:type    pizza:PizzaKind .\n",
    "    } WHERE {\n",
    "        pizza:_pizzaKind  pizza:has_subcategory*  ?kind .\n",
    "    }\n",
    "\"\"\"\n",
    "for triple in taxonomies_g.query(q_construct_pizza_kinds): # This query is made over the taxonomies graph\n",
    "    map_to_ir_onto_g.add(triple)\n",
    "\n",
    "q_construct_pizza_bases = \"\"\"\n",
    "    CONSTRUCT {\n",
    "        ?base   rdf:type    pizza:PizzaBase .\n",
    "    } WHERE {\n",
    "        pizza:_pizzaBase  pizza:has_subcategory*  ?base .\n",
    "    }\n",
    "\"\"\"\n",
    "for triple in taxonomies_g.query(q_construct_pizza_bases): # This query is made over the taxonomies graph\n",
    "    map_to_ir_onto_g.add(triple)\n",
    "\n",
    "q_construct_pizza_spiciness = \"\"\"\n",
    "    CONSTRUCT {\n",
    "        ?kind   rdf:type    pizza:PizzaSpiciness .\n",
    "    } WHERE {\n",
    "        pizza:_pizzaSpiciness  pizza:has_subcategory*  ?kind .\n",
    "    }\n",
    "\"\"\"\n",
    "for triple in taxonomies_g.query(q_construct_pizza_spiciness): # This query is made over the taxonomies graph\n",
    "    map_to_ir_onto_g.add(triple)\n",
    "\n",
    "q_construct_pizza_toppings = \"\"\"\n",
    "    CONSTRUCT {\n",
    "        ?topping   rdf:type    pizza:PizzaTopping .\n",
    "    } WHERE {\n",
    "        pizza:_pizzaToppings  pizza:has_subcategory*  ?topping .\n",
    "    }\n",
    "\"\"\"\n",
    "for triple in taxonomies_g.query(q_construct_pizza_toppings): # This query is made over the taxonomies graph\n",
    "    map_to_ir_onto_g.add(triple)"
   ]
  },
  {
   "cell_type": "markdown",
   "metadata": {},
   "source": [
    "We now map our data graph more specifically to the IR ontology:\n",
    "- The taxonomies data graph has subcategory relation is equivalent to the one in the IR ontology.\n",
    "- Each of the pizza data graph relations are used to categorise the pizzas."
   ]
  },
  {
   "cell_type": "code",
   "execution_count": 23,
   "metadata": {},
   "outputs": [
    {
     "data": {
      "text/plain": [
       "<Graph identifier=Nd79da65e5ecb494aaa0f22d01b865e81 (<class 'rdflib.graph.Graph'>)>"
      ]
     },
     "execution_count": 23,
     "metadata": {},
     "output_type": "execute_result"
    }
   ],
   "source": [
    "# The pizza:has_subcategory relation is the same as the IR ontology one\n",
    "map_to_ir_onto_g.add((pizza_ns.has_subcategory, OWL.equivalentProperty, ir_onto_ns.hasSubcategory))\n",
    "\n",
    "# In our example the relations in our data graph categorizing the pizzas are has_topping, has_kind, has_spiciness, has_base.\n",
    "map_to_ir_onto_g.add((pizza_ns.has_spiciness, RDFS.subPropertyOf, ir_onto_ns.categorizedBy))\n",
    "map_to_ir_onto_g.add((pizza_ns.has_kind, RDFS.subPropertyOf, ir_onto_ns.categorizedBy))\n",
    "map_to_ir_onto_g.add((pizza_ns.has_topping, RDFS.subPropertyOf, ir_onto_ns.categorizedBy))\n",
    "map_to_ir_onto_g.add((pizza_ns.has_base, RDFS.subPropertyOf, ir_onto_ns.categorizedBy))"
   ]
  },
  {
   "cell_type": "code",
   "execution_count": 24,
   "metadata": {},
   "outputs": [],
   "source": [
    "# The KG is the combination of the data and domain graphs, and the mapping between both\n",
    "knowledge_graph = data_graph + map_to_ir_onto_g + domain_graph "
   ]
  },
  {
   "cell_type": "code",
   "execution_count": 25,
   "metadata": {},
   "outputs": [
    {
     "data": {
      "text/plain": [
       "<Graph identifier=N40412261c983456d8c36e1996f06d901 (<class 'rdflib.graph.Graph'>)>"
      ]
     },
     "execution_count": 25,
     "metadata": {},
     "output_type": "execute_result"
    }
   ],
   "source": [
    "# Save each part of the domain and data graphs separately so you can explore them in a visualisation software.\n",
    "domain_graph.serialize(destination=\"./data/pizzas_bisou_domain_g.ttl\", format=\"turtle\")\n",
    "map_to_ir_onto_g.serialize(destination=\"./data/pizzas_bisou_map_to_ir_onto.ttl\", format=\"turtle\")\n",
    "knowledge_graph.serialize(destination=\"./data/pizza_bisou_kg.ttl\", format=\"turtle\")"
   ]
  },
  {
   "cell_type": "markdown",
   "metadata": {},
   "source": [
    "## Information Retrieval Ontology usage examples\n",
    "\n",
    "Let us now see some examples of what can we do with the IR ontology.\n",
    "\n",
    "For these demos we will use a triple store database in a server. \n",
    "Another tutorial will explore the same examples with in memory only requirements. \n",
    "These demos require OWL inference at query time. We chose the OntoText GraphDB triple store (v10.4.0): <https://graphdb.ontotext.com/documentation/10.0/index.html>. Hence, some pieces of code might be specific to the GraphDB APIs. We will try to flag those as much as possible. Once you the docker container is running you can see their Web API documentation there: <http://localhost:7200/webapi>.\n",
    "However, GraphDB implements the RDF4J REST API specification (<https://rdf4j.org/documentation/reference/rest-api/>). So we will try to make use of it as much as possible.\n",
    "\n",
    "We use the Docker GraphDB instance without any license (the GraphDB Free version). Hence, you will need to have Docker installed and running on your computer (See Docker installation procedure: <https://docs.docker.com/get-docker/>). Let's start from there.\n",
    "\n",
    "1. Download the GraphDB image: `docker pull ontotext/graphdb:10.4.0`\n",
    "   - OntoText related documentation pointers:\n",
    "     - <https://github.com/Ontotext-AD/graphdb-docker>\n",
    "     - <https://hub.docker.com/r/ontotext/graphdb/>\n",
    "2. Run the image: `docker run -p 127.0.0.1:7200:7200 --name graphdb-ir-onto -t ontotext/graphdb:10.4.0`\n",
    "3. From now on the rest is in the code."
   ]
  },
  {
   "cell_type": "code",
   "execution_count": 26,
   "metadata": {},
   "outputs": [
    {
     "name": "stdout",
     "output_type": "stream",
     "text": [
      "c8f82e24891c0ef9fa9f7f216c75b0ad52a43b6038cf0502b069e0442d341cb6\n"
     ]
    }
   ],
   "source": [
    "!docker run -d -p 127.0.0.1:7200:7200 --name graphdb-ir-onto -t ontotext/graphdb:10.4.0"
   ]
  },
  {
   "cell_type": "code",
   "execution_count": 27,
   "metadata": {},
   "outputs": [
    {
     "name": "stdout",
     "output_type": "stream",
     "text": [
      "201\n",
      "\n",
      "200\n",
      "uri,id,title,readable,writable\n",
      "http://localhost:7200/repositories/ir-onto-demo,ir-onto-demo,,true,true\n",
      "\n"
     ]
    }
   ],
   "source": [
    "# Setting up the repository we will work with\n",
    "\n",
    "# Load the repository configuration (WARNING: specific to GraphDB)\n",
    "repo_config_graph = Graph()\n",
    "repo_config_graph.parse(\"./data/ir-onto-demo-graphdb-config.ttl\")\n",
    "repo_config_ttl_string = repo_config_graph.serialize(format=\"turtle\")\n",
    "\n",
    "headers = {\n",
    "    \"Accept\": \"application/json\",\n",
    "}\n",
    "data = {\n",
    "    \"config\": (\"config.ttl\", repo_config_ttl_string)\n",
    "}\n",
    "\n",
    "# Uses the GraphDB REST API (WARNING: specific to GraphDB)\n",
    "r = requests.post(\"http://localhost:7200/rest/repositories\", headers=headers, files=data)\n",
    "print(r.status_code)\n",
    "print(r.text)\n",
    "\n",
    "# Check that the repository is created\n",
    "r = requests.get('http://localhost:7200/repositories', headers={\"Content-type\": \"application/rdf+xml\"})\n",
    "print(r.status_code)\n",
    "print(r.text)\n",
    "\n",
    "# Define the server info for future interactions\n",
    "DB_IP = \"localhost\"\n",
    "DB_PORT = \"7200\"\n",
    "DB_URL = f\"http://{DB_IP}:{DB_PORT}\"\n",
    "REPOSITORY_ID = \"ir-onto-demo\"\n",
    "\n",
    "demo_ns_manager = knowledge_graph.namespace_manager"
   ]
  },
  {
   "cell_type": "code",
   "execution_count": 28,
   "metadata": {},
   "outputs": [
    {
     "name": "stdout",
     "output_type": "stream",
     "text": [
      "OK\n"
     ]
    }
   ],
   "source": [
    "# Lets add the pizza taxonomies to our DB\n",
    "insert_graph(graph=knowledge_graph, db_url=DB_URL, repo_id=REPOSITORY_ID)"
   ]
  },
  {
   "cell_type": "markdown",
   "metadata": {},
   "source": [
    "### Let us add some user searches"
   ]
  },
  {
   "cell_type": "code",
   "execution_count": 29,
   "metadata": {},
   "outputs": [
    {
     "data": {
      "text/plain": [
       "<Graph identifier=N4da9d7b28b0b45aeb1fed3e1cd712b95 (<class 'rdflib.graph.Graph'>)>"
      ]
     },
     "execution_count": 29,
     "metadata": {},
     "output_type": "execute_result"
    }
   ],
   "source": [
    "searches_graph = Graph()\n",
    "searches_graph.bind(prefix=\"pizza\", namespace=pizza_ns)\n",
    "searches_graph.bind(prefix=\"ir-onto\", namespace=ir_onto_ns)\n",
    "\n",
    "searches_graph.add((pizza_ns._meatyToppingSearch, RDF.type, ir_onto_ns.Search))\n",
    "searches_graph.add((pizza_ns._meatyToppingSearch, ir_onto_ns.hasSearchCategory, pizza_ns._meat))\n",
    "\n",
    "searches_graph.add((pizza_ns._onionMushroomToppingSearch, RDF.type, ir_onto_ns.Search))\n",
    "searches_graph.add((pizza_ns._onionMushroomToppingSearch, ir_onto_ns.hasSearchCategory, pizza_ns._onion))\n",
    "searches_graph.add((pizza_ns._onionMushroomToppingSearch, ir_onto_ns.hasSearchCategory, pizza_ns._mushroom))\n",
    "\n",
    "searches_graph.add((pizza_ns._hamToppingSearch, RDF.type, ir_onto_ns.Search))\n",
    "searches_graph.add((pizza_ns._hamToppingSearch, ir_onto_ns.hasSearchCategory, pizza_ns._ham))\n",
    "\n",
    "searches_graph.add((pizza_ns._veggieSearch, RDF.type, ir_onto_ns.Search))\n",
    "searches_graph.add((pizza_ns._veggieSearch, ir_onto_ns.hasSearchCategory, pizza_ns._vegetarianPizza))"
   ]
  },
  {
   "cell_type": "code",
   "execution_count": 30,
   "metadata": {},
   "outputs": [
    {
     "data": {
      "image/png": "[encoded data removed]",
      "text/plain": [
       "<Figure size 640x480 with 1 Axes>"
      ]
     },
     "metadata": {},
     "output_type": "display_data"
    }
   ],
   "source": [
    "show_graph_portion({pizza_ns._meatyToppingSearch, pizza_ns._onionMushroomToppingSearch}, graph=searches_graph)"
   ]
  },
  {
   "cell_type": "code",
   "execution_count": 31,
   "metadata": {},
   "outputs": [
    {
     "name": "stdout",
     "output_type": "stream",
     "text": [
      "OK\n"
     ]
    }
   ],
   "source": [
    "# Lets add the searches to our DB\n",
    "insert_graph(graph=searches_graph, db_url=DB_URL, repo_id=REPOSITORY_ID)"
   ]
  },
  {
   "cell_type": "code",
   "execution_count": 32,
   "metadata": {},
   "outputs": [],
   "source": [
    "# Encapsulate some SPARQL queries to make easier switching a search to be the search context and removing it. \n",
    "def make_search_the_context(user_search_uri: str) -> None:\n",
    "    query = f\"\"\"\n",
    "        PREFIX ir-onto: <http://www.msesboue.org/o/ir-ontology#>\n",
    "        INSERT DATA {{\n",
    "            <{user_search_uri}> a ir-onto:SearchContext .\n",
    "        }}\n",
    "    \"\"\"\n",
    "\n",
    "    sparql_update(sparql_query=query, db_url=DB_URL, repo_id=REPOSITORY_ID)\n",
    "\n",
    "def remove_search_as_context(user_search_uri: str) -> None:\n",
    "    query = f\"\"\"\n",
    "        PREFIX ir-onto: <http://www.msesboue.org/o/ir-ontology#>\n",
    "        DELETE DATA {{\n",
    "            <{user_search_uri}> a ir-onto:SearchContext .\n",
    "        }}\n",
    "    \"\"\"\n",
    "\n",
    "    sparql_update(sparql_query=query, db_url=DB_URL, repo_id=REPOSITORY_ID)"
   ]
  },
  {
   "cell_type": "code",
   "execution_count": 33,
   "metadata": {},
   "outputs": [
    {
     "name": "stdout",
     "output_type": "stream",
     "text": [
      "OK\n",
      "Instances of http://www.msesboue.org/o/ir-ontology#SelectedCategory\n",
      "pizza:_rostelloHamWithHerbs\n",
      "pizza:_parmaHam\n",
      "pizza:_jambonDeParisWithHerbs\n",
      "pizza:_spianataPiccante\n",
      "pizza:_speck\n",
      "pizza:_bresaola\n",
      "pizza:_meat\n",
      "pizza:_jambonDeParisWithBlackTruffle\n",
      "pizza:_ham\n",
      "pizza:_mortadella\n",
      "\n",
      "Instances of http://www.msesboue.org/o/ir-ontology#EnabledCategory\n",
      "pizza:_rostelloHamWithHerbs\n",
      "pizza:_parmaHam\n",
      "pizza:_jambonDeParisWithHerbs\n",
      "pizza:_spianataPiccante\n",
      "pizza:_speck\n",
      "pizza:_bresaola\n",
      "pizza:_jambonDeParisWithBlackTruffle\n",
      "pizza:_ham\n",
      "pizza:_mortadella\n",
      "\n",
      "Instances of http://www.msesboue.org/o/ir-ontology#CandidateDocument\n",
      "pizza:_bambino\n",
      "pizza:_burraTadah\n",
      "pizza:_godSaveTheKing\n",
      "pizza:_hotStuff40\n",
      "pizza:_laVieEnRose\n",
      "pizza:_leonardo\n",
      "pizza:_tartufo\n",
      "pizza:_zucchero\n",
      "pizza:_mortadella\n",
      "\n",
      "OK\n"
     ]
    }
   ],
   "source": [
    "search_context = pizza_ns._meatyToppingSearch\n",
    "\n",
    "make_search_the_context(user_search_uri=str(search_context))\n",
    "\n",
    "show_instances(class_uri=str(ir_onto_ns.SelectedCategory), ns_manager=demo_ns_manager, db_url=DB_URL, repo_id=REPOSITORY_ID, limit=10)\n",
    "show_instances(class_uri=str(ir_onto_ns.EnabledCategory), ns_manager=demo_ns_manager, db_url=DB_URL, repo_id=REPOSITORY_ID, limit=10)\n",
    "show_instances(class_uri=str(ir_onto_ns.CandidateDocument), ns_manager=demo_ns_manager, db_url=DB_URL, repo_id=REPOSITORY_ID, limit=10)\n",
    "\n",
    "remove_search_as_context(user_search_uri=str(search_context))\n",
    "\n",
    "# No candidate document because pizzas are linked to particular meats, not the generic meat category"
   ]
  },
  {
   "cell_type": "code",
   "execution_count": 34,
   "metadata": {},
   "outputs": [
    {
     "name": "stdout",
     "output_type": "stream",
     "text": [
      "OK\n",
      "Instances of http://www.msesboue.org/o/ir-ontology#SelectedCategory\n",
      "pizza:_carpaccioChampignonDeParis\n",
      "pizza:_redOnion\n",
      "pizza:_champignonDeParis\n",
      "pizza:_mushroom\n",
      "pizza:_onion\n",
      "\n",
      "Instances of http://www.msesboue.org/o/ir-ontology#EnabledCategory\n",
      "pizza:_carpaccioChampignonDeParis\n",
      "pizza:_redOnion\n",
      "pizza:_champignonDeParis\n",
      "\n",
      "Instances of http://www.msesboue.org/o/ir-ontology#CandidateDocument\n",
      "pizza:_godSaveTheKing\n",
      "pizza:_laVieEnRose\n",
      "pizza:_tartufo\n",
      "\n",
      "OK\n"
     ]
    }
   ],
   "source": [
    "search_context = pizza_ns._onionMushroomToppingSearch\n",
    "\n",
    "make_search_the_context(user_search_uri=str(search_context))\n",
    "\n",
    "show_instances(class_uri=str(ir_onto_ns.SelectedCategory), ns_manager=demo_ns_manager, db_url=DB_URL, repo_id=REPOSITORY_ID, limit=10)\n",
    "show_instances(class_uri=str(ir_onto_ns.EnabledCategory), ns_manager=demo_ns_manager, db_url=DB_URL, repo_id=REPOSITORY_ID, limit=10)\n",
    "show_instances(class_uri=str(ir_onto_ns.CandidateDocument), ns_manager=demo_ns_manager, db_url=DB_URL, repo_id=REPOSITORY_ID, limit=10)\n",
    "\n",
    "remove_search_as_context(user_search_uri=str(search_context))\n",
    "\n",
    "# No candidate document because pizzas are linked to red onion and champignon de paris, not mushroom and onion"
   ]
  },
  {
   "cell_type": "code",
   "execution_count": 35,
   "metadata": {},
   "outputs": [
    {
     "name": "stdout",
     "output_type": "stream",
     "text": [
      "OK\n",
      "Instances of http://www.msesboue.org/o/ir-ontology#SelectedCategory\n",
      "pizza:_rostelloHamWithHerbs\n",
      "pizza:_jambonDeParisWithHerbs\n",
      "pizza:_jambonDeParisWithBlackTruffle\n",
      "pizza:_ham\n",
      "\n",
      "Instances of http://www.msesboue.org/o/ir-ontology#EnabledCategory\n",
      "pizza:_rostelloHamWithHerbs\n",
      "pizza:_jambonDeParisWithHerbs\n",
      "pizza:_jambonDeParisWithBlackTruffle\n",
      "\n",
      "Instances of http://www.msesboue.org/o/ir-ontology#CandidateDocument\n",
      "pizza:_bambino\n",
      "pizza:_godSaveTheKing\n",
      "pizza:_tartufo\n",
      "\n",
      "OK\n"
     ]
    }
   ],
   "source": [
    "search_context = pizza_ns._hamToppingSearch\n",
    "\n",
    "make_search_the_context(user_search_uri=str(search_context))\n",
    "\n",
    "show_instances(class_uri=str(ir_onto_ns.SelectedCategory), ns_manager=demo_ns_manager, db_url=DB_URL, repo_id=REPOSITORY_ID, limit=10)\n",
    "show_instances(class_uri=str(ir_onto_ns.EnabledCategory), ns_manager=demo_ns_manager, db_url=DB_URL, repo_id=REPOSITORY_ID, limit=10)\n",
    "show_instances(class_uri=str(ir_onto_ns.CandidateDocument), ns_manager=demo_ns_manager, db_url=DB_URL, repo_id=REPOSITORY_ID, limit=10)\n",
    "\n",
    "remove_search_as_context(user_search_uri=str(search_context))\n",
    "\n",
    "# No candidate document because pizzas are linked to jambon de Paris with black truffle and jambon de Paris with herbs, not directly ham."
   ]
  },
  {
   "cell_type": "code",
   "execution_count": 36,
   "metadata": {},
   "outputs": [
    {
     "name": "stdout",
     "output_type": "stream",
     "text": [
      "OK\n",
      "Instances of http://www.msesboue.org/o/ir-ontology#SelectedCategory\n",
      "pizza:_vegetarianPizza\n",
      "\n",
      "Instances of http://www.msesboue.org/o/ir-ontology#EnabledCategory\n",
      "\n",
      "Instances of http://www.msesboue.org/o/ir-ontology#CandidateDocument\n",
      "pizza:_biancaCastafiore\n",
      "pizza:_margherita20\n",
      "pizza:_quatroFromaggi\n",
      "\n",
      "OK\n"
     ]
    }
   ],
   "source": [
    "search_context = pizza_ns._veggieSearch\n",
    "\n",
    "make_search_the_context(user_search_uri=str(search_context))\n",
    "\n",
    "show_instances(class_uri=str(ir_onto_ns.SelectedCategory), ns_manager=demo_ns_manager, db_url=DB_URL, repo_id=REPOSITORY_ID, limit=10)\n",
    "show_instances(class_uri=str(ir_onto_ns.EnabledCategory), ns_manager=demo_ns_manager, db_url=DB_URL, repo_id=REPOSITORY_ID, limit=10)\n",
    "show_instances(class_uri=str(ir_onto_ns.CandidateDocument), ns_manager=demo_ns_manager, db_url=DB_URL, repo_id=REPOSITORY_ID, limit=10)\n",
    "\n",
    "remove_search_as_context(user_search_uri=str(search_context))\n",
    "\n",
    "# According to the Bisou menu, the vegetarian pizzas are:\n",
    "# - The Margherita 2.0\n",
    "# - The 4 Formaggi\n",
    "# - The Bianca Castafiore"
   ]
  },
  {
   "cell_type": "markdown",
   "metadata": {},
   "source": [
    "## Let us add a transversal relation\n",
    "\n",
    "What does make a pizza non vegetarian?\n",
    "What does make a pizza spicy?\n",
    "what does make a pizza pork one?\n",
    "\n",
    "To do so, we will:\n",
    "1. update our data graph\n",
    "2. update our mapping"
   ]
  },
  {
   "cell_type": "code",
   "execution_count": null,
   "metadata": {},
   "outputs": [],
   "source": [
    "q_construct_make_meaty_pizza = \"\"\"\n",
    "    CONSTRUCT {\n",
    "        ?cate pizza:makesPizza pizza:_meatyPizza .\n",
    "    } WHERE {\n",
    "        ?cate pizza:has_category/pizza:has_subcategory* pizza:_meat .\n",
    "    }\n",
    "\"\"\"\n",
    "for triple in data_graph.query(q_construct_make_meaty_pizza): # This query is made over the taxonomies graph\n",
    "    print(triple)"
   ]
  },
  {
   "cell_type": "code",
   "execution_count": 36,
   "metadata": {},
   "outputs": [],
   "source": [
    "# Ex: if a pizza is categorised by a meat topping the category meaty pizza should be enabled\n",
    "# mapping_graph.add((pizza_onto_demo_ns.makesIt, RDFS.subPropertyOf, ir_onto_ns.enablesCategory))"
   ]
  },
  {
   "cell_type": "markdown",
   "metadata": {},
   "source": [
    "## Let us create some incompatible documents and searches\n",
    "\n",
    "For our example we will focus on what is a vegetarian pizza and a pizza without pork."
   ]
  },
  {
   "cell_type": "code",
   "execution_count": null,
   "metadata": {},
   "outputs": [],
   "source": [
    "(has_kind value pizza:_meatyPizza) and (has_kind value pizza:_vegetarianPizza)"
   ]
  },
  {
   "cell_type": "markdown",
   "metadata": {},
   "source": [
    "## Let us explore some incompatible documents and searches"
   ]
  },
  {
   "cell_type": "code",
   "execution_count": 37,
   "metadata": {},
   "outputs": [
    {
     "data": {
      "text/plain": [
       "<Graph identifier=N80ce43da67744203b74be536c74c8a5e (<class 'rdflib.graph.Graph'>)>"
      ]
     },
     "execution_count": 37,
     "metadata": {},
     "output_type": "execute_result"
    }
   ],
   "source": [
    "searches_graph.add((pizza_ns._veggieWithHamSearch, RDF.type, ir_onto_ns.Search))\n",
    "searches_graph.add((pizza_ns._veggieWithHamSearch, ir_onto_ns.hasSearchCategory, pizza_ns._vegetarianPizza))\n",
    "searches_graph.add((pizza_ns._veggieWithHamSearch, ir_onto_ns.hasSearchCategory, pizza_ns._ham))\n",
    "\n",
    "searches_graph.add((pizza_ns._veggieMeatySearch, RDF.type, ir_onto_ns.Search))\n",
    "searches_graph.add((pizza_ns._veggieMeatySearch, ir_onto_ns.hasSearchCategory, pizza_ns._vegetarianPizza))\n",
    "searches_graph.add((pizza_ns._veggieMeatySearch, ir_onto_ns.hasSearchCategory, pizza_ns._meatyPizza))"
   ]
  },
  {
   "cell_type": "code",
   "execution_count": null,
   "metadata": {},
   "outputs": [],
   "source": []
  }
 ],
 "metadata": {
  "kernelspec": {
   "display_name": "ir-onto-venv",
   "language": "python",
   "name": "python3"
  },
  "language_info": {
   "codemirror_mode": {
    "name": "ipython",
    "version": 3
   },
   "file_extension": ".py",
   "mimetype": "text/x-python",
   "name": "python",
   "nbconvert_exporter": "python",
   "pygments_lexer": "ipython3",
   "version": "3.10.4"
  }
 },
 "nbformat": 4,
 "nbformat_minor": 2
}
