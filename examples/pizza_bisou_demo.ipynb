{
 "cells": [
  {
   "cell_type": "code",
   "execution_count": 1,
   "metadata": {},
   "outputs": [
    {
     "data": {
      "text/plain": [
       "True"
      ]
     },
     "execution_count": 1,
     "metadata": {},
     "output_type": "execute_result"
    }
   ],
   "source": [
    "import requests\n",
    "from rdflib import Graph\n",
    "from rdflib.namespace import Namespace, OWL, RDF, RDFS\n",
    "\n",
    "from ir_onto_demos_utilities import (\n",
    "    show_instances, show_owl_classes, show_owl_obj_props, \n",
    "    sparql_update, sparql_select, insert_graph, delete_graph,\n",
    "    show_graph_portion\n",
    ")"
   ]
  },
  {
   "cell_type": "markdown",
   "metadata": {},
   "source": [
    "# Demo: Information Retrieval ontology\n",
    "\n",
    "Requirements:\n",
    "\n",
    "- Docker must be installed and running (See Docker website for installation details: <https://docs.docker.com/get-started/overview/>).\n",
    "- We use docker to run the Ontotext GraphDB triple store: <https://www.ontotext.com/products/graphdb/>. Hence is it best if the docker image is already downloaded. Once you have docker installed and running you can run in a terminal the following command: `docker pull ontotext/graphdb:10.4.0`.\n",
    "- We use Python 3.10. For the python dependencies you can run `pip install -r requirements.txt` from the project root.\n",
    "\n",
    "## Introduction\n",
    "\n",
    "The main goal of this demo is to demonstrate the power of the Information Retrieval ontology. In a subsequent demo, we will demonstrate how one can leverage the same data graph for a separate purpose by simply applying another domain graph, i.e., another point of view on the same data.\n",
    "\n",
    "For our purpose we define a Knowledge Graph by deriving an RDF-based representation inspired from our understanding of the book \"Knowledge Graphs\" (<https://kgbook.org/>). Hence, the KG we will construct is based on the Directed Edge Labelled Graph (DELG) model (implemented using the Resource Description Framework (RDF)). As defined in the mentioned book we distinguish between the data graph and the domain graph, and even the mapping graph. The data graph represent the data. The domain graph represent the knowledge. And there exists a mapping between the both graph that we also represent as a graph. The following figure summarise our definition of a KG derived from the book.\n",
    "\n",
    "<!-- ![KG definition](data/kg_def_sw_technos.png \"Title\") -->\n",
    "<img src=\"data/kg_def_sw_technos.png\" alt=\"KG definition\" width=\"1000\" align=\"middle\"/>\n",
    "\n",
    "Round boxes denote components, while squared ones denote processes. Bold names in round boxes are the main components' labels. Some alternative labels are added below and in parentheses. The boxes' imbrications denote composition relations. The round box labelled __Mapping__ straddles the __Domain graph__ and __Data graph__ boxes denoting its mapping role. Finally, some SW candidate technologies to implement each component are mentioned in blue bold italic and underlined letters.\n",
    "\n",
    "In this demo we focus on:\n",
    "\n",
    "- Clearly distinguishing between the domain, mapping, and data graphs\n",
    "- Constructing a custom domain graph by extending an existing upper ontology, e.g., the Information Retrieval ontology\n",
    "- Leveraging SPARQL construct queries to build a mapping graph\n",
    "- Demonstrating how one can leverage the IR ontology logic to:\n",
    "  - Running a DL-based facetted search\n",
    "  - Analyse user queries and find semantically inconsistent ones\n",
    "  - Spotting some inconsistent documents\n",
    "\n",
    "## Context\n",
    "\n",
    "To demonstrate the potential of the IR ontology, we put it into practice following an example around pizzas. Some might notice that this example is chosen on purpose. Indeed, we will leverage the famous pizza ontology and the multiple existing variants.\n",
    "\n",
    "Let us introduce the context by putting ourselves in the choose of Roger, a pizza and technology lover. We have been making pizzas for as long as we can remember and now have our own restaurant. The business if going well and we decide to wisely allocate some time and money to leverage as best as possible our knowledge acquired by long years of experience. We recently heard about this fascinating technology that are KGs. Their representation of Semantics enables machines to look even smarter than before. So we decide to make a KG of our pizzas. In practice we first implement a data graph.\n",
    "\n",
    "## The data graph\n",
    "\n",
    "Our data graph is composed of two parts. The first is representing the pizzas proposed in our menu. For the purpose of this example we will use the pizzas proposed on the menu of the Bisou, a great pizzeria located in Rouen, France. You can find the menu here: <https://www.bisourouen.fr/#la-carte> (Accessed on December 2023). The second part focuses on different taxonomies we use to organise our pizzas.\n",
    "\n",
    "### The pizza graph\n",
    "\n",
    "To represent our pizzas we use the following relations:\n",
    "\n",
    "- `has_topping` links a pizza to an a topping ingredient.\n",
    "- `has_kind` links a pizza to an a sort of pizza, e.g., vegetarian.\n",
    "- `has_base` links a pizza to an a its base.\n",
    "- `has_spiciness` links a pizza to a spiciness level.\n",
    "\n",
    "According to the menu, we have 12 pizzas in our data graph, namely, ..."
   ]
  },
  {
   "cell_type": "code",
   "execution_count": 3,
   "metadata": {},
   "outputs": [],
   "source": [
    "# define some namespaces\n",
    "pizza_ns = Namespace(\"http://www.msesboue.org/o/pizza-data-demo/bisou#\")\n",
    "ir_onto_ns = Namespace(\"http://www.msesboue.org/o/ir-ontology#\")"
   ]
  },
  {
   "cell_type": "code",
   "execution_count": 4,
   "metadata": {},
   "outputs": [
    {
     "data": {
      "text/plain": [
       "<Graph identifier=N6b4c35ea6b084b65a978209ccb8d984e (<class 'rdflib.graph.Graph'>)>"
      ]
     },
     "execution_count": 4,
     "metadata": {},
     "output_type": "execute_result"
    }
   ],
   "source": [
    "# Load the pizza data graph\n",
    "pizza_bisou_g = Graph()\n",
    "pizza_bisou_g.bind(prefix=\"pizza\", namespace=pizza_ns)\n",
    "pizza_bisou_g.parse(\"./data/pizzas_bisou.ttl\")"
   ]
  },
  {
   "cell_type": "code",
   "execution_count": 26,
   "metadata": {},
   "outputs": [
    {
     "name": "stdout",
     "output_type": "stream",
     "text": [
      "http://www.msesboue.org/o/pizza-data-demo/bisou#has_topping\n",
      "http://www.msesboue.org/o/pizza-data-demo/bisou#has_kind\n",
      "http://www.msesboue.org/o/pizza-data-demo/bisou#has_base\n",
      "http://www.msesboue.org/o/pizza-data-demo/bisou#has_spiciness\n"
     ]
    }
   ],
   "source": [
    "# Query for the distinct relations in the data graph\n",
    "q_relations = \"\"\"\n",
    "    SELECT DISTINCT ?rel WHERE {\n",
    "        ?s ?rel ?o .\n",
    "    }\n",
    "\"\"\"\n",
    "\n",
    "for r in pizza_bisou_g.query(q_relations):\n",
    "    print(r[\"rel\"])"
   ]
  },
  {
   "cell_type": "code",
   "execution_count": 27,
   "metadata": {},
   "outputs": [
    {
     "name": "stdout",
     "output_type": "stream",
     "text": [
      "http://www.msesboue.org/o/pizza-data-demo/bisou#_bambino\n",
      "http://www.msesboue.org/o/pizza-data-demo/bisou#_burraTadah\n",
      "http://www.msesboue.org/o/pizza-data-demo/bisou#_godSaveTheKing\n",
      "http://www.msesboue.org/o/pizza-data-demo/bisou#_margherita20\n",
      "http://www.msesboue.org/o/pizza-data-demo/bisou#_biancaCastafiore\n",
      "http://www.msesboue.org/o/pizza-data-demo/bisou#_mortadella\n",
      "http://www.msesboue.org/o/pizza-data-demo/bisou#_hotStuff40\n",
      "http://www.msesboue.org/o/pizza-data-demo/bisou#_laVieEnRose\n",
      "http://www.msesboue.org/o/pizza-data-demo/bisou#_leonardo\n",
      "http://www.msesboue.org/o/pizza-data-demo/bisou#_quatroFromaggi\n",
      "http://www.msesboue.org/o/pizza-data-demo/bisou#_tartufo\n",
      "http://www.msesboue.org/o/pizza-data-demo/bisou#_zucchero\n"
     ]
    }
   ],
   "source": [
    "# Query for the pizzas in the data graph\n",
    "q_relations = \"\"\"\n",
    "    SELECT DISTINCT ?pizza WHERE {\n",
    "        ?pizza pizza:has_base ?base .\n",
    "    }\n",
    "\"\"\"\n",
    "\n",
    "for r in pizza_bisou_g.query(q_relations):\n",
    "    print(r[\"pizza\"])"
   ]
  },
  {
   "cell_type": "code",
   "execution_count": 30,
   "metadata": {},
   "outputs": [
    {
     "data": {
      "image/png": "[encoded data removed]",
      "text/plain": [
       "<Figure size 640x480 with 1 Axes>"
      ]
     },
     "metadata": {},
     "output_type": "display_data"
    }
   ],
   "source": [
    "# Let us visualise some of our pizza data graph\n",
    "show_graph_portion(subject_uris={pizza_ns._godSaveTheKing, pizza_ns._margherita20}, graph=pizza_bisou_g)"
   ]
  },
  {
   "cell_type": "markdown",
   "metadata": {},
   "source": [
    "### Taxonomies data graph\n",
    "\n",
    "In our taxonomy data graph, we represent four taxonomies:\n",
    "- A taxonomy of pizza bases\n",
    "- A taxonomy of pizza kinds\n",
    "- A taxonomy of pizza toppings\n",
    "- A taxonomy of spiciness\n",
    "\n",
    "The categories in the taxonomy data graph are linked together by \"has subcategory\" relations."
   ]
  },
  {
   "cell_type": "code",
   "execution_count": 34,
   "metadata": {},
   "outputs": [
    {
     "data": {
      "text/plain": [
       "<Graph identifier=N871d48c50cab4ed884249d21de494261 (<class 'rdflib.graph.Graph'>)>"
      ]
     },
     "execution_count": 34,
     "metadata": {},
     "output_type": "execute_result"
    }
   ],
   "source": [
    "# Load the taxonomies data graph\n",
    "taxonomies_g = Graph()\n",
    "taxonomies_g.bind(prefix=\"pizza\", namespace=pizza_ns)\n",
    "taxonomies_g.parse(\"./data/pizzas_bisou_taxo.ttl\")"
   ]
  },
  {
   "cell_type": "code",
   "execution_count": 35,
   "metadata": {},
   "outputs": [
    {
     "name": "stdout",
     "output_type": "stream",
     "text": [
      "http://www.msesboue.org/o/pizza-data-demo/bisou#_pizzaBase\n",
      "http://www.msesboue.org/o/pizza-data-demo/bisou#_pizzaKind\n",
      "http://www.msesboue.org/o/pizza-data-demo/bisou#_pizzaSpiciness\n",
      "http://www.msesboue.org/o/pizza-data-demo/bisou#_pizzaTopping\n"
     ]
    }
   ],
   "source": [
    "# Let us find the top categories in our taxonomies\n",
    "# A top category is a node in our data graph which do not have an in coming \"has subcategory\" link\n",
    "\n",
    "q_top_categories = \"\"\"\n",
    "    SELECT DISTINCT ?top_cate WHERE {\n",
    "        ?top_cate  pizza:has_subcategory  ?subcate .\n",
    "        FILTER NOT EXISTS {\n",
    "            ?other_cate  pizza:has_subcategory  ?top_cate .\n",
    "        }\n",
    "    }\n",
    "\"\"\"\n",
    "for r in taxonomies_g.query(q_top_categories): # This query is made over the ingredient graph\n",
    "    print(r[\"top_cate\"]) # print the pizzas URI"
   ]
  },
  {
   "cell_type": "code",
   "execution_count": 36,
   "metadata": {},
   "outputs": [
    {
     "name": "stdout",
     "output_type": "stream",
     "text": [
      "http://www.msesboue.org/o/pizza-data-demo/bisou#_pizzaBase\n",
      "http://www.msesboue.org/o/pizza-data-demo/bisou#_creamBase\n",
      "http://www.msesboue.org/o/pizza-data-demo/bisou#_blackTruffleCreamBase\n",
      "http://www.msesboue.org/o/pizza-data-demo/bisou#_mustardCreamBase\n",
      "http://www.msesboue.org/o/pizza-data-demo/bisou#_oignonCreamBase\n",
      "http://www.msesboue.org/o/pizza-data-demo/bisou#_onionSquashCreamBase\n",
      "http://www.msesboue.org/o/pizza-data-demo/bisou#_ricottaCreamBase\n",
      "http://www.msesboue.org/o/pizza-data-demo/bisou#_tomatoBase\n",
      "http://www.msesboue.org/o/pizza-data-demo/bisou#_tomatoSauceAlaNdujaBase\n"
     ]
    }
   ],
   "source": [
    "# Let us look at the triples in the pizza base taxonomy\n",
    "\n",
    "q_pizza_bases = \"\"\"\n",
    "    SELECT ?cate WHERE {\n",
    "        pizza:_pizzaBase  pizza:has_subcategory*  ?cate .\n",
    "    }\n",
    "\"\"\"\n",
    "for r in taxonomies_g.query(q_pizza_bases): # This query is made over the ingredient graph\n",
    "    print(r[\"cate\"]) # print the pizzas URI"
   ]
  },
  {
   "cell_type": "code",
   "execution_count": 37,
   "metadata": {},
   "outputs": [],
   "source": [
    "# Our data graph is the combination of the pizza and taxonomies data graphs\n",
    "data_graph = pizza_bisou_g + taxonomies_g"
   ]
  },
  {
   "cell_type": "markdown",
   "metadata": {},
   "source": [
    "## The domain graph\n",
    "\n",
    "Our domain graph is also composed of two parts. We leverage an \"upper\" ontology, namely, the Information Retrieval ontology. The latter upper ontology is extend with some domain knowledge about pizzas."
   ]
  },
  {
   "cell_type": "code",
   "execution_count": 6,
   "metadata": {},
   "outputs": [
    {
     "data": {
      "text/plain": [
       "<Graph identifier=N6b94daec5544471f926b934a225b3def (<class 'rdflib.graph.Graph'>)>"
      ]
     },
     "execution_count": 6,
     "metadata": {},
     "output_type": "execute_result"
    }
   ],
   "source": [
    "ir_onto_g = Graph()\n",
    "ir_onto_g.bind(prefix=\"ir-onto\", namespace=ir_onto_ns)\n",
    "ir_onto_g.parse(\"../information-retrieval-ontology.ttl\")"
   ]
  },
  {
   "cell_type": "code",
   "execution_count": null,
   "metadata": {},
   "outputs": [],
   "source": [
    "pizza_domain_g = Graph()\n",
    "taxonomies_g.bind(prefix=\"pizza\", namespace=pizza_ns)"
   ]
  },
  {
   "cell_type": "code",
   "execution_count": 10,
   "metadata": {},
   "outputs": [
    {
     "data": {
      "text/plain": [
       "<Graph identifier=N43e96756c6a74589bae2bd1bc6421b3a (<class 'rdflib.graph.Graph'>)>"
      ]
     },
     "execution_count": 10,
     "metadata": {},
     "output_type": "execute_result"
    }
   ],
   "source": [
    "# We have 5 types of instances: Pizza, PizzaTopping, PizzaBase, Spiciness, and PizzaKind\n",
    "\n",
    "# SHOULD BE PART OF THE DOMAIN GRAPH\n",
    "# THE DOMAIN GRAPH IS A COMBINATION OF THE IR ONTO AND THE PIZZA DOMAIN\n",
    "pizza_domain_g.add((pizza_ns.Pizza, RDF.type, OWL.Class))\n",
    "pizza_domain_g.add((pizza_ns.PizzaTopping, RDF.type, OWL.Class))\n",
    "pizza_domain_g.add((pizza_ns.PizzaBase, RDF.type, OWL.Class))\n",
    "pizza_domain_g.add((pizza_ns.Spiciness, RDF.type, OWL.Class))\n",
    "pizza_domain_g.add((pizza_ns.PizzaKind, RDF.type, OWL.Class))\n",
    "\n",
    "# In our example when a category is selected we want ot have the subcategories enabled --> SHOULD BE PART OF OUR DOMAIN GRAPH\n",
    "pizza_domain_g.add((ir_onto_ns.hasSubcategory, RDFS.subPropertyOf, ir_onto_ns.enablesCategory))\n",
    "pizza_domain_g.add((ir_onto_ns.hasSubcategory, RDF.type, OWL.TransitiveProperty)) # otherwise, only the first subcategory level is enabled"
   ]
  },
  {
   "cell_type": "code",
   "execution_count": null,
   "metadata": {},
   "outputs": [],
   "source": [
    "domain_graph = ir_onto_g + pizza_domain_g"
   ]
  },
  {
   "cell_type": "markdown",
   "metadata": {},
   "source": [
    "### The mapping graph"
   ]
  },
  {
   "cell_type": "code",
   "execution_count": 8,
   "metadata": {},
   "outputs": [],
   "source": [
    "map_to_ir_onto_g = Graph()\n",
    "map_to_ir_onto_g.bind(prefix=\"pizza\", namespace=pizza_ns)\n",
    "map_to_ir_onto_g.bind(prefix=\"ir-onto\", namespace=ir_onto_ns)\n",
    "# map_to_ir_onto_g.parse(\"./data/pizzas_bisou_map_to_ir_onto.ttl\")"
   ]
  },
  {
   "cell_type": "code",
   "execution_count": 9,
   "metadata": {},
   "outputs": [],
   "source": [
    "# Make the triples actual named individual and object properties\n",
    "query = \"\"\"\n",
    "    CONSTRUCT {\n",
    "        ?s   rdf:type    owl:NamedIndividual .\n",
    "        ?p   rdf:type    owl:ObjectProperty .\n",
    "        ?o   rdf:type    owl:NamedIndividual .\n",
    "    } WHERE {\n",
    "        ?s  ?p  ?o .\n",
    "    }\n",
    "\"\"\"\n",
    "\n",
    "for triple in data_graph.query(query):\n",
    "    map_to_ir_onto_g.add(triple)"
   ]
  },
  {
   "cell_type": "code",
   "execution_count": 11,
   "metadata": {},
   "outputs": [
    {
     "name": "stdout",
     "output_type": "stream",
     "text": [
      "http://www.msesboue.org/o/pizza-data-demo/bisou#_mortadella\n",
      "http://www.msesboue.org/o/pizza-data-demo/bisou#_hotStuff40\n",
      "http://www.msesboue.org/o/pizza-data-demo/bisou#_quatroFromaggi\n",
      "http://www.msesboue.org/o/pizza-data-demo/bisou#_bambino\n",
      "http://www.msesboue.org/o/pizza-data-demo/bisou#_tartufo\n",
      "http://www.msesboue.org/o/pizza-data-demo/bisou#_leonardo\n",
      "http://www.msesboue.org/o/pizza-data-demo/bisou#_laVieEnRose\n",
      "http://www.msesboue.org/o/pizza-data-demo/bisou#_godSaveTheKing\n",
      "http://www.msesboue.org/o/pizza-data-demo/bisou#_margherita20\n",
      "http://www.msesboue.org/o/pizza-data-demo/bisou#_burraTadah\n",
      "http://www.msesboue.org/o/pizza-data-demo/bisou#_biancaCastafiore\n",
      "http://www.msesboue.org/o/pizza-data-demo/bisou#_zucchero\n"
     ]
    }
   ],
   "source": [
    "# Each pizzas in our data graph has a base\n",
    "# So this construct query will make sure each pizza is defined as an instance of the class Pizza.\n",
    "\n",
    "q_construct_pizza = \"\"\"\n",
    "    CONSTRUCT {\n",
    "        ?pizza   rdf:type    pizza:Pizza .\n",
    "    } WHERE {\n",
    "        ?pizza  pizza:has_base  ?base .\n",
    "    }\n",
    "\"\"\"\n",
    "for triple in pizza_bisou_g.query(q_construct_pizza): # This query is made over the pizza graph\n",
    "    print(triple[0]) # print the pizzas URI\n",
    "    map_to_ir_onto_g.add(triple)"
   ]
  },
  {
   "cell_type": "code",
   "execution_count": 13,
   "metadata": {},
   "outputs": [
    {
     "name": "stdout",
     "output_type": "stream",
     "text": [
      "http://www.msesboue.org/o/pizza-data-demo/bisou#_pizzaBase\n",
      "http://www.msesboue.org/o/pizza-data-demo/bisou#_blackTruffleCreamBase\n",
      "http://www.msesboue.org/o/pizza-data-demo/bisou#_mustardCreamBase\n",
      "http://www.msesboue.org/o/pizza-data-demo/bisou#_onionSquashCreamBase\n",
      "http://www.msesboue.org/o/pizza-data-demo/bisou#_tomatoSauceAlaNdujaBase\n",
      "http://www.msesboue.org/o/pizza-data-demo/bisou#_creamBase\n",
      "http://www.msesboue.org/o/pizza-data-demo/bisou#_ricottaCreamBase\n",
      "http://www.msesboue.org/o/pizza-data-demo/bisou#_tomatoBase\n",
      "http://www.msesboue.org/o/pizza-data-demo/bisou#_oignonCreamBase\n"
     ]
    }
   ],
   "source": [
    "# Let us group the categories by their taxonomies\n",
    "# for each top category we will assert the top category and its children (has subcategory)\n",
    "# as an instance of the corresponding top category class\n",
    "# Note that we could have used a punning approach for the top level category but we wish \n",
    "# to keep this demo as simple as possible for the moment. \n",
    "\n",
    "# Note that we could also use reasoning by simply declaring a domain and a range for each object properties\n",
    "# But it a way more restrictive approach that we might not want\n",
    "\n",
    "q_construct_pizza_kinds = \"\"\"\n",
    "    CONSTRUCT {\n",
    "        ?kind   rdf:type    pizza:PizzaKind .\n",
    "    } WHERE {\n",
    "        pizza:_pizzaKind  pizza:has_subcategory*  ?kind .\n",
    "    }\n",
    "\"\"\"\n",
    "for triple in taxonomies_g.query(q_construct_pizza_kinds): # This query is made over the ingredient graph\n",
    "    # print(triple[0]) # print the pizza kind URIs\n",
    "    map_to_ir_onto_g.add(triple)\n",
    "\n",
    "q_construct_pizza_bases = \"\"\"\n",
    "    CONSTRUCT {\n",
    "        ?base   rdf:type    pizza:PizzaBase .\n",
    "    } WHERE {\n",
    "        pizza:_pizzaBase  pizza:has_subcategory*  ?base .\n",
    "    }\n",
    "\"\"\"\n",
    "for triple in taxonomies_g.query(q_construct_pizza_bases): # This query is made over the ingredient graph\n",
    "    print(triple[0]) # print the pizza base URIs\n",
    "    map_to_ir_onto_g.add(triple)\n",
    "\n",
    "q_construct_pizza_spiciness = \"\"\"\n",
    "    CONSTRUCT {\n",
    "        ?kind   rdf:type    pizza:PizzaSpiciness .\n",
    "    } WHERE {\n",
    "        pizza:_pizzaSpiciness  pizza:has_subcategory*  ?kind .\n",
    "    }\n",
    "\"\"\"\n",
    "for triple in taxonomies_g.query(q_construct_pizza_spiciness): # This query is made over the ingredient graph\n",
    "    # print(triple[0]) # print the pizza spiciness URIs\n",
    "    map_to_ir_onto_g.add(triple)\n",
    "\n",
    "q_construct_pizza_toppings = \"\"\"\n",
    "    CONSTRUCT {\n",
    "        ?topping   rdf:type    pizza:PizzaTopping .\n",
    "    } WHERE {\n",
    "        pizza:_pizzaToppings  pizza:has_subcategory*  ?topping .\n",
    "    }\n",
    "\"\"\"\n",
    "for triple in taxonomies_g.query(q_construct_pizza_toppings): # This query is made over the ingredient graph\n",
    "    # print(triple[0]) # print the pizza spiciness URIs\n",
    "    map_to_ir_onto_g.add(triple)"
   ]
  },
  {
   "cell_type": "code",
   "execution_count": 14,
   "metadata": {},
   "outputs": [
    {
     "data": {
      "text/plain": [
       "<Graph identifier=N43e96756c6a74589bae2bd1bc6421b3a (<class 'rdflib.graph.Graph'>)>"
      ]
     },
     "execution_count": 14,
     "metadata": {},
     "output_type": "execute_result"
    }
   ],
   "source": [
    "# Let us now add the links to the IR ontology\n",
    "# In our example we categorise pizzas by country, base, kind, topping and spiciness\n",
    "map_to_ir_onto_g.add((pizza_ns.PizzaBase, RDFS.subClassOf, ir_onto_ns.Category))\n",
    "map_to_ir_onto_g.add((pizza_ns.PizzaKind, RDFS.subClassOf, ir_onto_ns.Category))\n",
    "map_to_ir_onto_g.add((pizza_ns.PizzaTopping, RDFS.subClassOf, ir_onto_ns.Category))\n",
    "map_to_ir_onto_g.add((pizza_ns.Spiciness, RDFS.subClassOf, ir_onto_ns.Category))\n",
    "\n",
    "# In our example the search engine goal is to find pizzas\n",
    "map_to_ir_onto_g.add((pizza_ns.Pizza, RDFS.subClassOf, ir_onto_ns.Document))\n",
    "\n",
    "# The pizza:has_subcategory relation is the same as the IR ontology one\n",
    "map_to_ir_onto_g.add((pizza_ns.has_subcategory, OWL.equivalentProperty, ir_onto_ns.hasSubcategory))\n",
    "\n",
    "# In our example the relations in our data graph categorizing the pizzas are has_topping, has_kind, has_spiciness, has_base.\n",
    "map_to_ir_onto_g.add((pizza_ns.has_spiciness, RDFS.subPropertyOf, ir_onto_ns.categorizedBy))\n",
    "map_to_ir_onto_g.add((pizza_ns.has_kind, RDFS.subPropertyOf, ir_onto_ns.categorizedBy))\n",
    "map_to_ir_onto_g.add((pizza_ns.has_spiciness, RDFS.subPropertyOf, ir_onto_ns.categorizedBy))\n",
    "map_to_ir_onto_g.add((pizza_ns.has_base, RDFS.subPropertyOf, ir_onto_ns.categorizedBy))"
   ]
  },
  {
   "cell_type": "code",
   "execution_count": 15,
   "metadata": {},
   "outputs": [],
   "source": [
    "# map_to_ir_onto_g.serialize(destination=\"./data/pizzas_bisou_map_to_ir_onto.ttl\", format=\"turtle\")"
   ]
  },
  {
   "cell_type": "code",
   "execution_count": 16,
   "metadata": {},
   "outputs": [
    {
     "data": {
      "text/plain": [
       "<Graph identifier=N7628be6914cd4211bf31cd4649be6140 (<class 'rdflib.graph.Graph'>)>"
      ]
     },
     "execution_count": 16,
     "metadata": {},
     "output_type": "execute_result"
    }
   ],
   "source": [
    "# Let us add some user searches\n",
    "searches_graph = Graph()\n",
    "searches_graph.bind(prefix=\"pizza\", namespace=pizza_ns)\n",
    "searches_graph.bind(prefix=\"ir-onto\", namespace=ir_onto_ns)\n",
    "\n",
    "searches_graph.add((pizza_ns._meatyToppingSearch, RDF.type, ir_onto_ns.Search))\n",
    "searches_graph.add((pizza_ns._meatyToppingSearch, ir_onto_ns.hasSearchCategory, pizza_ns._meat))\n",
    "\n",
    "searches_graph.add((pizza_ns._onionMushroomToppingSearch, RDF.type, ir_onto_ns.Search))\n",
    "searches_graph.add((pizza_ns._onionMushroomToppingSearch, ir_onto_ns.hasSearchCategory, pizza_ns._onion))\n",
    "searches_graph.add((pizza_ns._onionMushroomToppingSearch, ir_onto_ns.hasSearchCategory, pizza_ns._mushroom))\n",
    "\n",
    "searches_graph.add((pizza_ns._hamToppingSearch, RDF.type, ir_onto_ns.Search))\n",
    "searches_graph.add((pizza_ns._hamToppingSearch, ir_onto_ns.hasSearchCategory, pizza_ns._ham))\n",
    "\n",
    "searches_graph.add((pizza_ns._veggieSearch, RDF.type, ir_onto_ns.Search))\n",
    "searches_graph.add((pizza_ns._veggieSearch, ir_onto_ns.hasSearchCategory, pizza_ns._vegetarianPizza))\n",
    "\n",
    "searches_graph.add((pizza_ns._veggieWithHamSearch, RDF.type, ir_onto_ns.Search))\n",
    "searches_graph.add((pizza_ns._veggieWithHamSearch, ir_onto_ns.hasSearchCategory, pizza_ns._vegetarianPizza))\n",
    "searches_graph.add((pizza_ns._veggieWithHamSearch, ir_onto_ns.hasSearchCategory, pizza_ns._ham))\n",
    "\n",
    "searches_graph.add((pizza_ns._veggieMeatySearch, RDF.type, ir_onto_ns.Search))\n",
    "searches_graph.add((pizza_ns._veggieMeatySearch, ir_onto_ns.hasSearchCategory, pizza_ns._vegetarianPizza))\n",
    "searches_graph.add((pizza_ns._veggieMeatySearch, ir_onto_ns.hasSearchCategory, pizza_ns._meatyPizza))"
   ]
  },
  {
   "cell_type": "code",
   "execution_count": 17,
   "metadata": {},
   "outputs": [],
   "source": [
    "full_graph = data_graph + searches_graph + map_to_ir_onto_g + ir_onto_g "
   ]
  },
  {
   "cell_type": "code",
   "execution_count": 18,
   "metadata": {},
   "outputs": [
    {
     "data": {
      "text/plain": [
       "<Graph identifier=N516a33e6d64f47e2a94219acee328669 (<class 'rdflib.graph.Graph'>)>"
      ]
     },
     "execution_count": 18,
     "metadata": {},
     "output_type": "execute_result"
    }
   ],
   "source": [
    "full_graph.serialize(destination=\"./data/pizza_bisou_full_graph.ttl\", format=\"turtle\")"
   ]
  },
  {
   "cell_type": "markdown",
   "metadata": {},
   "source": [
    "## Information Retrieval Ontology usage examples\n",
    "\n",
    "Let us now see some examples of what can we do with the IR ontology.\n",
    "\n",
    "For these demos we will use a triple store database in a server. \n",
    "Another tutorial will explore the same examples with in memory only requirements. \n",
    "These demos require OWL inference at query time. We chose the OntoText GraphDB triple store (v10.4.0): <https://graphdb.ontotext.com/documentation/10.0/index.html>. Hence, some pieces of code might be specific to the GraphDB APIs. We will try to flag those as much as possible. Once you the docker container is running you can see their Web API documentation there: <http://localhost:7200/webapi>.\n",
    "However, GraphDB implements the RDF4J REST API specification (<https://rdf4j.org/documentation/reference/rest-api/>). So we will try to make use of it as much as possible.\n",
    "\n",
    "We use the Docker GraphDB instance without any license (the GraphDB Free version). Hence, you will need to have Docker installed and running on your computer (See Docker installation procedure: <https://docs.docker.com/get-docker/>). Let's start from there.\n",
    "\n",
    "1. Download the GraphDB image: `docker pull ontotext/graphdb:10.4.0`\n",
    "   - OntoText related documentation pointers:\n",
    "     - <https://github.com/Ontotext-AD/graphdb-docker>\n",
    "     - <https://hub.docker.com/r/ontotext/graphdb/>\n",
    "2. Run the image: `docker run -p 127.0.0.1:7200:7200 --name graphdb-ir-onto -t ontotext/graphdb:10.4.0`\n",
    "3. From now on the rest is in the code."
   ]
  },
  {
   "cell_type": "code",
   "execution_count": 20,
   "metadata": {},
   "outputs": [
    {
     "name": "stdout",
     "output_type": "stream",
     "text": [
      "4a82efc1c5b14088601ddb4add3c460657c8275ce3db051124baebfaf6250422\n"
     ]
    }
   ],
   "source": [
    "!docker run -d -p 127.0.0.1:7200:7200 --name graphdb-ir-onto -t ontotext/graphdb:10.4.0"
   ]
  },
  {
   "cell_type": "code",
   "execution_count": 21,
   "metadata": {},
   "outputs": [
    {
     "name": "stdout",
     "output_type": "stream",
     "text": [
      "201\n",
      "\n",
      "200\n",
      "uri,id,title,readable,writable\n",
      "http://localhost:7200/repositories/ir-onto-demo,ir-onto-demo,,true,true\n",
      "\n"
     ]
    }
   ],
   "source": [
    "# Setting up the repository we will work with\n",
    "\n",
    "# Load the repository configuration (WARNING: specific to GraphDB)\n",
    "repo_config_graph = Graph()\n",
    "repo_config_graph.parse(\"./data/ir-onto-demo-graphdb-config.ttl\")\n",
    "repo_config_ttl_string = repo_config_graph.serialize(format=\"turtle\")\n",
    "\n",
    "headers = {\n",
    "    \"Accept\": \"application/json\",\n",
    "}\n",
    "data = {\n",
    "    \"config\": (\"config.ttl\", repo_config_ttl_string)\n",
    "}\n",
    "\n",
    "# Uses the GraphDB REST API (WARNING: specific to GraphDB)\n",
    "r = requests.post(\"http://localhost:7200/rest/repositories\", headers=headers, files=data)\n",
    "print(r.status_code)\n",
    "print(r.text)\n",
    "\n",
    "# Check that the repository is created\n",
    "r = requests.get('http://localhost:7200/repositories', headers={\"Content-type\": \"application/rdf+xml\"})\n",
    "print(r.status_code)\n",
    "print(r.text)\n",
    "\n",
    "# Define the server info for future interactions\n",
    "DB_IP = \"localhost\"\n",
    "DB_PORT = \"7200\"\n",
    "DB_URL = f\"http://{DB_IP}:{DB_PORT}\"\n",
    "REPOSITORY_ID = \"ir-onto-demo\"\n",
    "\n",
    "demo_ns_manager = full_graph.namespace_manager"
   ]
  },
  {
   "cell_type": "code",
   "execution_count": 22,
   "metadata": {},
   "outputs": [
    {
     "name": "stdout",
     "output_type": "stream",
     "text": [
      "OK\n"
     ]
    }
   ],
   "source": [
    "# Lets add the pizza taxonomies to our DB\n",
    "insert_graph(graph=full_graph, db_url=DB_URL, repo_id=REPOSITORY_ID)"
   ]
  },
  {
   "cell_type": "code",
   "execution_count": 23,
   "metadata": {},
   "outputs": [],
   "source": [
    "def make_search_the_context(user_search_uri: str) -> None:\n",
    "    query = f\"\"\"\n",
    "        PREFIX ir-onto: <http://www.msesboue.org/o/ir-ontology#>\n",
    "        INSERT DATA {{\n",
    "            <{user_search_uri}> a ir-onto:SearchContext .\n",
    "        }}\n",
    "    \"\"\"\n",
    "\n",
    "    sparql_update(sparql_query=query, db_url=DB_URL, repo_id=REPOSITORY_ID)\n",
    "\n",
    "def remove_search_as_context(user_search_uri: str) -> None:\n",
    "    query = f\"\"\"\n",
    "        PREFIX ir-onto: <http://www.msesboue.org/o/ir-ontology#>\n",
    "        DELETE DATA {{\n",
    "            <{user_search_uri}> a ir-onto:SearchContext .\n",
    "        }}\n",
    "    \"\"\"\n",
    "\n",
    "    sparql_update(sparql_query=query, db_url=DB_URL, repo_id=REPOSITORY_ID)"
   ]
  },
  {
   "cell_type": "code",
   "execution_count": 24,
   "metadata": {},
   "outputs": [
    {
     "name": "stdout",
     "output_type": "stream",
     "text": [
      "OK\n",
      "Instances of http://www.msesboue.org/o/ir-ontology#SelectedCategory\n",
      "pizza:_mushroom\n",
      "pizza:_onion\n",
      "\n",
      "Instances of http://www.msesboue.org/o/ir-ontology#EnabledCategory\n",
      "pizza:_carpaccioChampignonDeParis\n",
      "pizza:_redOnion\n",
      "pizza:_champignonDeParis\n",
      "\n",
      "Instances of http://www.msesboue.org/o/ir-ontology#CandidateDocument\n",
      "\n",
      "OK\n"
     ]
    }
   ],
   "source": [
    "make_search_the_context(user_search_uri=str(pizza_ns._onionMushroomToppingSearch))\n",
    "\n",
    "show_instances(class_uri=str(ir_onto_ns.SelectedCategory), ns_manager=demo_ns_manager, db_url=DB_URL, repo_id=REPOSITORY_ID, limit=10)\n",
    "show_instances(class_uri=str(ir_onto_ns.EnabledCategory), ns_manager=demo_ns_manager, db_url=DB_URL, repo_id=REPOSITORY_ID, limit=10)\n",
    "show_instances(class_uri=str(ir_onto_ns.CandidateDocument), ns_manager=demo_ns_manager, db_url=DB_URL, repo_id=REPOSITORY_ID, limit=10)\n",
    "\n",
    "remove_search_as_context(user_search_uri=str(pizza_ns._onionMushroomToppingSearch))\n",
    "\n",
    "# No candidate document because pizzas are linked to red onion and champignon de paris, not mushroom and onion"
   ]
  },
  {
   "cell_type": "code",
   "execution_count": 25,
   "metadata": {},
   "outputs": [
    {
     "name": "stdout",
     "output_type": "stream",
     "text": [
      "OK\n",
      "Instances of http://www.msesboue.org/o/ir-ontology#SelectedCategory\n",
      "pizza:_vegetarianPizza\n",
      "\n",
      "Instances of http://www.msesboue.org/o/ir-ontology#EnabledCategory\n",
      "\n",
      "Instances of http://www.msesboue.org/o/ir-ontology#CandidateDocument\n",
      "pizza:_biancaCastafiore\n",
      "pizza:_margherita20\n",
      "pizza:_quatroFromaggi\n",
      "\n",
      "OK\n"
     ]
    }
   ],
   "source": [
    "make_search_the_context(user_search_uri=str(pizza_ns._veggieSearch))\n",
    "\n",
    "show_instances(class_uri=str(ir_onto_ns.SelectedCategory), ns_manager=demo_ns_manager, db_url=DB_URL, repo_id=REPOSITORY_ID, limit=10)\n",
    "show_instances(class_uri=str(ir_onto_ns.EnabledCategory), ns_manager=demo_ns_manager, db_url=DB_URL, repo_id=REPOSITORY_ID, limit=10)\n",
    "show_instances(class_uri=str(ir_onto_ns.CandidateDocument), ns_manager=demo_ns_manager, db_url=DB_URL, repo_id=REPOSITORY_ID, limit=10)\n",
    "\n",
    "remove_search_as_context(user_search_uri=str(pizza_ns._veggieSearch))"
   ]
  },
  {
   "cell_type": "markdown",
   "metadata": {},
   "source": [
    "Let us add a transversal relation"
   ]
  },
  {
   "cell_type": "code",
   "execution_count": 11,
   "metadata": {},
   "outputs": [
    {
     "ename": "NameError",
     "evalue": "name 'mapping_graph' is not defined",
     "output_type": "error",
     "traceback": [
      "\u001b[1;31m---------------------------------------------------------------------------\u001b[0m",
      "\u001b[1;31mNameError\u001b[0m                                 Traceback (most recent call last)",
      "\u001b[1;32mc:\\Users\\msesboue\\Documents\\mindWork\\ir-ontology\\examples\\pizza_bisou_demo.ipynb Cell 12\u001b[0m line \u001b[0;36m2\n\u001b[0;32m      <a href='vscode-notebook-cell:/c%3A/Users/msesboue/Documents/mindWork/ir-ontology/examples/pizza_bisou_demo.ipynb#X25sZmlsZQ%3D%3D?line=0'>1</a>\u001b[0m \u001b[39m# Ex: if a pizza is categorised by a meat topping the category meaty pizza should be enabled\u001b[39;00m\n\u001b[1;32m----> <a href='vscode-notebook-cell:/c%3A/Users/msesboue/Documents/mindWork/ir-ontology/examples/pizza_bisou_demo.ipynb#X25sZmlsZQ%3D%3D?line=1'>2</a>\u001b[0m mapping_graph\u001b[39m.\u001b[39madd((pizza_onto_demo_ns\u001b[39m.\u001b[39mmakesIt, RDFS\u001b[39m.\u001b[39msubPropertyOf, ir_onto_ns\u001b[39m.\u001b[39menablesCategory))\n",
      "\u001b[1;31mNameError\u001b[0m: name 'mapping_graph' is not defined"
     ]
    }
   ],
   "source": [
    "# Ex: if a pizza is categorised by a meat topping the category meaty pizza should be enabled\n",
    "# mapping_graph.add((pizza_onto_demo_ns.makesIt, RDFS.subPropertyOf, ir_onto_ns.enablesCategory))"
   ]
  }
 ],
 "metadata": {
  "kernelspec": {
   "display_name": "ir-onto-venv",
   "language": "python",
   "name": "python3"
  },
  "language_info": {
   "codemirror_mode": {
    "name": "ipython",
    "version": 3
   },
   "file_extension": ".py",
   "mimetype": "text/x-python",
   "name": "python",
   "nbconvert_exporter": "python",
   "pygments_lexer": "ipython3",
   "version": "3.10.4"
  }
 },
 "nbformat": 4,
 "nbformat_minor": 2
}
