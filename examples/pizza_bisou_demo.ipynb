{
 "cells": [
  {
   "cell_type": "code",
   "execution_count": null,
   "metadata": {},
   "outputs": [],
   "source": [
    "%load_ext dotenv\n",
    "%dotenv"
   ]
  },
  {
   "cell_type": "code",
   "execution_count": 1,
   "metadata": {},
   "outputs": [],
   "source": [
    "from rdflib import Graph, URIRef\n",
    "from rdflib.namespace import Namespace, OWL, RDF, RDFS\n",
    "\n",
    "from ir_onto_demos_utilities import show_graph_portion"
   ]
  },
  {
   "cell_type": "code",
   "execution_count": 2,
   "metadata": {},
   "outputs": [
    {
     "data": {
      "text/plain": [
       "<Graph identifier=N225ef07d131b4b86866bfa1227b919a6 (<class 'rdflib.graph.Graph'>)>"
      ]
     },
     "execution_count": 2,
     "metadata": {},
     "output_type": "execute_result"
    }
   ],
   "source": [
    "pizza_bisou_g = Graph()\n",
    "pizza_ns = Namespace(\"http://www.msesboue.org/o/pizza-data-demo/bisou#\")\n",
    "pizza_bisou_g.bind(prefix=\"pizza\", namespace=pizza_ns)\n",
    "pizza_bisou_g.parse(\"./data/pizzas_bisou.ttl\")"
   ]
  },
  {
   "cell_type": "code",
   "execution_count": 3,
   "metadata": {},
   "outputs": [
    {
     "data": {
      "text/plain": [
       "<Graph identifier=Nd1094b005e5046cb90ddfe4b216c124b (<class 'rdflib.graph.Graph'>)>"
      ]
     },
     "execution_count": 3,
     "metadata": {},
     "output_type": "execute_result"
    }
   ],
   "source": [
    "ingredients_g = Graph()\n",
    "pizza_ns = Namespace(\"http://www.msesboue.org/o/pizza-data-demo/bisou#\")\n",
    "ingredients_g.bind(prefix=\"pizza\", namespace=pizza_ns)\n",
    "ingredients_g.parse(\"./data/pizzas_bisou_ingredients.ttl\")"
   ]
  },
  {
   "cell_type": "code",
   "execution_count": 4,
   "metadata": {},
   "outputs": [],
   "source": [
    "map_to_ir_onto_g = Graph()\n",
    "pizza_ns = Namespace(\"http://www.msesboue.org/o/pizza-data-demo/bisou#\")\n",
    "ir_onto_ns = Namespace(\"http://www.msesboue.org/o/ir-ontology#\")\n",
    "map_to_ir_onto_g.bind(prefix=\"pizza\", namespace=pizza_ns)\n",
    "map_to_ir_onto_g.bind(prefix=\"ir-onto\", namespace=ir_onto_ns)\n",
    "# map_to_ir_onto_g.parse(\"./data/pizzas_bisou_map_to_ir_onto.ttl\")"
   ]
  },
  {
   "cell_type": "code",
   "execution_count": 5,
   "metadata": {},
   "outputs": [],
   "source": [
    "# Make the triples actual named individual and object properties\n",
    "query = \"\"\"\n",
    "    CONSTRUCT {\n",
    "        ?s   rdf:type    owl:NamedIndividual .\n",
    "        ?p   rdf:type    owl:ObjectProperty .\n",
    "        ?o   rdf:type    owl:NamedIndividual .\n",
    "    } WHERE {\n",
    "        ?s  ?p  ?o .\n",
    "    }\n",
    "\"\"\"\n",
    "\n",
    "for triple in pizza_bisou_g.query(query):\n",
    "    map_to_ir_onto_g.add(triple)"
   ]
  },
  {
   "cell_type": "code",
   "execution_count": 6,
   "metadata": {},
   "outputs": [
    {
     "data": {
      "text/plain": [
       "<Graph identifier=Naaff780e81b14da3851c4f82741d2ab9 (<class 'rdflib.graph.Graph'>)>"
      ]
     },
     "execution_count": 6,
     "metadata": {},
     "output_type": "execute_result"
    }
   ],
   "source": [
    "# We have 5 types of instances: Pizza, PizzaTopping, PizzaBase, Spiciness, and PizzaKind\n",
    "map_to_ir_onto_g.add((pizza_ns.Pizza, RDF.type, OWL.Class))\n",
    "map_to_ir_onto_g.add((pizza_ns.PizzaTopping, RDF.type, OWL.Class))\n",
    "map_to_ir_onto_g.add((pizza_ns.PizzaBase, RDF.type, OWL.Class))\n",
    "map_to_ir_onto_g.add((pizza_ns.Spiciness, RDF.type, OWL.Class))\n",
    "map_to_ir_onto_g.add((pizza_ns.PizzaKind, RDF.type, OWL.Class))"
   ]
  },
  {
   "cell_type": "code",
   "execution_count": 7,
   "metadata": {},
   "outputs": [],
   "source": [
    "# Let us now add the instances of each classes\n",
    "# Note that we could use reasoning by simply declaring a domain and a range for each object properties\n",
    "# But it a way more restrictive approach that we might not want\n",
    "\n",
    "q_construct_pizza_base = \"\"\"\n",
    "    CONSTRUCT {\n",
    "        ?pizza   rdf:type    pizza:Pizza .\n",
    "        ?base   rdf:type    pizza:PizzaBase .\n",
    "    } WHERE {\n",
    "        ?pizza  pizza:has_base  ?base .\n",
    "    }\n",
    "\"\"\"\n",
    "for triple in pizza_bisou_g.query(q_construct_pizza_base):\n",
    "    map_to_ir_onto_g.add(triple)\n",
    "\n",
    "q_construct_pizza_kind = \"\"\"\n",
    "    CONSTRUCT {\n",
    "        ?pizza   rdf:type    pizza:Pizza .\n",
    "        ?kind   rdf:type    pizza:PizzaKind .\n",
    "    } WHERE {\n",
    "        ?pizza  pizza:has_kind  ?kind .\n",
    "    }\n",
    "\"\"\"\n",
    "for triple in pizza_bisou_g.query(q_construct_pizza_kind):\n",
    "    map_to_ir_onto_g.add(triple)\n",
    "\n",
    "q_construct_pizza_top = \"\"\"\n",
    "    CONSTRUCT {\n",
    "        ?pizza   rdf:type    pizza:Pizza .\n",
    "        ?topping   rdf:type    pizza:PizzaTopping .\n",
    "    } WHERE {\n",
    "        ?pizza  pizza:has_topping  ?topping .\n",
    "    }\n",
    "\"\"\"\n",
    "for triple in pizza_bisou_g.query(q_construct_pizza_top):\n",
    "    map_to_ir_onto_g.add(triple)\n",
    "\n",
    "q_construct_pizza_spice = \"\"\"\n",
    "    CONSTRUCT {\n",
    "        ?pizza   rdf:type    pizza:Pizza .\n",
    "        ?spiciness   rdf:type    pizza:Spiciness .\n",
    "    } WHERE {\n",
    "        ?pizza  pizza:has_spiciness  ?spiciness .\n",
    "    }\n",
    "\"\"\"\n",
    "for triple in pizza_bisou_g.query(q_construct_pizza_spice):\n",
    "    map_to_ir_onto_g.add(triple)"
   ]
  },
  {
   "cell_type": "code",
   "execution_count": 8,
   "metadata": {},
   "outputs": [
    {
     "data": {
      "text/plain": [
       "98"
      ]
     },
     "execution_count": 8,
     "metadata": {},
     "output_type": "execute_result"
    }
   ],
   "source": [
    "len(pizza_bisou_g)"
   ]
  },
  {
   "cell_type": "code",
   "execution_count": 9,
   "metadata": {},
   "outputs": [
    {
     "data": {
      "text/plain": [
       "<Graph identifier=Naaff780e81b14da3851c4f82741d2ab9 (<class 'rdflib.graph.Graph'>)>"
      ]
     },
     "execution_count": 9,
     "metadata": {},
     "output_type": "execute_result"
    }
   ],
   "source": [
    "# Let us now add the links to the IR ontology\n",
    "# In our example we categorise pizzas by country, base, kind, topping and spiciness\n",
    "map_to_ir_onto_g.add((pizza_ns.PizzaBase, RDFS.subClassOf, ir_onto_ns.Category))\n",
    "map_to_ir_onto_g.add((pizza_ns.PizzaKind, RDFS.subClassOf, ir_onto_ns.Category))\n",
    "map_to_ir_onto_g.add((pizza_ns.PizzaTopping, RDFS.subClassOf, ir_onto_ns.Category))\n",
    "map_to_ir_onto_g.add((pizza_ns.Spiciness, RDFS.subClassOf, ir_onto_ns.Category))\n",
    "\n",
    "# In our example the search engine goal is to find pizzas\n",
    "map_to_ir_onto_g.add((pizza_ns.Pizza, RDFS.subClassOf, ir_onto_ns.Document))\n",
    "\n",
    "# In our example when a category is selected we want ot have the subcategories enabled\n",
    "map_to_ir_onto_g.add((ir_onto_ns.hasSubcategory, RDFS.subPropertyOf, ir_onto_ns.enablesCategory))\n",
    "map_to_ir_onto_g.add((ir_onto_ns.hasSubcategory, RDF.type, OWL.TransitiveProperty)) # otherwise, only the first subcategory level is enabled\n",
    "\n",
    "# In our example the relations in our data graph categorizing the pizzas are has_topping, has_kind, has_spiciness, has_base.\n",
    "map_to_ir_onto_g.add((ir_onto_ns.has_spiciness, RDFS.subPropertyOf, ir_onto_ns.categorizedBy))\n",
    "map_to_ir_onto_g.add((ir_onto_ns.has_kind, RDFS.subPropertyOf, ir_onto_ns.categorizedBy))\n",
    "map_to_ir_onto_g.add((ir_onto_ns.has_spiciness, RDFS.subPropertyOf, ir_onto_ns.categorizedBy))\n",
    "map_to_ir_onto_g.add((ir_onto_ns.has_base, RDFS.subPropertyOf, ir_onto_ns.categorizedBy))"
   ]
  },
  {
   "cell_type": "code",
   "execution_count": 10,
   "metadata": {},
   "outputs": [
    {
     "data": {
      "text/plain": [
       "<Graph identifier=Naaff780e81b14da3851c4f82741d2ab9 (<class 'rdflib.graph.Graph'>)>"
      ]
     },
     "execution_count": 10,
     "metadata": {},
     "output_type": "execute_result"
    }
   ],
   "source": [
    "map_to_ir_onto_g.serialize(destination=\"./data/pizzas_bisou_map_to_ir_onto.ttl\", format=\"turtle\")"
   ]
  },
  {
   "cell_type": "markdown",
   "metadata": {},
   "source": [
    "Let us add a transversal relation"
   ]
  },
  {
   "cell_type": "code",
   "execution_count": 11,
   "metadata": {},
   "outputs": [
    {
     "ename": "NameError",
     "evalue": "name 'mapping_graph' is not defined",
     "output_type": "error",
     "traceback": [
      "\u001b[1;31m---------------------------------------------------------------------------\u001b[0m",
      "\u001b[1;31mNameError\u001b[0m                                 Traceback (most recent call last)",
      "\u001b[1;32mc:\\Users\\msesboue\\Documents\\mindWork\\ir-ontology\\examples\\pizza_bisou_demo.ipynb Cell 12\u001b[0m line \u001b[0;36m2\n\u001b[0;32m      <a href='vscode-notebook-cell:/c%3A/Users/msesboue/Documents/mindWork/ir-ontology/examples/pizza_bisou_demo.ipynb#X25sZmlsZQ%3D%3D?line=0'>1</a>\u001b[0m \u001b[39m# Ex: if a pizza is categorised by a meat topping the category meaty pizza should be enabled\u001b[39;00m\n\u001b[1;32m----> <a href='vscode-notebook-cell:/c%3A/Users/msesboue/Documents/mindWork/ir-ontology/examples/pizza_bisou_demo.ipynb#X25sZmlsZQ%3D%3D?line=1'>2</a>\u001b[0m mapping_graph\u001b[39m.\u001b[39madd((pizza_onto_demo_ns\u001b[39m.\u001b[39mmakesIt, RDFS\u001b[39m.\u001b[39msubPropertyOf, ir_onto_ns\u001b[39m.\u001b[39menablesCategory))\n",
      "\u001b[1;31mNameError\u001b[0m: name 'mapping_graph' is not defined"
     ]
    }
   ],
   "source": [
    "# Ex: if a pizza is categorised by a meat topping the category meaty pizza should be enabled\n",
    "# mapping_graph.add((pizza_onto_demo_ns.makesIt, RDFS.subPropertyOf, ir_onto_ns.enablesCategory))"
   ]
  }
 ],
 "metadata": {
  "kernelspec": {
   "display_name": "ir-onto-venv",
   "language": "python",
   "name": "python3"
  },
  "language_info": {
   "codemirror_mode": {
    "name": "ipython",
    "version": 3
   },
   "file_extension": ".py",
   "mimetype": "text/x-python",
   "name": "python",
   "nbconvert_exporter": "python",
   "pygments_lexer": "ipython3",
   "version": "3.10.4"
  }
 },
 "nbformat": 4,
 "nbformat_minor": 2
}
