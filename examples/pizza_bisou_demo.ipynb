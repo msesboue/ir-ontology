{
 "cells": [
  {
   "cell_type": "code",
   "execution_count": 1,
   "metadata": {},
   "outputs": [],
   "source": [
    "import requests\n",
    "from rdflib import Graph\n",
    "from rdflib.namespace import Namespace, OWL, RDF, RDFS\n",
    "\n",
    "from ir_onto_demos_utilities import (\n",
    "    show_instances, \n",
    "    sparql_update, \n",
    "    insert_graph,\n",
    "    show_graph_portion\n",
    ")"
   ]
  },
  {
   "cell_type": "markdown",
   "metadata": {},
   "source": [
    "# Demo: Information Retrieval ontology\n",
    "\n",
    "Requirements:\n",
    "\n",
    "- Docker must be installed and running (See Docker website for installation details: <https://docs.docker.com/get-started/overview/>).\n",
    "- We use docker to run the Ontotext GraphDB triple store: <https://www.ontotext.com/products/graphdb/>. Hence, it is best if the docker image has already been downloaded. Once docker is installed and running, you can run the following command in a terminal: `docker pull ontotext/graphdb:10.4.0`.\n",
    "- We use Python 3.10. Run `pip install -r requirements.txt` from the project root to download the Python dependencies.\n",
    "\n",
    "## Introduction\n",
    "\n",
    "The main goal of this demo is to demonstrate the power of the Information Retrieval ontology. In a subsequent demo, we will demonstrate how one can leverage the same data graph for a separate purpose by simply applying another domain graph, i.e., another point of view on the same data.\n",
    "\n",
    "For our purpose, we define a Knowledge Graph by deriving an RDF-based representation inspired by our understanding of the book \"Knowledge Graphs\" (<https://kgbook.org/>). Hence, the KG we will construct is based on the Directed Edge Labelled Graph (DELG) model (implemented using the Resource Description Framework (RDF)). As defined in the mentioned book, we distinguish between the data graph, the domain graph, and the mapping graph. The data graph represents the data. The domain graph represents the knowledge. A mapping exists between both graphs that we also represent as a graph. The following figure summarises our definition of a KG derived from the book.\n",
    "\n",
    "<!-- ![KG definition](data/kg_def_sw_technos.png \"Title\") -->\n",
    "<img src=\"data/kg_def_sw_technos.png\" alt=\"KG definition\" width=\"1000\" align=\"middle\"/>\n",
    "\n",
    "Round boxes denote components, while squared ones denote processes. Bold names in round boxes are the main components' labels. Some alternative labels are added below and in parentheses. The boxes' imbrications denote composition relations. The round box labelled __Mapping__ straddles the __Domain graph__ and __Data graph__ boxes denoting its mapping role. Finally, some Semantic Web candidate technologies to implement each component are mentioned in blue bold italic and underlined letters.\n",
    "\n",
    "In this demo, we focus on the following:\n",
    "\n",
    "- Clearly distinguishing between the domain, Mapping, and Data graphs\n",
    "- Constructing a custom domain graph by extending an existing upper ontology, e.g., the Information Retrieval ontology\n",
    "- Leveraging SPARQL construct queries to build a mapping graph\n",
    "- Demonstrating how one can leverage the IR ontology logic to:\n",
    "  - Running a DL-based facetted search\n",
    "\n",
    "The following figure summarises what we are implementing below:\n",
    "\n",
    "<img src=\"data/ir-onto-pizza-demo.png\" alt=\"Information Retrieval ontology pizza demonstration.\" width=\"1000\" align=\"middle\"/>\n",
    "\n",
    "## Context\n",
    "\n",
    "To demonstrate the potential of the IR ontology, we put it into practice following an example around pizzas. Some might notice that this example is chosen on purpose. Indeed, we will leverage the famous pizza ontology and the multiple existing variants.\n",
    "\n",
    "Let us introduce the context by putting ourselves in the shoes of Roger, a pizza and technology lover. We have been making pizzas for as long as we can remember and now have our restaurant. The business is going well, and we decided to wisely allocate some time and money to leverage our knowledge acquired from long years of experience as best as possible. We recently heard about this fascinating technology that is KG. Their representation of Semantics enables machines to look even brighter than before. So we decide to make a KG of our pizzas. In practice, we first implement a data graph.\n",
    "\n",
    "## The data graph\n",
    "\n",
    "Our data graph is composed of two parts. The first is representing the pizzas proposed in our menu. For this example, we will use the pizzas proposed on the menu of the Bisou, a great pizzeria located in Rouen, France. The menu is here: <https://www.bisourouen.fr/#la-carte> (Accessed on December 2023). The second part focuses on the different taxonomies we use to organise our pizzas.\n",
    "\n",
    "### The pizza graph\n",
    "\n",
    "To represent our pizzas, we use the following relations:\n",
    "\n",
    "- `has_topping` links a pizza to a topping ingredient.\n",
    "- `has_kind` links a pizza to a sort of pizza, e.g., vegetarian.\n",
    "- `has_base` links a pizza to its base.\n",
    "- `has_spiciness` links a pizza to a spiciness level.\n",
    "\n",
    "According to the menu, we have 12 pizzas in our data graph."
   ]
  },
  {
   "cell_type": "code",
   "execution_count": 2,
   "metadata": {},
   "outputs": [],
   "source": [
    "# define some namespaces\n",
    "pizza_ns = Namespace(\"http://www.msesboue.org/o/pizza-data-demo/bisou#\")\n",
    "ir_onto_ns = Namespace(\"http://www.msesboue.org/o/ir-ontology#\")"
   ]
  },
  {
   "cell_type": "code",
   "execution_count": 3,
   "metadata": {},
   "outputs": [
    {
     "data": {
      "text/plain": [
       "<Graph identifier=Nfd529088e1f9441ea75d8bee2418823b (<class 'rdflib.graph.Graph'>)>"
      ]
     },
     "execution_count": 3,
     "metadata": {},
     "output_type": "execute_result"
    }
   ],
   "source": [
    "# Load the pizza data graph\n",
    "pizza_bisou_g = Graph()\n",
    "pizza_bisou_g.bind(prefix=\"pizza\", namespace=pizza_ns)\n",
    "pizza_bisou_g.parse(\"./data/pizzas_bisou.ttl\")"
   ]
  },
  {
   "cell_type": "code",
   "execution_count": 4,
   "metadata": {},
   "outputs": [
    {
     "name": "stdout",
     "output_type": "stream",
     "text": [
      "http://www.msesboue.org/o/pizza-data-demo/bisou#has_topping\n",
      "http://www.msesboue.org/o/pizza-data-demo/bisou#has_base\n",
      "http://www.msesboue.org/o/pizza-data-demo/bisou#has_spiciness\n",
      "http://www.msesboue.org/o/pizza-data-demo/bisou#has_kind\n"
     ]
    }
   ],
   "source": [
    "# Query for the distinct relations in the data graph\n",
    "q_relations = \"\"\"\n",
    "    SELECT DISTINCT ?rel WHERE {\n",
    "        ?s ?rel ?o .\n",
    "    }\n",
    "\"\"\"\n",
    "\n",
    "for r in pizza_bisou_g.query(q_relations):\n",
    "    print(r[\"rel\"])"
   ]
  },
  {
   "cell_type": "code",
   "execution_count": 5,
   "metadata": {},
   "outputs": [
    {
     "name": "stdout",
     "output_type": "stream",
     "text": [
      "http://www.msesboue.org/o/pizza-data-demo/bisou#_bambino\n",
      "http://www.msesboue.org/o/pizza-data-demo/bisou#_burraTadah\n",
      "http://www.msesboue.org/o/pizza-data-demo/bisou#_godSaveTheKing\n",
      "http://www.msesboue.org/o/pizza-data-demo/bisou#_margherita20\n",
      "http://www.msesboue.org/o/pizza-data-demo/bisou#_biancaCastafiore\n",
      "http://www.msesboue.org/o/pizza-data-demo/bisou#_mortadella\n",
      "http://www.msesboue.org/o/pizza-data-demo/bisou#_hotStuff40\n",
      "http://www.msesboue.org/o/pizza-data-demo/bisou#_laVieEnRose\n",
      "http://www.msesboue.org/o/pizza-data-demo/bisou#_leonardo\n",
      "http://www.msesboue.org/o/pizza-data-demo/bisou#_quatroFromaggi\n",
      "http://www.msesboue.org/o/pizza-data-demo/bisou#_tartufo\n",
      "http://www.msesboue.org/o/pizza-data-demo/bisou#_zucchero\n"
     ]
    }
   ],
   "source": [
    "# Query for the pizzas in the data graph\n",
    "q_relations = \"\"\"\n",
    "    SELECT DISTINCT ?pizza WHERE {\n",
    "        ?pizza pizza:has_base ?base .\n",
    "    }\n",
    "\"\"\"\n",
    "\n",
    "for r in pizza_bisou_g.query(q_relations):\n",
    "    print(r[\"pizza\"])"
   ]
  },
  {
   "cell_type": "code",
   "execution_count": 6,
   "metadata": {},
   "outputs": [
    {
     "data": {
      "image/png": "[encoded data removed]",
      "text/plain": [
       "<Figure size 640x480 with 1 Axes>"
      ]
     },
     "metadata": {},
     "output_type": "display_data"
    }
   ],
   "source": [
    "# Let us visualise some of our pizza data graph\n",
    "show_graph_portion(subject_uris={pizza_ns._godSaveTheKing, pizza_ns._hotStuff40}, graph=pizza_bisou_g)"
   ]
  },
  {
   "cell_type": "markdown",
   "metadata": {},
   "source": [
    "### Taxonomies data graph\n",
    "\n",
    "In our taxonomy data graph, we represent four taxonomies:\n",
    "- A taxonomy of pizza bases\n",
    "- A taxonomy of pizza kinds\n",
    "- A taxonomy of pizza toppings\n",
    "- A taxonomy of spiciness\n",
    "\n",
    "The categories in the taxonomy data graph are linked together by \"has subcategory\" relations."
   ]
  },
  {
   "cell_type": "code",
   "execution_count": 7,
   "metadata": {},
   "outputs": [
    {
     "data": {
      "text/plain": [
       "<Graph identifier=Nff42ed4561104c8bb04c556265701b2e (<class 'rdflib.graph.Graph'>)>"
      ]
     },
     "execution_count": 7,
     "metadata": {},
     "output_type": "execute_result"
    }
   ],
   "source": [
    "# Load the taxonomies data graph\n",
    "taxonomies_g = Graph()\n",
    "taxonomies_g.bind(prefix=\"pizza\", namespace=pizza_ns)\n",
    "taxonomies_g.parse(\"./data/pizzas_bisou_taxo.ttl\")"
   ]
  },
  {
   "cell_type": "code",
   "execution_count": 8,
   "metadata": {},
   "outputs": [
    {
     "name": "stdout",
     "output_type": "stream",
     "text": [
      "http://www.msesboue.org/o/pizza-data-demo/bisou#_pizzaBase\n",
      "http://www.msesboue.org/o/pizza-data-demo/bisou#_pizzaKind\n",
      "http://www.msesboue.org/o/pizza-data-demo/bisou#_pizzaSpiciness\n",
      "http://www.msesboue.org/o/pizza-data-demo/bisou#_pizzaTopping\n"
     ]
    }
   ],
   "source": [
    "# Let us find the top categories in our taxonomies\n",
    "# A top category is a node in our data graph which do not have an in coming \"has subcategory\" link\n",
    "\n",
    "q_top_categories = \"\"\"\n",
    "    SELECT DISTINCT ?top_cate WHERE {\n",
    "        ?top_cate  pizza:has_subcategory  ?subcate .\n",
    "        FILTER NOT EXISTS {\n",
    "            ?other_cate  pizza:has_subcategory  ?top_cate .\n",
    "        }\n",
    "    }\n",
    "\"\"\"\n",
    "for r in taxonomies_g.query(q_top_categories): # This query is made over the ingredient graph\n",
    "    print(r[\"top_cate\"]) # print the pizzas URI"
   ]
  },
  {
   "cell_type": "code",
   "execution_count": 9,
   "metadata": {},
   "outputs": [
    {
     "name": "stdout",
     "output_type": "stream",
     "text": [
      "http://www.msesboue.org/o/pizza-data-demo/bisou#_pizzaBase\n",
      "http://www.msesboue.org/o/pizza-data-demo/bisou#_creamBase\n",
      "http://www.msesboue.org/o/pizza-data-demo/bisou#_blackTruffleCreamBase\n",
      "http://www.msesboue.org/o/pizza-data-demo/bisou#_mustardCreamBase\n",
      "http://www.msesboue.org/o/pizza-data-demo/bisou#_oignonCreamBase\n",
      "http://www.msesboue.org/o/pizza-data-demo/bisou#_onionSquashCreamBase\n",
      "http://www.msesboue.org/o/pizza-data-demo/bisou#_ricottaCreamBase\n",
      "http://www.msesboue.org/o/pizza-data-demo/bisou#_tomatoBase\n",
      "http://www.msesboue.org/o/pizza-data-demo/bisou#_tomatoSauceAlaNdujaBase\n"
     ]
    }
   ],
   "source": [
    "# Let us look at the triples in the pizza base taxonomy\n",
    "\n",
    "q_pizza_bases = \"\"\"\n",
    "    SELECT ?cate WHERE {\n",
    "        pizza:_pizzaBase  pizza:has_subcategory*  ?cate .\n",
    "    }\n",
    "\"\"\"\n",
    "for r in taxonomies_g.query(q_pizza_bases): # This query is made over the taxonomies graph\n",
    "    print(r[\"cate\"]) # print the category URI"
   ]
  },
  {
   "cell_type": "code",
   "execution_count": 10,
   "metadata": {},
   "outputs": [],
   "source": [
    "# Our data graph is the combination of the pizza and taxonomies data graphs\n",
    "data_graph = pizza_bisou_g + taxonomies_g"
   ]
  },
  {
   "cell_type": "code",
   "execution_count": 11,
   "metadata": {},
   "outputs": [
    {
     "name": "stdout",
     "output_type": "stream",
     "text": [
      "80\n",
      "164\n",
      "68\n"
     ]
    }
   ],
   "source": [
    "print(len(data_graph.all_nodes()))\n",
    "print(len(data_graph))\n",
    "print(len(taxonomies_g.all_nodes()))"
   ]
  },
  {
   "cell_type": "markdown",
   "metadata": {},
   "source": [
    "## The domain graph\n",
    "\n",
    "Our domain graph is also composed of two parts. We leverage an \"upper\" ontology, the Information Retrieval ontology. We extend the latter upper ontology with some domain knowledge about pizzas.\n",
    "\n",
    "### The Information Retrieval ontology\n",
    "\n",
    "Let us give some details about the IR ontology. If you need more, feel free to open it in an ontology software such as Protégé. The IR ontology file is located at the root of this project: `information-retrieval-ontology.ttl`.\n",
    "\n",
    "The IR ontology is defined using OWL2 and views the IR domain as containing 3 main kinds of concepts:\n",
    "- Documents are the content the IR system is searching over. It could be text documents, entities of a KG, or images, for instance.\n",
    "- Categories are the labels used to organise the documents. They group them based on some shared peculiarities.\n",
    "- The Searches are user searches expressed as sets of categories\n",
    "\n",
    "User searches are defined as sets of categories. Those categories are then selected once the search is defined as the search context, i.e., the search we are considering now.\n",
    "\n",
    "Among the categories, some are selected, and others are enabled. The selected categories are those a user selects, i.e., defined in the search context. The selected categories are linked to other categories and then enabled. A typical example of enabled categories is the subcategories of a selected one.\n",
    "\n",
    "Among the Documents, some are candidate documents. Some documents are inferred candidates based on some selected categories. They are the documents potentially relevant to the search context."
   ]
  },
  {
   "cell_type": "code",
   "execution_count": 12,
   "metadata": {},
   "outputs": [
    {
     "data": {
      "text/plain": [
       "<Graph identifier=Nb2e0c3b1e2df44fe813dce4e43a8eb81 (<class 'rdflib.graph.Graph'>)>"
      ]
     },
     "execution_count": 12,
     "metadata": {},
     "output_type": "execute_result"
    }
   ],
   "source": [
    "ir_onto_g = Graph()\n",
    "ir_onto_g.bind(prefix=\"ir-onto\", namespace=ir_onto_ns)\n",
    "ir_onto_g.parse(\"../information-retrieval-ontology.ttl\")"
   ]
  },
  {
   "cell_type": "code",
   "execution_count": 13,
   "metadata": {},
   "outputs": [
    {
     "name": "stdout",
     "output_type": "stream",
     "text": [
      "http://www.msesboue.org/o/ir-ontology#CandidateDocument\n",
      "http://www.msesboue.org/o/ir-ontology#Category\n",
      "http://www.msesboue.org/o/ir-ontology#Document\n",
      "http://www.msesboue.org/o/ir-ontology#EnabledCategory\n",
      "http://www.msesboue.org/o/ir-ontology#IncompatibleSearch\n",
      "http://www.msesboue.org/o/ir-ontology#Search\n",
      "http://www.msesboue.org/o/ir-ontology#SearchContext\n",
      "http://www.msesboue.org/o/ir-ontology#SelectedCategory\n"
     ]
    }
   ],
   "source": [
    "# Let us look at the IR ontology classes\n",
    "query_classes = \"\"\"\n",
    "    SELECT ?class\n",
    "    WHERE {\n",
    "        ?class rdf:type owl:Class .\n",
    "    }\n",
    "\"\"\"\n",
    "\n",
    "for r in ir_onto_g.query(query_classes):\n",
    "    print(r[\"class\"])"
   ]
  },
  {
   "cell_type": "markdown",
   "metadata": {},
   "source": [
    "The IR ontology also defines some object properties. The main ones are:\n",
    "- \"has search category\" which lets us define a search by linking it to its categories.\n",
    "- \"categorised by\" which links documents to their categories\n",
    "- \"enables category\" which links categories to the ones they should enable if they are selected in a search."
   ]
  },
  {
   "cell_type": "code",
   "execution_count": 14,
   "metadata": {},
   "outputs": [
    {
     "name": "stdout",
     "output_type": "stream",
     "text": [
      "http://www.msesboue.org/o/ir-ontology#categorisedBy\n",
      "http://www.msesboue.org/o/ir-ontology#categorises\n",
      "http://www.msesboue.org/o/ir-ontology#enablesCategory\n",
      "http://www.msesboue.org/o/ir-ontology#hasDirectSubcategory\n",
      "http://www.msesboue.org/o/ir-ontology#hasSearchCategory\n",
      "http://www.msesboue.org/o/ir-ontology#hasSubcategory\n"
     ]
    }
   ],
   "source": [
    "# Let us look at the IR ontology object properties\n",
    "query_classes = \"\"\"\n",
    "    SELECT ?prop\n",
    "    WHERE {\n",
    "        ?prop rdf:type owl:ObjectProperty .\n",
    "    }\n",
    "\"\"\"\n",
    "\n",
    "for r in ir_onto_g.query(query_classes):\n",
    "    print(r[\"prop\"])"
   ]
  },
  {
   "cell_type": "markdown",
   "metadata": {},
   "source": [
    "### Extending the IR ontology\n",
    "\n",
    "We now extend the IR ontology with our domain knowledge about pizzas.\n",
    "\n",
    "In our pizza domain we have 5 types of instances: pizza, pizza toppings, pizza bases, spiciness, and pizza kinds."
   ]
  },
  {
   "cell_type": "code",
   "execution_count": 15,
   "metadata": {},
   "outputs": [],
   "source": [
    "# Initialise our pizza domain graph\n",
    "pizza_domain_g = Graph()\n",
    "pizza_domain_g.bind(prefix=\"pizza\", namespace=pizza_ns)\n",
    "pizza_domain_g.bind(prefix=\"ir-onto\", namespace=ir_onto_ns)"
   ]
  },
  {
   "cell_type": "code",
   "execution_count": 16,
   "metadata": {},
   "outputs": [
    {
     "data": {
      "text/plain": [
       "<Graph identifier=N95bb4d412825433b9ad8d693f6922b7c (<class 'rdflib.graph.Graph'>)>"
      ]
     },
     "execution_count": 16,
     "metadata": {},
     "output_type": "execute_result"
    }
   ],
   "source": [
    "pizza_domain_g.add((pizza_ns.Pizza, RDF.type, OWL.Class))\n",
    "pizza_domain_g.add((pizza_ns.PizzaTopping, RDF.type, OWL.Class))\n",
    "pizza_domain_g.add((pizza_ns.PizzaBase, RDF.type, OWL.Class))\n",
    "pizza_domain_g.add((pizza_ns.Spiciness, RDF.type, OWL.Class))\n",
    "pizza_domain_g.add((pizza_ns.PizzaKind, RDF.type, OWL.Class))"
   ]
  },
  {
   "cell_type": "markdown",
   "metadata": {},
   "source": [
    "We do not need much more in our pizza domain graph for the moment. But to finish it we need to link it to the IR ontology. We first need to:\n",
    "- Define what are we looking for with our IR system, i.e., define the documents in our domain (the pizzas).\n",
    "- Define how do we categories our documents, i.e., our pizzas."
   ]
  },
  {
   "cell_type": "code",
   "execution_count": 17,
   "metadata": {},
   "outputs": [
    {
     "data": {
      "text/plain": [
       "<Graph identifier=N95bb4d412825433b9ad8d693f6922b7c (<class 'rdflib.graph.Graph'>)>"
      ]
     },
     "execution_count": 17,
     "metadata": {},
     "output_type": "execute_result"
    }
   ],
   "source": [
    "# In our example the search engine goal is to find pizzas\n",
    "pizza_domain_g.add((pizza_ns.Pizza, RDFS.subClassOf, ir_onto_ns.Document))\n",
    "\n",
    "# Let us now add the links to the IR ontology\n",
    "# In our example we categorise pizzas by country, base, kind, topping and spiciness\n",
    "pizza_domain_g.add((pizza_ns.PizzaBase, RDFS.subClassOf, ir_onto_ns.Category))\n",
    "pizza_domain_g.add((pizza_ns.PizzaKind, RDFS.subClassOf, ir_onto_ns.Category))\n",
    "pizza_domain_g.add((pizza_ns.PizzaTopping, RDFS.subClassOf, ir_onto_ns.Category))\n",
    "pizza_domain_g.add((pizza_ns.Spiciness, RDFS.subClassOf, ir_onto_ns.Category))"
   ]
  },
  {
   "cell_type": "markdown",
   "metadata": {},
   "source": [
    "Finally we know some extra things about our domain:\n",
    "- Subcategories are enabled by the parent selected categories.\n",
    "- When a parent category is selected, all the subcategories should be enabled."
   ]
  },
  {
   "cell_type": "code",
   "execution_count": 18,
   "metadata": {},
   "outputs": [],
   "source": [
    "# Our domain graph is composed of the IR ontology extended with our domain knowledge\n",
    "domain_graph = ir_onto_g + pizza_domain_g"
   ]
  },
  {
   "cell_type": "markdown",
   "metadata": {},
   "source": [
    "### The mapping graph\n",
    "\n",
    "Now that we have defined our data and domain graphs, we need to link them together. To do so we will leverage some SPARQL construct queries.\n",
    "\n",
    "Before diving in, notice that defining a node in our data graph as being a instance or a link as being an object property is already defining a mapping. In this case we are mapping our data graph with the OWL domain graph. Furthermore, we map our data graph with our pizza domain graph."
   ]
  },
  {
   "cell_type": "code",
   "execution_count": 19,
   "metadata": {},
   "outputs": [],
   "source": [
    "map_to_ir_onto_g = Graph()\n",
    "map_to_ir_onto_g.bind(prefix=\"pizza\", namespace=pizza_ns)\n",
    "map_to_ir_onto_g.bind(prefix=\"ir-onto\", namespace=ir_onto_ns)"
   ]
  },
  {
   "cell_type": "markdown",
   "metadata": {},
   "source": [
    "Let us first map our data graph into the OWL2 domain graph."
   ]
  },
  {
   "cell_type": "code",
   "execution_count": 20,
   "metadata": {},
   "outputs": [],
   "source": [
    "# Make the triples actual named individual and object properties\n",
    "query = \"\"\"\n",
    "    CONSTRUCT {\n",
    "        ?s   rdf:type    owl:NamedIndividual .\n",
    "        ?p   rdf:type    owl:ObjectProperty .\n",
    "        ?o   rdf:type    owl:NamedIndividual .\n",
    "    } WHERE {\n",
    "        ?s  ?p  ?o .\n",
    "    }\n",
    "\"\"\"\n",
    "\n",
    "for triple in data_graph.query(query):\n",
    "    map_to_ir_onto_g.add(triple)"
   ]
  },
  {
   "cell_type": "markdown",
   "metadata": {},
   "source": [
    "More than just OWL named individuals, some nodes in our data graph are actually of type Pizza."
   ]
  },
  {
   "cell_type": "code",
   "execution_count": 21,
   "metadata": {},
   "outputs": [],
   "source": [
    "# Each pizzas in our data graph has a base\n",
    "# So this construct query will make sure each pizza is defined as an instance of the class Pizza.\n",
    "\n",
    "q_construct_pizza = \"\"\"\n",
    "    CONSTRUCT {\n",
    "        ?pizza   rdf:type    pizza:Pizza .\n",
    "    } WHERE {\n",
    "        ?pizza  pizza:has_base  ?base .\n",
    "    }\n",
    "\"\"\"\n",
    "for triple in pizza_bisou_g.query(q_construct_pizza): # This query is made over the pizza graph\n",
    "    map_to_ir_onto_g.add(triple)"
   ]
  },
  {
   "cell_type": "markdown",
   "metadata": {},
   "source": [
    "More than just OWL named individuals, some nodes in our data graph are actually of type part of a taxonomy, i.e., pizza topping, base, kinds or spiciness.\n",
    "\n",
    "Let us group the categories by their taxonomies. For each top category, we will assert the top category and its children (has subcategory) as an instance of the corresponding top category class.\n",
    "\n",
    "Some remarks:\n",
    "- We could use RDFS reasoning by declaring a domain and a range for each object property. But it is a way more restrictive approach that we might not want."
   ]
  },
  {
   "cell_type": "code",
   "execution_count": 22,
   "metadata": {},
   "outputs": [],
   "source": [
    "q_construct_pizza_kinds = \"\"\"\n",
    "    CONSTRUCT {\n",
    "        ?kind   rdf:type    pizza:PizzaKind .\n",
    "    } WHERE {\n",
    "        pizza:_pizzaKind  pizza:has_subcategory*  ?kind .\n",
    "    }\n",
    "\"\"\"\n",
    "for triple in taxonomies_g.query(q_construct_pizza_kinds): # This query is made over the taxonomies graph\n",
    "    map_to_ir_onto_g.add(triple)\n",
    "\n",
    "q_construct_pizza_bases = \"\"\"\n",
    "    CONSTRUCT {\n",
    "        ?base   rdf:type    pizza:PizzaBase .\n",
    "    } WHERE {\n",
    "        pizza:_pizzaBase  pizza:has_subcategory*  ?base .\n",
    "    }\n",
    "\"\"\"\n",
    "for triple in taxonomies_g.query(q_construct_pizza_bases): # This query is made over the taxonomies graph\n",
    "    map_to_ir_onto_g.add(triple)\n",
    "\n",
    "q_construct_pizza_spiciness = \"\"\"\n",
    "    CONSTRUCT {\n",
    "        ?kind   rdf:type    pizza:PizzaSpiciness .\n",
    "    } WHERE {\n",
    "        pizza:_pizzaSpiciness  pizza:has_subcategory*  ?kind .\n",
    "    }\n",
    "\"\"\"\n",
    "for triple in taxonomies_g.query(q_construct_pizza_spiciness): # This query is made over the taxonomies graph\n",
    "    map_to_ir_onto_g.add(triple)\n",
    "\n",
    "q_construct_pizza_toppings = \"\"\"\n",
    "    CONSTRUCT {\n",
    "        ?topping   rdf:type    pizza:PizzaTopping .\n",
    "    } WHERE {\n",
    "        pizza:_pizzaToppings  pizza:has_subcategory*  ?topping .\n",
    "    }\n",
    "\"\"\"\n",
    "for triple in taxonomies_g.query(q_construct_pizza_toppings): # This query is made over the taxonomies graph\n",
    "    map_to_ir_onto_g.add(triple)"
   ]
  },
  {
   "cell_type": "markdown",
   "metadata": {},
   "source": [
    "We now map our data graph more specifically to the IR ontology:\n",
    "- The taxonomies data graph has subcategory relation is equivalent to the one in the IR ontology.\n",
    "- Each of the pizza data graph relations are used to categorise the pizzas."
   ]
  },
  {
   "cell_type": "code",
   "execution_count": 23,
   "metadata": {},
   "outputs": [
    {
     "data": {
      "text/plain": [
       "<Graph identifier=Ne904bddecee543318b86d3f79b19d9c8 (<class 'rdflib.graph.Graph'>)>"
      ]
     },
     "execution_count": 23,
     "metadata": {},
     "output_type": "execute_result"
    }
   ],
   "source": [
    "# The pizza:has_subcategory relation is the same as the IR ontology one\n",
    "map_to_ir_onto_g.add((pizza_ns.has_subcategory, OWL.equivalentProperty, ir_onto_ns.hasDirectSubcategory))\n",
    "\n",
    "# In our example the relations in our data graph categorizing the pizzas are has_topping, has_kind, has_spiciness, has_base.\n",
    "map_to_ir_onto_g.add((pizza_ns.has_spiciness, RDFS.subPropertyOf, ir_onto_ns.categorisedBy))\n",
    "map_to_ir_onto_g.add((pizza_ns.has_kind, RDFS.subPropertyOf, ir_onto_ns.categorisedBy))\n",
    "map_to_ir_onto_g.add((pizza_ns.has_topping, RDFS.subPropertyOf, ir_onto_ns.categorisedBy))\n",
    "map_to_ir_onto_g.add((pizza_ns.has_base, RDFS.subPropertyOf, ir_onto_ns.categorisedBy))"
   ]
  },
  {
   "cell_type": "code",
   "execution_count": 24,
   "metadata": {},
   "outputs": [],
   "source": [
    "# The KG is the combination of the data and domain graphs, and the mapping between both\n",
    "knowledge_graph = data_graph + map_to_ir_onto_g + domain_graph "
   ]
  },
  {
   "cell_type": "code",
   "execution_count": 38,
   "metadata": {},
   "outputs": [
    {
     "data": {
      "text/plain": [
       "<Graph identifier=Nd4f24655f06d41a78bace957a78462f6 (<class 'rdflib.graph.Graph'>)>"
      ]
     },
     "execution_count": 38,
     "metadata": {},
     "output_type": "execute_result"
    }
   ],
   "source": [
    "# Save each part of the domain and data graphs separately so you can explore them in a visualisation software.\n",
    "# domain_graph.serialize(destination=\"./data/pizzas_bisou_domain_g.ttl\", format=\"turtle\")\n",
    "# map_to_ir_onto_g.serialize(destination=\"./data/pizzas_bisou_map_to_ir_onto.ttl\", format=\"turtle\")\n",
    "# knowledge_graph.serialize(destination=\"./data/pizza_bisou_kg.ttl\", format=\"turtle\")"
   ]
  },
  {
   "cell_type": "markdown",
   "metadata": {},
   "source": [
    "## Information Retrieval Ontology usage examples\n",
    "\n",
    "Let us now see some examples of what can we do with the IR ontology.\n",
    "\n",
    "For these demos, we will use a triple-store database in a server. \n",
    "\n",
    "These demos require OWL inference at query time. We chose the OntoText GraphDB triple store (v10.4.0): <https://graphdb.ontotext.com/documentation/10.0/index.html>. Hence, some pieces of code might be specific to the GraphDB APIs. We will flag those as much as possible. Once the docker container runs, you can see their Web API documentation here: <http://localhost:7200/webapi>.\n",
    "However, GraphDB implements the RDF4J REST API specification (<https://rdf4j.org/documentation/reference/rest-api/>). So we will make use of it as much as possible.\n",
    "\n",
    "We use the Docker GraphDB instance without any license (the GraphDB Free version). Hence, you must install and run Docker on your computer (See Docker installation procedure: <https://docs.docker.com/get-docker/>). Let us start from there.\n",
    "\n",
    "1. Download the GraphDB image: `docker pull ontotext/graphdb:10.4.0`\n",
    "   - OntoText related documentation pointers:\n",
    "     - <https://github.com/Ontotext-AD/graphdb-docker>\n",
    "     - <https://hub.docker.com/r/ontotext/graphdb/>\n",
    "2. Run the image: `docker run -p 127.0.0.1:7200:7200 --name graphdb-ir-onto -t ontotext/graphdb:10.4.0`\n",
    "3. From now on, the rest is in the code."
   ]
  },
  {
   "cell_type": "code",
   "execution_count": 27,
   "metadata": {},
   "outputs": [
    {
     "name": "stdout",
     "output_type": "stream",
     "text": [
      "426747d5c373b23932c43d5fdd3e842b1bfe94343a0c34371a83f16d0a5c8929\n"
     ]
    }
   ],
   "source": [
    "!docker run -d -p 127.0.0.1:7200:7200 --name graphdb-ir-onto -t ontotext/graphdb:10.4.0"
   ]
  },
  {
   "cell_type": "code",
   "execution_count": 28,
   "metadata": {},
   "outputs": [
    {
     "name": "stdout",
     "output_type": "stream",
     "text": [
      "201\n",
      "\n",
      "200\n",
      "uri,id,title,readable,writable\n",
      "http://localhost:7200/repositories/ir-onto-demo,ir-onto-demo,,true,true\n",
      "\n"
     ]
    }
   ],
   "source": [
    "# Setting up the repository we will work with\n",
    "\n",
    "# Load the repository configuration (WARNING: specific to GraphDB)\n",
    "repo_config_graph = Graph()\n",
    "repo_config_graph.parse(\"./data/ir-onto-demo-graphdb-config.ttl\")\n",
    "repo_config_ttl_string = repo_config_graph.serialize(format=\"turtle\")\n",
    "\n",
    "headers = {\n",
    "    \"Accept\": \"application/json\",\n",
    "}\n",
    "data = {\n",
    "    \"config\": (\"config.ttl\", repo_config_ttl_string)\n",
    "}\n",
    "\n",
    "# Uses the GraphDB REST API (WARNING: specific to GraphDB)\n",
    "r = requests.post(\"http://localhost:7200/rest/repositories\", headers=headers, files=data)\n",
    "print(r.status_code)\n",
    "print(r.text)\n",
    "\n",
    "# Check that the repository is created\n",
    "r = requests.get('http://localhost:7200/repositories', headers={\"Content-type\": \"application/rdf+xml\"})\n",
    "print(r.status_code)\n",
    "print(r.text)\n",
    "\n",
    "# Define the server info for future interactions\n",
    "DB_IP = \"localhost\"\n",
    "DB_PORT = \"7200\"\n",
    "DB_URL = f\"http://{DB_IP}:{DB_PORT}\"\n",
    "REPOSITORY_ID = \"ir-onto-demo\"\n",
    "\n",
    "demo_ns_manager = knowledge_graph.namespace_manager"
   ]
  },
  {
   "cell_type": "code",
   "execution_count": 29,
   "metadata": {},
   "outputs": [
    {
     "name": "stdout",
     "output_type": "stream",
     "text": [
      "OK\n"
     ]
    }
   ],
   "source": [
    "# Lets add the pizza taxonomies to our DB\n",
    "insert_graph(graph=knowledge_graph, db_url=DB_URL, repo_id=REPOSITORY_ID)"
   ]
  },
  {
   "cell_type": "markdown",
   "metadata": {},
   "source": [
    "### Let us add some user searches"
   ]
  },
  {
   "cell_type": "code",
   "execution_count": 30,
   "metadata": {},
   "outputs": [
    {
     "data": {
      "text/plain": [
       "<Graph identifier=N40b899249a03455dbc9e3869700efd1a (<class 'rdflib.graph.Graph'>)>"
      ]
     },
     "execution_count": 30,
     "metadata": {},
     "output_type": "execute_result"
    }
   ],
   "source": [
    "searches_graph = Graph()\n",
    "searches_graph.bind(prefix=\"pizza\", namespace=pizza_ns)\n",
    "searches_graph.bind(prefix=\"ir-onto\", namespace=ir_onto_ns)\n",
    "\n",
    "searches_graph.add((pizza_ns._meatyToppingSearch, RDF.type, ir_onto_ns.Search))\n",
    "searches_graph.add((pizza_ns._meatyToppingSearch, ir_onto_ns.hasSearchCategory, pizza_ns._meat))\n",
    "\n",
    "searches_graph.add((pizza_ns._onionMushroomToppingSearch, RDF.type, ir_onto_ns.Search))\n",
    "searches_graph.add((pizza_ns._onionMushroomToppingSearch, ir_onto_ns.hasSearchCategory, pizza_ns._onion))\n",
    "searches_graph.add((pizza_ns._onionMushroomToppingSearch, ir_onto_ns.hasSearchCategory, pizza_ns._mushroom))\n",
    "\n",
    "searches_graph.add((pizza_ns._hamToppingSearch, RDF.type, ir_onto_ns.Search))\n",
    "searches_graph.add((pizza_ns._hamToppingSearch, ir_onto_ns.hasSearchCategory, pizza_ns._ham))\n",
    "\n",
    "searches_graph.add((pizza_ns._veggieSearch, RDF.type, ir_onto_ns.Search))\n",
    "searches_graph.add((pizza_ns._veggieSearch, ir_onto_ns.hasSearchCategory, pizza_ns._vegetarianPizza))"
   ]
  },
  {
   "cell_type": "code",
   "execution_count": 31,
   "metadata": {},
   "outputs": [
    {
     "data": {
      "image/png": "[encoded data removed]",
      "text/plain": [
       "<Figure size 640x480 with 1 Axes>"
      ]
     },
     "metadata": {},
     "output_type": "display_data"
    }
   ],
   "source": [
    "show_graph_portion({pizza_ns._meatyToppingSearch, pizza_ns._onionMushroomToppingSearch}, graph=searches_graph)"
   ]
  },
  {
   "cell_type": "code",
   "execution_count": 32,
   "metadata": {},
   "outputs": [
    {
     "name": "stdout",
     "output_type": "stream",
     "text": [
      "OK\n"
     ]
    }
   ],
   "source": [
    "# Lets add the searches to our DB\n",
    "insert_graph(graph=searches_graph, db_url=DB_URL, repo_id=REPOSITORY_ID)"
   ]
  },
  {
   "cell_type": "code",
   "execution_count": 33,
   "metadata": {},
   "outputs": [],
   "source": [
    "# Encapsulate some SPARQL queries to make easier switching a search to be the search context and removing it. \n",
    "def make_search_the_context(user_search_uri: str) -> None:\n",
    "    query = f\"\"\"\n",
    "        PREFIX ir-onto: <http://www.msesboue.org/o/ir-ontology#>\n",
    "        INSERT DATA {{\n",
    "            <{user_search_uri}> a ir-onto:SearchContext .\n",
    "        }}\n",
    "    \"\"\"\n",
    "\n",
    "    sparql_update(sparql_query=query, db_url=DB_URL, repo_id=REPOSITORY_ID)\n",
    "\n",
    "def remove_search_as_context(user_search_uri: str) -> None:\n",
    "    query = f\"\"\"\n",
    "        PREFIX ir-onto: <http://www.msesboue.org/o/ir-ontology#>\n",
    "        DELETE DATA {{\n",
    "            <{user_search_uri}> a ir-onto:SearchContext .\n",
    "        }}\n",
    "    \"\"\"\n",
    "\n",
    "    sparql_update(sparql_query=query, db_url=DB_URL, repo_id=REPOSITORY_ID)"
   ]
  },
  {
   "cell_type": "code",
   "execution_count": 34,
   "metadata": {},
   "outputs": [
    {
     "name": "stdout",
     "output_type": "stream",
     "text": [
      "OK\n",
      "Instances of http://www.msesboue.org/o/ir-ontology#SelectedCategory\n",
      "pizza:_rostelloHamWithHerbs\n",
      "pizza:_parmaHam\n",
      "pizza:_jambonDeParisWithHerbs\n",
      "pizza:_spianataPiccante\n",
      "pizza:_speck\n",
      "pizza:_bresaola\n",
      "pizza:_meat\n",
      "pizza:_jambonDeParisWithBlackTruffle\n",
      "pizza:_ham\n",
      "pizza:_mortadella\n",
      "\n",
      "Instances of http://www.msesboue.org/o/ir-ontology#EnabledCategory\n",
      "pizza:_rostelloHamWithHerbs\n",
      "pizza:_parmaHam\n",
      "pizza:_jambonDeParisWithHerbs\n",
      "pizza:_spianataPiccante\n",
      "pizza:_speck\n",
      "pizza:_bresaola\n",
      "pizza:_jambonDeParisWithBlackTruffle\n",
      "pizza:_ham\n",
      "pizza:_mortadella\n",
      "\n",
      "Instances of http://www.msesboue.org/o/ir-ontology#CandidateDocument\n",
      "pizza:_bambino\n",
      "pizza:_burraTadah\n",
      "pizza:_godSaveTheKing\n",
      "pizza:_hotStuff40\n",
      "pizza:_laVieEnRose\n",
      "pizza:_leonardo\n",
      "pizza:_tartufo\n",
      "pizza:_zucchero\n",
      "pizza:_mortadella\n",
      "\n",
      "OK\n"
     ]
    }
   ],
   "source": [
    "search_context = pizza_ns._meatyToppingSearch\n",
    "\n",
    "make_search_the_context(user_search_uri=str(search_context))\n",
    "\n",
    "show_instances(class_uri=str(ir_onto_ns.SelectedCategory), ns_manager=demo_ns_manager, db_url=DB_URL, repo_id=REPOSITORY_ID, limit=10)\n",
    "show_instances(class_uri=str(ir_onto_ns.EnabledCategory), ns_manager=demo_ns_manager, db_url=DB_URL, repo_id=REPOSITORY_ID, limit=10)\n",
    "show_instances(class_uri=str(ir_onto_ns.CandidateDocument), ns_manager=demo_ns_manager, db_url=DB_URL, repo_id=REPOSITORY_ID, limit=10)\n",
    "\n",
    "remove_search_as_context(user_search_uri=str(search_context))"
   ]
  },
  {
   "cell_type": "code",
   "execution_count": 35,
   "metadata": {},
   "outputs": [
    {
     "name": "stdout",
     "output_type": "stream",
     "text": [
      "OK\n",
      "Instances of http://www.msesboue.org/o/ir-ontology#SelectedCategory\n",
      "pizza:_carpaccioChampignonDeParis\n",
      "pizza:_redOnion\n",
      "pizza:_champignonDeParis\n",
      "pizza:_mushroom\n",
      "pizza:_onion\n",
      "\n",
      "Instances of http://www.msesboue.org/o/ir-ontology#EnabledCategory\n",
      "pizza:_carpaccioChampignonDeParis\n",
      "pizza:_redOnion\n",
      "pizza:_champignonDeParis\n",
      "\n",
      "Instances of http://www.msesboue.org/o/ir-ontology#CandidateDocument\n",
      "pizza:_godSaveTheKing\n",
      "pizza:_laVieEnRose\n",
      "pizza:_tartufo\n",
      "\n",
      "OK\n"
     ]
    }
   ],
   "source": [
    "search_context = pizza_ns._onionMushroomToppingSearch\n",
    "\n",
    "make_search_the_context(user_search_uri=str(search_context))\n",
    "\n",
    "show_instances(class_uri=str(ir_onto_ns.SelectedCategory), ns_manager=demo_ns_manager, db_url=DB_URL, repo_id=REPOSITORY_ID, limit=10)\n",
    "show_instances(class_uri=str(ir_onto_ns.EnabledCategory), ns_manager=demo_ns_manager, db_url=DB_URL, repo_id=REPOSITORY_ID, limit=10)\n",
    "show_instances(class_uri=str(ir_onto_ns.CandidateDocument), ns_manager=demo_ns_manager, db_url=DB_URL, repo_id=REPOSITORY_ID, limit=10)\n",
    "\n",
    "remove_search_as_context(user_search_uri=str(search_context))"
   ]
  },
  {
   "cell_type": "code",
   "execution_count": 36,
   "metadata": {},
   "outputs": [
    {
     "name": "stdout",
     "output_type": "stream",
     "text": [
      "OK\n",
      "Instances of http://www.msesboue.org/o/ir-ontology#SelectedCategory\n",
      "pizza:_rostelloHamWithHerbs\n",
      "pizza:_jambonDeParisWithHerbs\n",
      "pizza:_jambonDeParisWithBlackTruffle\n",
      "pizza:_ham\n",
      "\n",
      "Instances of http://www.msesboue.org/o/ir-ontology#EnabledCategory\n",
      "pizza:_rostelloHamWithHerbs\n",
      "pizza:_jambonDeParisWithHerbs\n",
      "pizza:_jambonDeParisWithBlackTruffle\n",
      "\n",
      "Instances of http://www.msesboue.org/o/ir-ontology#CandidateDocument\n",
      "pizza:_bambino\n",
      "pizza:_godSaveTheKing\n",
      "pizza:_tartufo\n",
      "\n",
      "OK\n"
     ]
    }
   ],
   "source": [
    "search_context = pizza_ns._hamToppingSearch\n",
    "\n",
    "make_search_the_context(user_search_uri=str(search_context))\n",
    "\n",
    "show_instances(class_uri=str(ir_onto_ns.SelectedCategory), ns_manager=demo_ns_manager, db_url=DB_URL, repo_id=REPOSITORY_ID, limit=10)\n",
    "show_instances(class_uri=str(ir_onto_ns.EnabledCategory), ns_manager=demo_ns_manager, db_url=DB_URL, repo_id=REPOSITORY_ID, limit=10)\n",
    "show_instances(class_uri=str(ir_onto_ns.CandidateDocument), ns_manager=demo_ns_manager, db_url=DB_URL, repo_id=REPOSITORY_ID, limit=10)\n",
    "\n",
    "remove_search_as_context(user_search_uri=str(search_context))"
   ]
  },
  {
   "cell_type": "code",
   "execution_count": 37,
   "metadata": {},
   "outputs": [
    {
     "name": "stdout",
     "output_type": "stream",
     "text": [
      "OK\n",
      "Instances of http://www.msesboue.org/o/ir-ontology#SelectedCategory\n",
      "pizza:_vegetarianPizza\n",
      "\n",
      "Instances of http://www.msesboue.org/o/ir-ontology#EnabledCategory\n",
      "\n",
      "Instances of http://www.msesboue.org/o/ir-ontology#CandidateDocument\n",
      "pizza:_biancaCastafiore\n",
      "pizza:_margherita20\n",
      "pizza:_quatroFromaggi\n",
      "\n",
      "OK\n"
     ]
    }
   ],
   "source": [
    "search_context = pizza_ns._veggieSearch\n",
    "\n",
    "make_search_the_context(user_search_uri=str(search_context))\n",
    "\n",
    "show_instances(class_uri=str(ir_onto_ns.SelectedCategory), ns_manager=demo_ns_manager, db_url=DB_URL, repo_id=REPOSITORY_ID, limit=10)\n",
    "show_instances(class_uri=str(ir_onto_ns.EnabledCategory), ns_manager=demo_ns_manager, db_url=DB_URL, repo_id=REPOSITORY_ID, limit=10)\n",
    "show_instances(class_uri=str(ir_onto_ns.CandidateDocument), ns_manager=demo_ns_manager, db_url=DB_URL, repo_id=REPOSITORY_ID, limit=10)\n",
    "\n",
    "remove_search_as_context(user_search_uri=str(search_context))\n",
    "\n",
    "# According to the Bisou menu, the vegetarian pizzas are:\n",
    "# - The Margherita 2.0\n",
    "# - The 4 Formaggi\n",
    "# - The Bianca Castafiore"
   ]
  }
 ],
 "metadata": {
  "kernelspec": {
   "display_name": "ir-onto-venv",
   "language": "python",
   "name": "python3"
  },
  "language_info": {
   "codemirror_mode": {
    "name": "ipython",
    "version": 3
   },
   "file_extension": ".py",
   "mimetype": "text/x-python",
   "name": "python",
   "nbconvert_exporter": "python",
   "pygments_lexer": "ipython3",
   "version": "3.10.4"
  }
 },
 "nbformat": 4,
 "nbformat_minor": 2
}
