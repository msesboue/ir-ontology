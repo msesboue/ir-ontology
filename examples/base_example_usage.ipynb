{
 "cells": [
  {
   "cell_type": "code",
   "execution_count": 56,
   "metadata": {},
   "outputs": [],
   "source": [
    "from rdflib import Graph, URIRef\n",
    "from rdflib.namespace import Namespace, OWL, RDF, RDFS\n",
    "import subprocess"
   ]
  },
  {
   "cell_type": "code",
   "execution_count": 57,
   "metadata": {},
   "outputs": [],
   "source": [
    "g = Graph()\n",
    "\n",
    "g.parse(\"../information-retrieval-ontology.ttl\")\n",
    "\n",
    "ir_onto_ns = Namespace(\"http://www.msesboue.org/o/ir-ontology#\")\n",
    "g.bind(prefix=\"ir-onto\", namespace=ir_onto_ns)"
   ]
  },
  {
   "cell_type": "code",
   "execution_count": null,
   "metadata": {},
   "outputs": [],
   "source": [
    "# for s,p,o in g:\n",
    "#     print(s.n3(g.namespace_manager),p.n3(g.namespace_manager),o.n3(g.namespace_manager))"
   ]
  },
  {
   "cell_type": "code",
   "execution_count": 1,
   "metadata": {},
   "outputs": [
    {
     "ename": "NameError",
     "evalue": "name 'OWL' is not defined",
     "output_type": "error",
     "traceback": [
      "\u001b[1;31m---------------------------------------------------------------------------\u001b[0m",
      "\u001b[1;31mNameError\u001b[0m                                 Traceback (most recent call last)",
      "\u001b[1;32mc:\\Users\\msesboue\\Documents\\mindWork\\ir-ontology\\examples\\base_example_usage.ipynb Cell 4\u001b[0m line \u001b[0;36m2\n\u001b[0;32m      <a href='vscode-notebook-cell:/c%3A/Users/msesboue/Documents/mindWork/ir-ontology/examples/base_example_usage.ipynb#W3sZmlsZQ%3D%3D?line=0'>1</a>\u001b[0m query_namespaces \u001b[39m=\u001b[39m {\n\u001b[1;32m----> <a href='vscode-notebook-cell:/c%3A/Users/msesboue/Documents/mindWork/ir-ontology/examples/base_example_usage.ipynb#W3sZmlsZQ%3D%3D?line=1'>2</a>\u001b[0m     \u001b[39m\"\u001b[39m\u001b[39mowl\u001b[39m\u001b[39m\"\u001b[39m: OWL,\n\u001b[0;32m      <a href='vscode-notebook-cell:/c%3A/Users/msesboue/Documents/mindWork/ir-ontology/examples/base_example_usage.ipynb#W3sZmlsZQ%3D%3D?line=2'>3</a>\u001b[0m     \u001b[39m\"\u001b[39m\u001b[39mrdf\u001b[39m\u001b[39m\"\u001b[39m: RDF,\n\u001b[0;32m      <a href='vscode-notebook-cell:/c%3A/Users/msesboue/Documents/mindWork/ir-ontology/examples/base_example_usage.ipynb#W3sZmlsZQ%3D%3D?line=3'>4</a>\u001b[0m     \u001b[39m\"\u001b[39m\u001b[39mRDFS\u001b[39m\u001b[39m\"\u001b[39m: RDFS,\n\u001b[0;32m      <a href='vscode-notebook-cell:/c%3A/Users/msesboue/Documents/mindWork/ir-ontology/examples/base_example_usage.ipynb#W3sZmlsZQ%3D%3D?line=4'>5</a>\u001b[0m     \u001b[39m\"\u001b[39m\u001b[39mir-onto\u001b[39m\u001b[39m\"\u001b[39m: ir_onto_ns\n\u001b[0;32m      <a href='vscode-notebook-cell:/c%3A/Users/msesboue/Documents/mindWork/ir-ontology/examples/base_example_usage.ipynb#W3sZmlsZQ%3D%3D?line=5'>6</a>\u001b[0m }\n\u001b[0;32m      <a href='vscode-notebook-cell:/c%3A/Users/msesboue/Documents/mindWork/ir-ontology/examples/base_example_usage.ipynb#W3sZmlsZQ%3D%3D?line=6'>7</a>\u001b[0m q \u001b[39m=\u001b[39m \u001b[39m\"\"\"\u001b[39m\n\u001b[0;32m      <a href='vscode-notebook-cell:/c%3A/Users/msesboue/Documents/mindWork/ir-ontology/examples/base_example_usage.ipynb#W3sZmlsZQ%3D%3D?line=7'>8</a>\u001b[0m \u001b[39m    SELECT ?p\u001b[39m\n\u001b[0;32m      <a href='vscode-notebook-cell:/c%3A/Users/msesboue/Documents/mindWork/ir-ontology/examples/base_example_usage.ipynb#W3sZmlsZQ%3D%3D?line=8'>9</a>\u001b[0m \u001b[39m    WHERE \u001b[39m\u001b[39m{\u001b[39m\n\u001b[0;32m     <a href='vscode-notebook-cell:/c%3A/Users/msesboue/Documents/mindWork/ir-ontology/examples/base_example_usage.ipynb#W3sZmlsZQ%3D%3D?line=9'>10</a>\u001b[0m \u001b[39m        ?p rdf:type owl:Class .\u001b[39m\n\u001b[0;32m     <a href='vscode-notebook-cell:/c%3A/Users/msesboue/Documents/mindWork/ir-ontology/examples/base_example_usage.ipynb#W3sZmlsZQ%3D%3D?line=10'>11</a>\u001b[0m \u001b[39m    }\u001b[39m\n\u001b[0;32m     <a href='vscode-notebook-cell:/c%3A/Users/msesboue/Documents/mindWork/ir-ontology/examples/base_example_usage.ipynb#W3sZmlsZQ%3D%3D?line=11'>12</a>\u001b[0m \u001b[39m\"\"\"\u001b[39m\n\u001b[0;32m     <a href='vscode-notebook-cell:/c%3A/Users/msesboue/Documents/mindWork/ir-ontology/examples/base_example_usage.ipynb#W3sZmlsZQ%3D%3D?line=12'>13</a>\u001b[0m \u001b[39m# Apply the query to the graph and iterate through results\u001b[39;00m\n",
      "\u001b[1;31mNameError\u001b[0m: name 'OWL' is not defined"
     ]
    }
   ],
   "source": [
    "query_namespaces = {\n",
    "    \"owl\": OWL,\n",
    "    \"rdf\": RDF,\n",
    "    \"RDFS\": RDFS,\n",
    "    \"ir-onto\": ir_onto_ns\n",
    "}\n",
    "q = \"\"\"\n",
    "    SELECT ?p\n",
    "    WHERE {\n",
    "        ?p rdf:type owl:Class .\n",
    "    }\n",
    "\"\"\"\n",
    "# Apply the query to the graph and iterate through results\n",
    "for r in g.query(q, initBindings=query_namespaces):\n",
    "    print(r[\"p\"].n3(g.namespace_manager))"
   ]
  },
  {
   "cell_type": "code",
   "execution_count": 66,
   "metadata": {},
   "outputs": [
    {
     "name": "stdout",
     "output_type": "stream",
     "text": [
      "ir-onto:categorizedBy\n",
      "ir-onto:categorizes\n",
      "ir-onto:enablesCategory\n",
      "ir-onto:hasContextCategory\n",
      "ir-onto:hasSubcategory\n",
      "ir-onto:hasSupercategory\n",
      "ir-onto:isMemberOf\n"
     ]
    }
   ],
   "source": [
    "q = \"\"\"\n",
    "    SELECT ?p\n",
    "    WHERE {\n",
    "        ?p rdf:type owl:ObjectProperty .\n",
    "    }\n",
    "\"\"\"\n",
    "\n",
    "# Apply the query to the graph and iterate through results\n",
    "for r in g.query(q, initBindings=query_namespaces):\n",
    "    print(r[\"p\"].n3(g.namespace_manager))"
   ]
  },
  {
   "cell_type": "code",
   "execution_count": null,
   "metadata": {},
   "outputs": [],
   "source": [
    "def add_some_categories(g: Graph) -> None:\n",
    "     "
   ]
  },
  {
   "cell_type": "code",
   "execution_count": null,
   "metadata": {},
   "outputs": [],
   "source": [
    "# For inference we leverage the ROBOT CLI tool from the OBO library: <http://robot.obolibrary.org/> \n",
    "JAVA_EXE = \"C:\\\\Program Files\\\\Common Files\\\\Oracle\\\\Java\\\\javapath\\\\java.exe\" # java executable path\n",
    "ROBOT_JAR = \"C:\\\\Users\\\\msesboue\\\\Documents\\\\\\software_tools\\\\robot\\\\robot.jar\" # path to the robot.jar file\n",
    "REASONER = \"\" # should be on of [\"ELK\", \"jfact\", \"hermit\", \"whelk\", \"emr\", \"structural\"]\n",
    "\n",
    "\n",
    "def run_inference(g: Graph, reasoner: str=\"ELK\") -> Graph:\n",
    "    error_output = \"\"\n",
    "\n",
    "    graph_temp_file = \"\"\n",
    "    inferred_graph_temp_file = \"\"\n",
    "\n",
    "    robot_command = [\n",
    "        JAVA_EXE,\n",
    "        \"-jar\",\n",
    "        ROBOT_JAR,\n",
    "        \"reason\",\n",
    "        \"--reasoner\",\n",
    "        reasoner,\n",
    "        \"--annotate-inferred-axioms\",\n",
    "        \"true\",\n",
    "        \"--input\",\n",
    "        graph_temp_file,\n",
    "        \"--output\",\n",
    "        inferred_graph_temp_file\n",
    "    ]\n",
    "\n",
    "    try:\n",
    "        output = subprocess.check_output(\n",
    "            robot_command, stderr=subprocess.STDOUT)\n",
    "    except subprocess.CalledProcessError as e:\n",
    "        error_output = e.output.decode()\n",
    "        print(error_output)\n",
    "\n",
    "    inferred_graph = Graph()\n",
    "\n",
    "    inferred_graph.parse(inferred_graph_temp_file)\n",
    "\n",
    "    return inferred_graph"
   ]
  },
  {
   "cell_type": "markdown",
   "metadata": {},
   "source": [
    "For the version leveraging a server: Use Ontotext Free GraphDB Docker image + the RDF4J API (https://rdf4j.org/documentation/reference/rest-api/)\n",
    "\n",
    "directly build the taxonomy file from the pizza ontology.\n",
    "Load and merge both graphs and then run queries.\n",
    "\n",
    "Demonstrate:\n",
    "- Update the query context (i.e., the user query) but the query to fetch the categories and documents are always the same.\n",
    "- Create the categories a la mano first, then merge two ontologies\n",
    "- directly use the pizza onto with de \"C-box\" pattern"
   ]
  }
 ],
 "metadata": {
  "kernelspec": {
   "display_name": "venv",
   "language": "python",
   "name": "python3"
  },
  "language_info": {
   "codemirror_mode": {
    "name": "ipython",
    "version": 3
   },
   "file_extension": ".py",
   "mimetype": "text/x-python",
   "name": "python",
   "nbconvert_exporter": "python",
   "pygments_lexer": "ipython3",
   "version": "3.10.4"
  }
 },
 "nbformat": 4,
 "nbformat_minor": 2
}
